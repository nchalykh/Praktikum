{
  "nbformat": 4,
  "nbformat_minor": 0,
  "metadata": {
    "colab": {
      "name": "b0ecfa39-aa26-4bcf-9c56-9ecbfef2d80d.ipynb",
      "provenance": [],
      "collapsed_sections": []
    },
    "kernelspec": {
      "display_name": "Python 3",
      "language": "python",
      "name": "python3"
    },
    "language_info": {
      "codemirror_mode": {
        "name": "ipython",
        "version": 3
      },
      "file_extension": ".py",
      "mimetype": "text/x-python",
      "name": "python",
      "nbconvert_exporter": "python",
      "pygments_lexer": "ipython3",
      "version": "3.7.8"
    },
    "toc": {
      "base_numbering": 1,
      "nav_menu": {},
      "number_sections": true,
      "sideBar": true,
      "skip_h1_title": true,
      "title_cell": "Table of Contents",
      "title_sidebar": "Contents",
      "toc_cell": false,
      "toc_position": {},
      "toc_section_display": true,
      "toc_window_display": false
    }
  },
  "cells": [
    {
      "cell_type": "markdown",
      "metadata": {
        "id": "83mVeaRgHQ-7"
      },
      "source": [
        "# A/B-тест интернет-магазина\n",
        "**Цель проекта**: проанлизировать гипотезы по увеличению выручки.\n",
        "\n",
        "**Задачи проекта**:\n",
        "- Приоритизировать гипотезы отдела маркетинга по увеличению выручки;\n",
        "- Исследовать накопительные метрики среднего чека и конверсии;\n",
        "- Провести A/B-тест по данным с выбросами и без них;\n",
        "- Определить, стоит ли продолжать тестирвоание.\n",
        "\n",
        "Для реализации проекта будут использованы: данные Яндекс.Афиши с июня 2017 по конец мая 2018 года и инструменты Python.\n",
        "\n",
        "**Этапы исследования**:\n",
        "1. [Подготовка данных](#preanalysis)\n",
        "2. [Приоритезация гипотез](#hypothesis)\n",
        "3. [Анализ А/В-теста](#ab-analysis)\n",
        "    - [Исследование стабильности кумулятивных метрик](#cummulative)\n",
        "    - [Анализ выбросов](#quality)\n",
        "    - [Изучение А/В-теста по \"сырым\" данным](#rawdata)  \n",
        "    - [Изучение А/В-теста по \"очищенным\" данным](#cleardata)\n",
        "4. [Вывод и рекомендации](#conclusion)"
      ]
    },
    {
      "cell_type": "markdown",
      "metadata": {
        "id": "xTENre47Tw6r"
      },
      "source": [
        "## [Подготовка данных](#preanalysis)"
      ]
    },
    {
      "cell_type": "code",
      "metadata": {
        "id": "zQMHxSwrJDiv"
      },
      "source": [
        "import pandas as pd\n",
        "import numpy as np\n",
        "from matplotlib import pyplot as plt\n",
        "import seaborn as sns\n",
        "import datetime as dt\n",
        "import scipy.stats as stats"
      ],
      "execution_count": 1,
      "outputs": []
    },
    {
      "cell_type": "code",
      "metadata": {
        "colab": {
          "base_uri": "https://localhost:8080/"
        },
        "id": "XwvvS3RIJFO0",
        "outputId": "a4321cc8-c482-4b1a-b7a3-fd6da5509b42"
      },
      "source": [
        "try:\n",
        "    hypothesis = pd.read_csv('/content/hypothesis.csv')\n",
        "except:\n",
        "    hypothesis = pd.read_csv('/datasets/hypothesis.csv')\n",
        "hypothesis.info()"
      ],
      "execution_count": 2,
      "outputs": [
        {
          "output_type": "stream",
          "text": [
            "<class 'pandas.core.frame.DataFrame'>\n",
            "RangeIndex: 9 entries, 0 to 8\n",
            "Data columns (total 5 columns):\n",
            " #   Column      Non-Null Count  Dtype \n",
            "---  ------      --------------  ----- \n",
            " 0   Hypothesis  9 non-null      object\n",
            " 1   Reach       9 non-null      int64 \n",
            " 2   Impact      9 non-null      int64 \n",
            " 3   Confidence  9 non-null      int64 \n",
            " 4   Efforts     9 non-null      int64 \n",
            "dtypes: int64(4), object(1)\n",
            "memory usage: 488.0+ bytes\n"
          ],
          "name": "stdout"
        }
      ]
    },
    {
      "cell_type": "code",
      "metadata": {
        "colab": {
          "base_uri": "https://localhost:8080/",
          "height": 332
        },
        "id": "p49mtE1-kX-3",
        "outputId": "5f65d350-79c5-4000-b5f1-a5c4c741b80c"
      },
      "source": [
        "pd.set_option('display.max_columns', None)\n",
        "pd.options.display.max_colwidth = 150\n",
        "hypothesis"
      ],
      "execution_count": 3,
      "outputs": [
        {
          "output_type": "execute_result",
          "data": {
            "text/html": [
              "<div>\n",
              "<style scoped>\n",
              "    .dataframe tbody tr th:only-of-type {\n",
              "        vertical-align: middle;\n",
              "    }\n",
              "\n",
              "    .dataframe tbody tr th {\n",
              "        vertical-align: top;\n",
              "    }\n",
              "\n",
              "    .dataframe thead th {\n",
              "        text-align: right;\n",
              "    }\n",
              "</style>\n",
              "<table border=\"1\" class=\"dataframe\">\n",
              "  <thead>\n",
              "    <tr style=\"text-align: right;\">\n",
              "      <th></th>\n",
              "      <th>Hypothesis</th>\n",
              "      <th>Reach</th>\n",
              "      <th>Impact</th>\n",
              "      <th>Confidence</th>\n",
              "      <th>Efforts</th>\n",
              "    </tr>\n",
              "  </thead>\n",
              "  <tbody>\n",
              "    <tr>\n",
              "      <th>0</th>\n",
              "      <td>Добавить два новых канала привлечения трафика, что позволит привлекать на 30% больше пользователей</td>\n",
              "      <td>3</td>\n",
              "      <td>10</td>\n",
              "      <td>8</td>\n",
              "      <td>6</td>\n",
              "    </tr>\n",
              "    <tr>\n",
              "      <th>1</th>\n",
              "      <td>Запустить собственную службу доставки, что сократит срок доставки заказов</td>\n",
              "      <td>2</td>\n",
              "      <td>5</td>\n",
              "      <td>4</td>\n",
              "      <td>10</td>\n",
              "    </tr>\n",
              "    <tr>\n",
              "      <th>2</th>\n",
              "      <td>Добавить блоки рекомендаций товаров на сайт интернет магазина, чтобы повысить конверсию и средний чек заказа</td>\n",
              "      <td>8</td>\n",
              "      <td>3</td>\n",
              "      <td>7</td>\n",
              "      <td>3</td>\n",
              "    </tr>\n",
              "    <tr>\n",
              "      <th>3</th>\n",
              "      <td>Изменить структура категорий, что увеличит конверсию, т.к. пользователи быстрее найдут нужный товар</td>\n",
              "      <td>8</td>\n",
              "      <td>3</td>\n",
              "      <td>3</td>\n",
              "      <td>8</td>\n",
              "    </tr>\n",
              "    <tr>\n",
              "      <th>4</th>\n",
              "      <td>Изменить цвет фона главной страницы, чтобы увеличить вовлеченность пользователей</td>\n",
              "      <td>3</td>\n",
              "      <td>1</td>\n",
              "      <td>1</td>\n",
              "      <td>1</td>\n",
              "    </tr>\n",
              "    <tr>\n",
              "      <th>5</th>\n",
              "      <td>Добавить страницу отзывов клиентов о магазине, что позволит увеличить количество заказов</td>\n",
              "      <td>3</td>\n",
              "      <td>2</td>\n",
              "      <td>2</td>\n",
              "      <td>3</td>\n",
              "    </tr>\n",
              "    <tr>\n",
              "      <th>6</th>\n",
              "      <td>Показать на главной странице баннеры с актуальными акциями и распродажами, чтобы увеличить конверсию</td>\n",
              "      <td>5</td>\n",
              "      <td>3</td>\n",
              "      <td>8</td>\n",
              "      <td>3</td>\n",
              "    </tr>\n",
              "    <tr>\n",
              "      <th>7</th>\n",
              "      <td>Добавить форму подписки на все основные страницы, чтобы собрать базу клиентов для email-рассылок</td>\n",
              "      <td>10</td>\n",
              "      <td>7</td>\n",
              "      <td>8</td>\n",
              "      <td>5</td>\n",
              "    </tr>\n",
              "    <tr>\n",
              "      <th>8</th>\n",
              "      <td>Запустить акцию, дающую скидку на товар в день рождения</td>\n",
              "      <td>1</td>\n",
              "      <td>9</td>\n",
              "      <td>9</td>\n",
              "      <td>5</td>\n",
              "    </tr>\n",
              "  </tbody>\n",
              "</table>\n",
              "</div>"
            ],
            "text/plain": [
              "                                                                                                     Hypothesis  \\\n",
              "0            Добавить два новых канала привлечения трафика, что позволит привлекать на 30% больше пользователей   \n",
              "1                                     Запустить собственную службу доставки, что сократит срок доставки заказов   \n",
              "2  Добавить блоки рекомендаций товаров на сайт интернет магазина, чтобы повысить конверсию и средний чек заказа   \n",
              "3           Изменить структура категорий, что увеличит конверсию, т.к. пользователи быстрее найдут нужный товар   \n",
              "4                              Изменить цвет фона главной страницы, чтобы увеличить вовлеченность пользователей   \n",
              "5                      Добавить страницу отзывов клиентов о магазине, что позволит увеличить количество заказов   \n",
              "6          Показать на главной странице баннеры с актуальными акциями и распродажами, чтобы увеличить конверсию   \n",
              "7              Добавить форму подписки на все основные страницы, чтобы собрать базу клиентов для email-рассылок   \n",
              "8                                                       Запустить акцию, дающую скидку на товар в день рождения   \n",
              "\n",
              "   Reach  Impact  Confidence  Efforts  \n",
              "0      3      10           8        6  \n",
              "1      2       5           4       10  \n",
              "2      8       3           7        3  \n",
              "3      8       3           3        8  \n",
              "4      3       1           1        1  \n",
              "5      3       2           2        3  \n",
              "6      5       3           8        3  \n",
              "7     10       7           8        5  \n",
              "8      1       9           9        5  "
            ]
          },
          "metadata": {
            "tags": []
          },
          "execution_count": 3
        }
      ]
    },
    {
      "cell_type": "code",
      "metadata": {
        "colab": {
          "base_uri": "https://localhost:8080/",
          "height": 570
        },
        "id": "JMWOJDlaNTIp",
        "outputId": "2915e6d2-37e0-4ea6-b70e-ce8e254d9819"
      },
      "source": [
        "try:\n",
        "    orders = pd.read_csv('/content/orders.csv',  sep=',')\n",
        "except:\n",
        "    orders = pd.read_csv('/datasets/orders.csv',  sep=',')\n",
        "orders.info()\n",
        "orders.head(10)"
      ],
      "execution_count": 4,
      "outputs": [
        {
          "output_type": "stream",
          "text": [
            "<class 'pandas.core.frame.DataFrame'>\n",
            "RangeIndex: 1197 entries, 0 to 1196\n",
            "Data columns (total 5 columns):\n",
            " #   Column         Non-Null Count  Dtype \n",
            "---  ------         --------------  ----- \n",
            " 0   transactionId  1197 non-null   int64 \n",
            " 1   visitorId      1197 non-null   int64 \n",
            " 2   date           1197 non-null   object\n",
            " 3   revenue        1197 non-null   int64 \n",
            " 4   group          1197 non-null   object\n",
            "dtypes: int64(3), object(2)\n",
            "memory usage: 46.9+ KB\n"
          ],
          "name": "stdout"
        },
        {
          "output_type": "execute_result",
          "data": {
            "text/html": [
              "<div>\n",
              "<style scoped>\n",
              "    .dataframe tbody tr th:only-of-type {\n",
              "        vertical-align: middle;\n",
              "    }\n",
              "\n",
              "    .dataframe tbody tr th {\n",
              "        vertical-align: top;\n",
              "    }\n",
              "\n",
              "    .dataframe thead th {\n",
              "        text-align: right;\n",
              "    }\n",
              "</style>\n",
              "<table border=\"1\" class=\"dataframe\">\n",
              "  <thead>\n",
              "    <tr style=\"text-align: right;\">\n",
              "      <th></th>\n",
              "      <th>transactionId</th>\n",
              "      <th>visitorId</th>\n",
              "      <th>date</th>\n",
              "      <th>revenue</th>\n",
              "      <th>group</th>\n",
              "    </tr>\n",
              "  </thead>\n",
              "  <tbody>\n",
              "    <tr>\n",
              "      <th>0</th>\n",
              "      <td>3667963787</td>\n",
              "      <td>3312258926</td>\n",
              "      <td>2019-08-15</td>\n",
              "      <td>1650</td>\n",
              "      <td>B</td>\n",
              "    </tr>\n",
              "    <tr>\n",
              "      <th>1</th>\n",
              "      <td>2804400009</td>\n",
              "      <td>3642806036</td>\n",
              "      <td>2019-08-15</td>\n",
              "      <td>730</td>\n",
              "      <td>B</td>\n",
              "    </tr>\n",
              "    <tr>\n",
              "      <th>2</th>\n",
              "      <td>2961555356</td>\n",
              "      <td>4069496402</td>\n",
              "      <td>2019-08-15</td>\n",
              "      <td>400</td>\n",
              "      <td>A</td>\n",
              "    </tr>\n",
              "    <tr>\n",
              "      <th>3</th>\n",
              "      <td>3797467345</td>\n",
              "      <td>1196621759</td>\n",
              "      <td>2019-08-15</td>\n",
              "      <td>9759</td>\n",
              "      <td>B</td>\n",
              "    </tr>\n",
              "    <tr>\n",
              "      <th>4</th>\n",
              "      <td>2282983706</td>\n",
              "      <td>2322279887</td>\n",
              "      <td>2019-08-15</td>\n",
              "      <td>2308</td>\n",
              "      <td>B</td>\n",
              "    </tr>\n",
              "    <tr>\n",
              "      <th>5</th>\n",
              "      <td>182168103</td>\n",
              "      <td>935554773</td>\n",
              "      <td>2019-08-15</td>\n",
              "      <td>2210</td>\n",
              "      <td>B</td>\n",
              "    </tr>\n",
              "    <tr>\n",
              "      <th>6</th>\n",
              "      <td>398296753</td>\n",
              "      <td>2900797465</td>\n",
              "      <td>2019-08-15</td>\n",
              "      <td>1860</td>\n",
              "      <td>B</td>\n",
              "    </tr>\n",
              "    <tr>\n",
              "      <th>7</th>\n",
              "      <td>2626614568</td>\n",
              "      <td>78758296</td>\n",
              "      <td>2019-08-15</td>\n",
              "      <td>1044</td>\n",
              "      <td>A</td>\n",
              "    </tr>\n",
              "    <tr>\n",
              "      <th>8</th>\n",
              "      <td>1576988021</td>\n",
              "      <td>295230930</td>\n",
              "      <td>2019-08-15</td>\n",
              "      <td>13710</td>\n",
              "      <td>A</td>\n",
              "    </tr>\n",
              "    <tr>\n",
              "      <th>9</th>\n",
              "      <td>1506739906</td>\n",
              "      <td>1882260405</td>\n",
              "      <td>2019-08-15</td>\n",
              "      <td>1855</td>\n",
              "      <td>B</td>\n",
              "    </tr>\n",
              "  </tbody>\n",
              "</table>\n",
              "</div>"
            ],
            "text/plain": [
              "   transactionId   visitorId        date  revenue group\n",
              "0     3667963787  3312258926  2019-08-15     1650     B\n",
              "1     2804400009  3642806036  2019-08-15      730     B\n",
              "2     2961555356  4069496402  2019-08-15      400     A\n",
              "3     3797467345  1196621759  2019-08-15     9759     B\n",
              "4     2282983706  2322279887  2019-08-15     2308     B\n",
              "5      182168103   935554773  2019-08-15     2210     B\n",
              "6      398296753  2900797465  2019-08-15     1860     B\n",
              "7     2626614568    78758296  2019-08-15     1044     A\n",
              "8     1576988021   295230930  2019-08-15    13710     A\n",
              "9     1506739906  1882260405  2019-08-15     1855     B"
            ]
          },
          "metadata": {
            "tags": []
          },
          "execution_count": 4
        }
      ]
    },
    {
      "cell_type": "code",
      "metadata": {
        "colab": {
          "base_uri": "https://localhost:8080/"
        },
        "id": "eNT4UMA9kX-5",
        "outputId": "0db78205-7617-4825-b7ae-b81ce6c42eca"
      },
      "source": [
        "orders.isna().mean()"
      ],
      "execution_count": 5,
      "outputs": [
        {
          "output_type": "execute_result",
          "data": {
            "text/plain": [
              "transactionId    0.0\n",
              "visitorId        0.0\n",
              "date             0.0\n",
              "revenue          0.0\n",
              "group            0.0\n",
              "dtype: float64"
            ]
          },
          "metadata": {
            "tags": []
          },
          "execution_count": 5
        }
      ]
    },
    {
      "cell_type": "code",
      "metadata": {
        "colab": {
          "base_uri": "https://localhost:8080/"
        },
        "id": "0co98AlCkX-6",
        "outputId": "294c8860-a727-468c-c7a7-d6a9f4f8423b"
      },
      "source": [
        "orders.duplicated().mean()"
      ],
      "execution_count": 6,
      "outputs": [
        {
          "output_type": "execute_result",
          "data": {
            "text/plain": [
              "0.0"
            ]
          },
          "metadata": {
            "tags": []
          },
          "execution_count": 6
        }
      ]
    },
    {
      "cell_type": "code",
      "metadata": {
        "colab": {
          "base_uri": "https://localhost:8080/"
        },
        "id": "ipmDFapNkX-6",
        "outputId": "c60dc2b0-4fd2-4d33-a8b9-5cbde495aeff"
      },
      "source": [
        "orders['date'] = pd.to_datetime(orders['date'], format='%Y-%m-%d')\n",
        "orders['date'].describe()"
      ],
      "execution_count": 7,
      "outputs": [
        {
          "output_type": "stream",
          "text": [
            "/usr/local/lib/python3.7/dist-packages/ipykernel_launcher.py:2: FutureWarning: Treating datetime data as categorical rather than numeric in `.describe` is deprecated and will be removed in a future version of pandas. Specify `datetime_is_numeric=True` to silence this warning and adopt the future behavior now.\n",
            "  \n"
          ],
          "name": "stderr"
        },
        {
          "output_type": "execute_result",
          "data": {
            "text/plain": [
              "count                    1197\n",
              "unique                     31\n",
              "top       2019-08-05 00:00:00\n",
              "freq                       48\n",
              "first     2019-08-01 00:00:00\n",
              "last      2019-08-31 00:00:00\n",
              "Name: date, dtype: object"
            ]
          },
          "metadata": {
            "tags": []
          },
          "execution_count": 7
        }
      ]
    },
    {
      "cell_type": "code",
      "metadata": {
        "colab": {
          "base_uri": "https://localhost:8080/",
          "height": 536
        },
        "id": "iZalWxpMa3Vl",
        "outputId": "87848998-0347-4d9f-97d7-8b8f08d4cfcb"
      },
      "source": [
        "try:\n",
        "    visitors = pd.read_csv('/content/visitors.csv', sep=',')\n",
        "except:\n",
        "    visitors = pd.read_csv('/datasets/visitors.csv',  sep=',')\n",
        "visitors.info()\n",
        "visitors.head(10)"
      ],
      "execution_count": 8,
      "outputs": [
        {
          "output_type": "stream",
          "text": [
            "<class 'pandas.core.frame.DataFrame'>\n",
            "RangeIndex: 62 entries, 0 to 61\n",
            "Data columns (total 3 columns):\n",
            " #   Column    Non-Null Count  Dtype \n",
            "---  ------    --------------  ----- \n",
            " 0   date      62 non-null     object\n",
            " 1   group     62 non-null     object\n",
            " 2   visitors  62 non-null     int64 \n",
            "dtypes: int64(1), object(2)\n",
            "memory usage: 1.6+ KB\n"
          ],
          "name": "stdout"
        },
        {
          "output_type": "execute_result",
          "data": {
            "text/html": [
              "<div>\n",
              "<style scoped>\n",
              "    .dataframe tbody tr th:only-of-type {\n",
              "        vertical-align: middle;\n",
              "    }\n",
              "\n",
              "    .dataframe tbody tr th {\n",
              "        vertical-align: top;\n",
              "    }\n",
              "\n",
              "    .dataframe thead th {\n",
              "        text-align: right;\n",
              "    }\n",
              "</style>\n",
              "<table border=\"1\" class=\"dataframe\">\n",
              "  <thead>\n",
              "    <tr style=\"text-align: right;\">\n",
              "      <th></th>\n",
              "      <th>date</th>\n",
              "      <th>group</th>\n",
              "      <th>visitors</th>\n",
              "    </tr>\n",
              "  </thead>\n",
              "  <tbody>\n",
              "    <tr>\n",
              "      <th>0</th>\n",
              "      <td>2019-08-01</td>\n",
              "      <td>A</td>\n",
              "      <td>719</td>\n",
              "    </tr>\n",
              "    <tr>\n",
              "      <th>1</th>\n",
              "      <td>2019-08-02</td>\n",
              "      <td>A</td>\n",
              "      <td>619</td>\n",
              "    </tr>\n",
              "    <tr>\n",
              "      <th>2</th>\n",
              "      <td>2019-08-03</td>\n",
              "      <td>A</td>\n",
              "      <td>507</td>\n",
              "    </tr>\n",
              "    <tr>\n",
              "      <th>3</th>\n",
              "      <td>2019-08-04</td>\n",
              "      <td>A</td>\n",
              "      <td>717</td>\n",
              "    </tr>\n",
              "    <tr>\n",
              "      <th>4</th>\n",
              "      <td>2019-08-05</td>\n",
              "      <td>A</td>\n",
              "      <td>756</td>\n",
              "    </tr>\n",
              "    <tr>\n",
              "      <th>5</th>\n",
              "      <td>2019-08-06</td>\n",
              "      <td>A</td>\n",
              "      <td>667</td>\n",
              "    </tr>\n",
              "    <tr>\n",
              "      <th>6</th>\n",
              "      <td>2019-08-07</td>\n",
              "      <td>A</td>\n",
              "      <td>644</td>\n",
              "    </tr>\n",
              "    <tr>\n",
              "      <th>7</th>\n",
              "      <td>2019-08-08</td>\n",
              "      <td>A</td>\n",
              "      <td>610</td>\n",
              "    </tr>\n",
              "    <tr>\n",
              "      <th>8</th>\n",
              "      <td>2019-08-09</td>\n",
              "      <td>A</td>\n",
              "      <td>617</td>\n",
              "    </tr>\n",
              "    <tr>\n",
              "      <th>9</th>\n",
              "      <td>2019-08-10</td>\n",
              "      <td>A</td>\n",
              "      <td>406</td>\n",
              "    </tr>\n",
              "  </tbody>\n",
              "</table>\n",
              "</div>"
            ],
            "text/plain": [
              "         date group  visitors\n",
              "0  2019-08-01     A       719\n",
              "1  2019-08-02     A       619\n",
              "2  2019-08-03     A       507\n",
              "3  2019-08-04     A       717\n",
              "4  2019-08-05     A       756\n",
              "5  2019-08-06     A       667\n",
              "6  2019-08-07     A       644\n",
              "7  2019-08-08     A       610\n",
              "8  2019-08-09     A       617\n",
              "9  2019-08-10     A       406"
            ]
          },
          "metadata": {
            "tags": []
          },
          "execution_count": 8
        }
      ]
    },
    {
      "cell_type": "code",
      "metadata": {
        "colab": {
          "base_uri": "https://localhost:8080/"
        },
        "id": "AOMCpE0SkX--",
        "outputId": "56c0e09e-0d19-4324-9121-6ee20ad5276e"
      },
      "source": [
        "visitors.isna().mean()"
      ],
      "execution_count": 9,
      "outputs": [
        {
          "output_type": "execute_result",
          "data": {
            "text/plain": [
              "date        0.0\n",
              "group       0.0\n",
              "visitors    0.0\n",
              "dtype: float64"
            ]
          },
          "metadata": {
            "tags": []
          },
          "execution_count": 9
        }
      ]
    },
    {
      "cell_type": "code",
      "metadata": {
        "colab": {
          "base_uri": "https://localhost:8080/"
        },
        "id": "Fh8hEoBnkX_C",
        "outputId": "33017a23-f885-4133-b5a9-cd5e78d979a0"
      },
      "source": [
        "visitors.duplicated().mean()"
      ],
      "execution_count": 10,
      "outputs": [
        {
          "output_type": "execute_result",
          "data": {
            "text/plain": [
              "0.0"
            ]
          },
          "metadata": {
            "tags": []
          },
          "execution_count": 10
        }
      ]
    },
    {
      "cell_type": "code",
      "metadata": {
        "colab": {
          "base_uri": "https://localhost:8080/"
        },
        "id": "yVyqUIe6kX_C",
        "outputId": "3596e016-4ec1-404c-e6b8-47da76db32d9"
      },
      "source": [
        "visitors['date'] = pd.to_datetime(visitors['date'], format='%Y-%m-%d')\n",
        "visitors['date'].describe()"
      ],
      "execution_count": 11,
      "outputs": [
        {
          "output_type": "stream",
          "text": [
            "/usr/local/lib/python3.7/dist-packages/ipykernel_launcher.py:2: FutureWarning: Treating datetime data as categorical rather than numeric in `.describe` is deprecated and will be removed in a future version of pandas. Specify `datetime_is_numeric=True` to silence this warning and adopt the future behavior now.\n",
            "  \n"
          ],
          "name": "stderr"
        },
        {
          "output_type": "execute_result",
          "data": {
            "text/plain": [
              "count                      62\n",
              "unique                     31\n",
              "top       2019-08-02 00:00:00\n",
              "freq                        2\n",
              "first     2019-08-01 00:00:00\n",
              "last      2019-08-31 00:00:00\n",
              "Name: date, dtype: object"
            ]
          },
          "metadata": {
            "tags": []
          },
          "execution_count": 11
        }
      ]
    },
    {
      "cell_type": "markdown",
      "metadata": {
        "id": "AXCo-wxzkX_D"
      },
      "source": [
        "Посмотрим на выборки анализируемых групп."
      ]
    },
    {
      "cell_type": "code",
      "metadata": {
        "colab": {
          "base_uri": "https://localhost:8080/",
          "height": 144
        },
        "id": "sVsS42WAkX_D",
        "outputId": "ef5babd9-f1c3-4bb8-e8ad-cf445748cd9b"
      },
      "source": [
        "orders.groupby('group').agg({'visitorId' : 'nunique'})"
      ],
      "execution_count": 12,
      "outputs": [
        {
          "output_type": "execute_result",
          "data": {
            "text/html": [
              "<div>\n",
              "<style scoped>\n",
              "    .dataframe tbody tr th:only-of-type {\n",
              "        vertical-align: middle;\n",
              "    }\n",
              "\n",
              "    .dataframe tbody tr th {\n",
              "        vertical-align: top;\n",
              "    }\n",
              "\n",
              "    .dataframe thead th {\n",
              "        text-align: right;\n",
              "    }\n",
              "</style>\n",
              "<table border=\"1\" class=\"dataframe\">\n",
              "  <thead>\n",
              "    <tr style=\"text-align: right;\">\n",
              "      <th></th>\n",
              "      <th>visitorId</th>\n",
              "    </tr>\n",
              "    <tr>\n",
              "      <th>group</th>\n",
              "      <th></th>\n",
              "    </tr>\n",
              "  </thead>\n",
              "  <tbody>\n",
              "    <tr>\n",
              "      <th>A</th>\n",
              "      <td>503</td>\n",
              "    </tr>\n",
              "    <tr>\n",
              "      <th>B</th>\n",
              "      <td>586</td>\n",
              "    </tr>\n",
              "  </tbody>\n",
              "</table>\n",
              "</div>"
            ],
            "text/plain": [
              "       visitorId\n",
              "group           \n",
              "A            503\n",
              "B            586"
            ]
          },
          "metadata": {
            "tags": []
          },
          "execution_count": 12
        }
      ]
    },
    {
      "cell_type": "code",
      "metadata": {
        "colab": {
          "base_uri": "https://localhost:8080/",
          "height": 424
        },
        "id": "DryakMd4kX_D",
        "outputId": "9d845205-e82a-4515-8aca-50aea36c298e"
      },
      "source": [
        "groupA = orders.query('group == \"A\"').reset_index()\n",
        "groupB = orders.query('group == \"B\"').reset_index()\n",
        "groupBvisitors = groupB['visitorId'].unique()\n",
        "\n",
        "repetitiveAB = groupA.query('visitorId in @groupBvisitors')\n",
        "repetitiveAB"
      ],
      "execution_count": 13,
      "outputs": [
        {
          "output_type": "execute_result",
          "data": {
            "text/html": [
              "<div>\n",
              "<style scoped>\n",
              "    .dataframe tbody tr th:only-of-type {\n",
              "        vertical-align: middle;\n",
              "    }\n",
              "\n",
              "    .dataframe tbody tr th {\n",
              "        vertical-align: top;\n",
              "    }\n",
              "\n",
              "    .dataframe thead th {\n",
              "        text-align: right;\n",
              "    }\n",
              "</style>\n",
              "<table border=\"1\" class=\"dataframe\">\n",
              "  <thead>\n",
              "    <tr style=\"text-align: right;\">\n",
              "      <th></th>\n",
              "      <th>index</th>\n",
              "      <th>transactionId</th>\n",
              "      <th>visitorId</th>\n",
              "      <th>date</th>\n",
              "      <th>revenue</th>\n",
              "      <th>group</th>\n",
              "    </tr>\n",
              "  </thead>\n",
              "  <tbody>\n",
              "    <tr>\n",
              "      <th>0</th>\n",
              "      <td>2</td>\n",
              "      <td>2961555356</td>\n",
              "      <td>4069496402</td>\n",
              "      <td>2019-08-15</td>\n",
              "      <td>400</td>\n",
              "      <td>A</td>\n",
              "    </tr>\n",
              "    <tr>\n",
              "      <th>9</th>\n",
              "      <td>26</td>\n",
              "      <td>2223239646</td>\n",
              "      <td>199603092</td>\n",
              "      <td>2019-08-15</td>\n",
              "      <td>3488</td>\n",
              "      <td>A</td>\n",
              "    </tr>\n",
              "    <tr>\n",
              "      <th>10</th>\n",
              "      <td>29</td>\n",
              "      <td>2220299125</td>\n",
              "      <td>3803269165</td>\n",
              "      <td>2019-08-15</td>\n",
              "      <td>700</td>\n",
              "      <td>A</td>\n",
              "    </tr>\n",
              "    <tr>\n",
              "      <th>11</th>\n",
              "      <td>33</td>\n",
              "      <td>486237576</td>\n",
              "      <td>2378935119</td>\n",
              "      <td>2019-08-15</td>\n",
              "      <td>1650</td>\n",
              "      <td>A</td>\n",
              "    </tr>\n",
              "    <tr>\n",
              "      <th>13</th>\n",
              "      <td>41</td>\n",
              "      <td>2594268419</td>\n",
              "      <td>237748145</td>\n",
              "      <td>2019-08-15</td>\n",
              "      <td>1090</td>\n",
              "      <td>A</td>\n",
              "    </tr>\n",
              "    <tr>\n",
              "      <th>...</th>\n",
              "      <td>...</td>\n",
              "      <td>...</td>\n",
              "      <td>...</td>\n",
              "      <td>...</td>\n",
              "      <td>...</td>\n",
              "      <td>...</td>\n",
              "    </tr>\n",
              "    <tr>\n",
              "      <th>542</th>\n",
              "      <td>1167</td>\n",
              "      <td>3757656646</td>\n",
              "      <td>4186807279</td>\n",
              "      <td>2019-08-14</td>\n",
              "      <td>4990</td>\n",
              "      <td>A</td>\n",
              "    </tr>\n",
              "    <tr>\n",
              "      <th>545</th>\n",
              "      <td>1173</td>\n",
              "      <td>3612788481</td>\n",
              "      <td>2712142231</td>\n",
              "      <td>2019-08-14</td>\n",
              "      <td>2490</td>\n",
              "      <td>A</td>\n",
              "    </tr>\n",
              "    <tr>\n",
              "      <th>547</th>\n",
              "      <td>1178</td>\n",
              "      <td>4052155355</td>\n",
              "      <td>2949041841</td>\n",
              "      <td>2019-08-14</td>\n",
              "      <td>190</td>\n",
              "      <td>A</td>\n",
              "    </tr>\n",
              "    <tr>\n",
              "      <th>550</th>\n",
              "      <td>1183</td>\n",
              "      <td>1458356232</td>\n",
              "      <td>963407295</td>\n",
              "      <td>2019-08-14</td>\n",
              "      <td>4940</td>\n",
              "      <td>A</td>\n",
              "    </tr>\n",
              "    <tr>\n",
              "      <th>556</th>\n",
              "      <td>1195</td>\n",
              "      <td>1947021204</td>\n",
              "      <td>1614305549</td>\n",
              "      <td>2019-08-14</td>\n",
              "      <td>100</td>\n",
              "      <td>A</td>\n",
              "    </tr>\n",
              "  </tbody>\n",
              "</table>\n",
              "<p>89 rows × 6 columns</p>\n",
              "</div>"
            ],
            "text/plain": [
              "     index  transactionId   visitorId       date  revenue group\n",
              "0        2     2961555356  4069496402 2019-08-15      400     A\n",
              "9       26     2223239646   199603092 2019-08-15     3488     A\n",
              "10      29     2220299125  3803269165 2019-08-15      700     A\n",
              "11      33      486237576  2378935119 2019-08-15     1650     A\n",
              "13      41     2594268419   237748145 2019-08-15     1090     A\n",
              "..     ...            ...         ...        ...      ...   ...\n",
              "542   1167     3757656646  4186807279 2019-08-14     4990     A\n",
              "545   1173     3612788481  2712142231 2019-08-14     2490     A\n",
              "547   1178     4052155355  2949041841 2019-08-14      190     A\n",
              "550   1183     1458356232   963407295 2019-08-14     4940     A\n",
              "556   1195     1947021204  1614305549 2019-08-14      100     A\n",
              "\n",
              "[89 rows x 6 columns]"
            ]
          },
          "metadata": {
            "tags": []
          },
          "execution_count": 13
        }
      ]
    },
    {
      "cell_type": "markdown",
      "metadata": {
        "id": "5o9v2ZzssxEN"
      },
      "source": [
        "В данных нет выбросов и пропущенных значений. Форматы данных приведены к корректному типу. Рассматриваемый период - весь август 2019.\n",
        "\n",
        "В группе В пользователей, совершивших заказ, больше на 83. В группах есть пользователи с одинаковыми id, что возможно говорит о неверном сплитовании аудитории. Удалив данные, мы откажемся от 1/5 всех визитов, поэтому пока что оставим эти визиты. Возможно, они отфильтруются на этапе очистки данных."
      ]
    },
    {
      "cell_type": "markdown",
      "metadata": {
        "id": "c1Yr1QUNKgBv"
      },
      "source": [
        "## [Приоритизация гипотез](#hypothesis)\n",
        "\n",
        "Для определения какие гипотезы лучше тестировать - проведем приоритизацию гипотез методами ICE и RICE. Первым рассмотрим анализ ICE, который оценивает такие параметры, как влияние, уверенность и простота."
      ]
    },
    {
      "cell_type": "code",
      "metadata": {
        "colab": {
          "base_uri": "https://localhost:8080/",
          "height": 332
        },
        "id": "3jRrJOHHKfAI",
        "outputId": "a788b393-2eb5-4d93-9f3f-572353f82ce3"
      },
      "source": [
        "hypothesis['ICE'] = (hypothesis['Impact']*hypothesis['Confidence']) / hypothesis['Efforts']\n",
        "hypothesis['ICE'] = hypothesis['ICE'].round(2)\n",
        "hypothesis.sort_values(by='ICE', ascending=False)"
      ],
      "execution_count": 14,
      "outputs": [
        {
          "output_type": "execute_result",
          "data": {
            "text/html": [
              "<div>\n",
              "<style scoped>\n",
              "    .dataframe tbody tr th:only-of-type {\n",
              "        vertical-align: middle;\n",
              "    }\n",
              "\n",
              "    .dataframe tbody tr th {\n",
              "        vertical-align: top;\n",
              "    }\n",
              "\n",
              "    .dataframe thead th {\n",
              "        text-align: right;\n",
              "    }\n",
              "</style>\n",
              "<table border=\"1\" class=\"dataframe\">\n",
              "  <thead>\n",
              "    <tr style=\"text-align: right;\">\n",
              "      <th></th>\n",
              "      <th>Hypothesis</th>\n",
              "      <th>Reach</th>\n",
              "      <th>Impact</th>\n",
              "      <th>Confidence</th>\n",
              "      <th>Efforts</th>\n",
              "      <th>ICE</th>\n",
              "    </tr>\n",
              "  </thead>\n",
              "  <tbody>\n",
              "    <tr>\n",
              "      <th>8</th>\n",
              "      <td>Запустить акцию, дающую скидку на товар в день рождения</td>\n",
              "      <td>1</td>\n",
              "      <td>9</td>\n",
              "      <td>9</td>\n",
              "      <td>5</td>\n",
              "      <td>16.20</td>\n",
              "    </tr>\n",
              "    <tr>\n",
              "      <th>0</th>\n",
              "      <td>Добавить два новых канала привлечения трафика, что позволит привлекать на 30% больше пользователей</td>\n",
              "      <td>3</td>\n",
              "      <td>10</td>\n",
              "      <td>8</td>\n",
              "      <td>6</td>\n",
              "      <td>13.33</td>\n",
              "    </tr>\n",
              "    <tr>\n",
              "      <th>7</th>\n",
              "      <td>Добавить форму подписки на все основные страницы, чтобы собрать базу клиентов для email-рассылок</td>\n",
              "      <td>10</td>\n",
              "      <td>7</td>\n",
              "      <td>8</td>\n",
              "      <td>5</td>\n",
              "      <td>11.20</td>\n",
              "    </tr>\n",
              "    <tr>\n",
              "      <th>6</th>\n",
              "      <td>Показать на главной странице баннеры с актуальными акциями и распродажами, чтобы увеличить конверсию</td>\n",
              "      <td>5</td>\n",
              "      <td>3</td>\n",
              "      <td>8</td>\n",
              "      <td>3</td>\n",
              "      <td>8.00</td>\n",
              "    </tr>\n",
              "    <tr>\n",
              "      <th>2</th>\n",
              "      <td>Добавить блоки рекомендаций товаров на сайт интернет магазина, чтобы повысить конверсию и средний чек заказа</td>\n",
              "      <td>8</td>\n",
              "      <td>3</td>\n",
              "      <td>7</td>\n",
              "      <td>3</td>\n",
              "      <td>7.00</td>\n",
              "    </tr>\n",
              "    <tr>\n",
              "      <th>1</th>\n",
              "      <td>Запустить собственную службу доставки, что сократит срок доставки заказов</td>\n",
              "      <td>2</td>\n",
              "      <td>5</td>\n",
              "      <td>4</td>\n",
              "      <td>10</td>\n",
              "      <td>2.00</td>\n",
              "    </tr>\n",
              "    <tr>\n",
              "      <th>5</th>\n",
              "      <td>Добавить страницу отзывов клиентов о магазине, что позволит увеличить количество заказов</td>\n",
              "      <td>3</td>\n",
              "      <td>2</td>\n",
              "      <td>2</td>\n",
              "      <td>3</td>\n",
              "      <td>1.33</td>\n",
              "    </tr>\n",
              "    <tr>\n",
              "      <th>3</th>\n",
              "      <td>Изменить структура категорий, что увеличит конверсию, т.к. пользователи быстрее найдут нужный товар</td>\n",
              "      <td>8</td>\n",
              "      <td>3</td>\n",
              "      <td>3</td>\n",
              "      <td>8</td>\n",
              "      <td>1.12</td>\n",
              "    </tr>\n",
              "    <tr>\n",
              "      <th>4</th>\n",
              "      <td>Изменить цвет фона главной страницы, чтобы увеличить вовлеченность пользователей</td>\n",
              "      <td>3</td>\n",
              "      <td>1</td>\n",
              "      <td>1</td>\n",
              "      <td>1</td>\n",
              "      <td>1.00</td>\n",
              "    </tr>\n",
              "  </tbody>\n",
              "</table>\n",
              "</div>"
            ],
            "text/plain": [
              "                                                                                                     Hypothesis  \\\n",
              "8                                                       Запустить акцию, дающую скидку на товар в день рождения   \n",
              "0            Добавить два новых канала привлечения трафика, что позволит привлекать на 30% больше пользователей   \n",
              "7              Добавить форму подписки на все основные страницы, чтобы собрать базу клиентов для email-рассылок   \n",
              "6          Показать на главной странице баннеры с актуальными акциями и распродажами, чтобы увеличить конверсию   \n",
              "2  Добавить блоки рекомендаций товаров на сайт интернет магазина, чтобы повысить конверсию и средний чек заказа   \n",
              "1                                     Запустить собственную службу доставки, что сократит срок доставки заказов   \n",
              "5                      Добавить страницу отзывов клиентов о магазине, что позволит увеличить количество заказов   \n",
              "3           Изменить структура категорий, что увеличит конверсию, т.к. пользователи быстрее найдут нужный товар   \n",
              "4                              Изменить цвет фона главной страницы, чтобы увеличить вовлеченность пользователей   \n",
              "\n",
              "   Reach  Impact  Confidence  Efforts    ICE  \n",
              "8      1       9           9        5  16.20  \n",
              "0      3      10           8        6  13.33  \n",
              "7     10       7           8        5  11.20  \n",
              "6      5       3           8        3   8.00  \n",
              "2      8       3           7        3   7.00  \n",
              "1      2       5           4       10   2.00  \n",
              "5      3       2           2        3   1.33  \n",
              "3      8       3           3        8   1.12  \n",
              "4      3       1           1        1   1.00  "
            ]
          },
          "metadata": {
            "tags": []
          },
          "execution_count": 14
        }
      ]
    },
    {
      "cell_type": "markdown",
      "metadata": {
        "id": "YJgrGsgrwDRw"
      },
      "source": [
        "В рамках данного метода приоритетными гипотезами являются 8, 0 и 7. Посмотрим, как ситуация изменится в рамках оценки по методу RICE, который плюс к факторам, включенных в ICE, оценивает еще охват пользователей тестирования. "
      ]
    },
    {
      "cell_type": "code",
      "metadata": {
        "colab": {
          "base_uri": "https://localhost:8080/",
          "height": 225
        },
        "id": "LMm0Q02XBrYm",
        "outputId": "fde7e097-848d-4168-e63a-ede0229fdb0d"
      },
      "source": [
        "hypothesis['RICE'] = (hypothesis['Reach']*hypothesis['Impact']*hypothesis['Confidence']) / hypothesis['Efforts']\n",
        "hypothesis['RICE'] = hypothesis['RICE'].round(2)\n",
        "hypothesis_table = pd.DataFrame(hypothesis[['Hypothesis', 'RICE', 'ICE']]).sort_values(by=['RICE', 'ICE'], ascending=False)\n",
        "\n",
        "cm = sns.light_palette(\"green\", as_cmap=True)\n",
        "hypothesis_table.style.background_gradient(cmap=cm)"
      ],
      "execution_count": 15,
      "outputs": [
        {
          "output_type": "execute_result",
          "data": {
            "text/html": [
              "<style  type=\"text/css\" >\n",
              "#T_f1e35334_cdab_11eb_bb09_0242ac1c0002row0_col1,#T_f1e35334_cdab_11eb_bb09_0242ac1c0002row4_col2{\n",
              "            background-color:  #008000;\n",
              "            color:  #f1f1f1;\n",
              "        }#T_f1e35334_cdab_11eb_bb09_0242ac1c0002row0_col2{\n",
              "            background-color:  #4da64d;\n",
              "            color:  #000000;\n",
              "        }#T_f1e35334_cdab_11eb_bb09_0242ac1c0002row1_col1{\n",
              "            background-color:  #78bb78;\n",
              "            color:  #000000;\n",
              "        }#T_f1e35334_cdab_11eb_bb09_0242ac1c0002row1_col2{\n",
              "            background-color:  #8ec58e;\n",
              "            color:  #000000;\n",
              "        }#T_f1e35334_cdab_11eb_bb09_0242ac1c0002row2_col1,#T_f1e35334_cdab_11eb_bb09_0242ac1c0002row3_col1{\n",
              "            background-color:  #9bcc9b;\n",
              "            color:  #000000;\n",
              "        }#T_f1e35334_cdab_11eb_bb09_0242ac1c0002row2_col2{\n",
              "            background-color:  #2c962c;\n",
              "            color:  #000000;\n",
              "        }#T_f1e35334_cdab_11eb_bb09_0242ac1c0002row3_col2{\n",
              "            background-color:  #7fbe7f;\n",
              "            color:  #000000;\n",
              "        }#T_f1e35334_cdab_11eb_bb09_0242ac1c0002row4_col1{\n",
              "            background-color:  #cee5ce;\n",
              "            color:  #000000;\n",
              "        }#T_f1e35334_cdab_11eb_bb09_0242ac1c0002row5_col1{\n",
              "            background-color:  #deedde;\n",
              "            color:  #000000;\n",
              "        }#T_f1e35334_cdab_11eb_bb09_0242ac1c0002row5_col2,#T_f1e35334_cdab_11eb_bb09_0242ac1c0002row6_col1,#T_f1e35334_cdab_11eb_bb09_0242ac1c0002row7_col1{\n",
              "            background-color:  #e9f2e9;\n",
              "            color:  #000000;\n",
              "        }#T_f1e35334_cdab_11eb_bb09_0242ac1c0002row6_col2{\n",
              "            background-color:  #dcecdc;\n",
              "            color:  #000000;\n",
              "        }#T_f1e35334_cdab_11eb_bb09_0242ac1c0002row7_col2{\n",
              "            background-color:  #e6f1e6;\n",
              "            color:  #000000;\n",
              "        }#T_f1e35334_cdab_11eb_bb09_0242ac1c0002row8_col1,#T_f1e35334_cdab_11eb_bb09_0242ac1c0002row8_col2{\n",
              "            background-color:  #ebf3eb;\n",
              "            color:  #000000;\n",
              "        }</style><table id=\"T_f1e35334_cdab_11eb_bb09_0242ac1c0002\" ><thead>    <tr>        <th class=\"blank level0\" ></th>        <th class=\"col_heading level0 col0\" >Hypothesis</th>        <th class=\"col_heading level0 col1\" >RICE</th>        <th class=\"col_heading level0 col2\" >ICE</th>    </tr></thead><tbody>\n",
              "                <tr>\n",
              "                        <th id=\"T_f1e35334_cdab_11eb_bb09_0242ac1c0002level0_row0\" class=\"row_heading level0 row0\" >7</th>\n",
              "                        <td id=\"T_f1e35334_cdab_11eb_bb09_0242ac1c0002row0_col0\" class=\"data row0 col0\" >Добавить форму подписки на все основные страницы, чтобы собрать базу клиентов для email-рассылок</td>\n",
              "                        <td id=\"T_f1e35334_cdab_11eb_bb09_0242ac1c0002row0_col1\" class=\"data row0 col1\" >112.000000</td>\n",
              "                        <td id=\"T_f1e35334_cdab_11eb_bb09_0242ac1c0002row0_col2\" class=\"data row0 col2\" >11.200000</td>\n",
              "            </tr>\n",
              "            <tr>\n",
              "                        <th id=\"T_f1e35334_cdab_11eb_bb09_0242ac1c0002level0_row1\" class=\"row_heading level0 row1\" >2</th>\n",
              "                        <td id=\"T_f1e35334_cdab_11eb_bb09_0242ac1c0002row1_col0\" class=\"data row1 col0\" >Добавить блоки рекомендаций товаров на сайт интернет магазина, чтобы повысить конверсию и средний чек заказа</td>\n",
              "                        <td id=\"T_f1e35334_cdab_11eb_bb09_0242ac1c0002row1_col1\" class=\"data row1 col1\" >56.000000</td>\n",
              "                        <td id=\"T_f1e35334_cdab_11eb_bb09_0242ac1c0002row1_col2\" class=\"data row1 col2\" >7.000000</td>\n",
              "            </tr>\n",
              "            <tr>\n",
              "                        <th id=\"T_f1e35334_cdab_11eb_bb09_0242ac1c0002level0_row2\" class=\"row_heading level0 row2\" >0</th>\n",
              "                        <td id=\"T_f1e35334_cdab_11eb_bb09_0242ac1c0002row2_col0\" class=\"data row2 col0\" >Добавить два новых канала привлечения трафика, что позволит привлекать на 30% больше пользователей</td>\n",
              "                        <td id=\"T_f1e35334_cdab_11eb_bb09_0242ac1c0002row2_col1\" class=\"data row2 col1\" >40.000000</td>\n",
              "                        <td id=\"T_f1e35334_cdab_11eb_bb09_0242ac1c0002row2_col2\" class=\"data row2 col2\" >13.330000</td>\n",
              "            </tr>\n",
              "            <tr>\n",
              "                        <th id=\"T_f1e35334_cdab_11eb_bb09_0242ac1c0002level0_row3\" class=\"row_heading level0 row3\" >6</th>\n",
              "                        <td id=\"T_f1e35334_cdab_11eb_bb09_0242ac1c0002row3_col0\" class=\"data row3 col0\" >Показать на главной странице баннеры с актуальными акциями и распродажами, чтобы увеличить конверсию</td>\n",
              "                        <td id=\"T_f1e35334_cdab_11eb_bb09_0242ac1c0002row3_col1\" class=\"data row3 col1\" >40.000000</td>\n",
              "                        <td id=\"T_f1e35334_cdab_11eb_bb09_0242ac1c0002row3_col2\" class=\"data row3 col2\" >8.000000</td>\n",
              "            </tr>\n",
              "            <tr>\n",
              "                        <th id=\"T_f1e35334_cdab_11eb_bb09_0242ac1c0002level0_row4\" class=\"row_heading level0 row4\" >8</th>\n",
              "                        <td id=\"T_f1e35334_cdab_11eb_bb09_0242ac1c0002row4_col0\" class=\"data row4 col0\" >Запустить акцию, дающую скидку на товар в день рождения</td>\n",
              "                        <td id=\"T_f1e35334_cdab_11eb_bb09_0242ac1c0002row4_col1\" class=\"data row4 col1\" >16.200000</td>\n",
              "                        <td id=\"T_f1e35334_cdab_11eb_bb09_0242ac1c0002row4_col2\" class=\"data row4 col2\" >16.200000</td>\n",
              "            </tr>\n",
              "            <tr>\n",
              "                        <th id=\"T_f1e35334_cdab_11eb_bb09_0242ac1c0002level0_row5\" class=\"row_heading level0 row5\" >3</th>\n",
              "                        <td id=\"T_f1e35334_cdab_11eb_bb09_0242ac1c0002row5_col0\" class=\"data row5 col0\" >Изменить структура категорий, что увеличит конверсию, т.к. пользователи быстрее найдут нужный товар</td>\n",
              "                        <td id=\"T_f1e35334_cdab_11eb_bb09_0242ac1c0002row5_col1\" class=\"data row5 col1\" >9.000000</td>\n",
              "                        <td id=\"T_f1e35334_cdab_11eb_bb09_0242ac1c0002row5_col2\" class=\"data row5 col2\" >1.120000</td>\n",
              "            </tr>\n",
              "            <tr>\n",
              "                        <th id=\"T_f1e35334_cdab_11eb_bb09_0242ac1c0002level0_row6\" class=\"row_heading level0 row6\" >1</th>\n",
              "                        <td id=\"T_f1e35334_cdab_11eb_bb09_0242ac1c0002row6_col0\" class=\"data row6 col0\" >Запустить собственную службу доставки, что сократит срок доставки заказов</td>\n",
              "                        <td id=\"T_f1e35334_cdab_11eb_bb09_0242ac1c0002row6_col1\" class=\"data row6 col1\" >4.000000</td>\n",
              "                        <td id=\"T_f1e35334_cdab_11eb_bb09_0242ac1c0002row6_col2\" class=\"data row6 col2\" >2.000000</td>\n",
              "            </tr>\n",
              "            <tr>\n",
              "                        <th id=\"T_f1e35334_cdab_11eb_bb09_0242ac1c0002level0_row7\" class=\"row_heading level0 row7\" >5</th>\n",
              "                        <td id=\"T_f1e35334_cdab_11eb_bb09_0242ac1c0002row7_col0\" class=\"data row7 col0\" >Добавить страницу отзывов клиентов о магазине, что позволит увеличить количество заказов</td>\n",
              "                        <td id=\"T_f1e35334_cdab_11eb_bb09_0242ac1c0002row7_col1\" class=\"data row7 col1\" >4.000000</td>\n",
              "                        <td id=\"T_f1e35334_cdab_11eb_bb09_0242ac1c0002row7_col2\" class=\"data row7 col2\" >1.330000</td>\n",
              "            </tr>\n",
              "            <tr>\n",
              "                        <th id=\"T_f1e35334_cdab_11eb_bb09_0242ac1c0002level0_row8\" class=\"row_heading level0 row8\" >4</th>\n",
              "                        <td id=\"T_f1e35334_cdab_11eb_bb09_0242ac1c0002row8_col0\" class=\"data row8 col0\" >Изменить цвет фона главной страницы, чтобы увеличить вовлеченность пользователей</td>\n",
              "                        <td id=\"T_f1e35334_cdab_11eb_bb09_0242ac1c0002row8_col1\" class=\"data row8 col1\" >3.000000</td>\n",
              "                        <td id=\"T_f1e35334_cdab_11eb_bb09_0242ac1c0002row8_col2\" class=\"data row8 col2\" >1.000000</td>\n",
              "            </tr>\n",
              "    </tbody></table>"
            ],
            "text/plain": [
              "<pandas.io.formats.style.Styler at 0x7fc553d5b890>"
            ]
          },
          "metadata": {
            "tags": []
          },
          "execution_count": 15
        }
      ]
    },
    {
      "cell_type": "markdown",
      "metadata": {
        "id": "-HK-mEHvNUV8"
      },
      "source": [
        "Наиболее перспективными гипотезами по методу ICE, который оценивает такие параметры, как влияние, уверенность и простота, являются гипотезы:\n",
        "\n",
        "* 8. Запустить акцию, дающую скидку на товар в день рождения;\n",
        "\n",
        "* 0. Добавить два новых канала привлечения трафика, что позволит привлекать на 30% больше пользователей;\n",
        "\n",
        "* 7. Добавить форму подписки на все основные страницы, чтобы собрать базу клиентов для email-рассылок;\n",
        "\n",
        "* 6. Показать на главной странице баннеры с актуальными акциями и распродажами, чтобы увеличить конверсию.\n",
        "\n",
        "По методу RICE, который помимо описанных выше оценок учитывает еще охват пользователей:\n",
        "\n",
        "* 7. Добавить форму подписки на все основные страницы, чтобы собрать базу клиентов для email-рассылок;\n",
        "\n",
        "* 6. Показать на главной странице баннеры с актуальными акциями и распродажами, чтобы увеличить конверсию;\n",
        "\n",
        "* 2. Добавить блоки рекомендаций товаров на сайт интернет магазина, чтобы повысить конверсию и средний чек заказа;\n",
        "\n",
        "* 0. Добавить два новых канала привлечения трафика, что позволит привлекать на 30% больше пользователей.*\n",
        "\n",
        "Показатель Reach у 8 гипотезы, которая является приоритетной по методу ICE - ниже всего, что говорит о небольшом числе пользователей, которых охватит данное изменение. Гипотезы 7, 0 и 6 являются приоритетными по обоим фреймворкам. В рамках данного А/В-теста будет тестироваться гипотеза 7."
      ]
    },
    {
      "cell_type": "markdown",
      "metadata": {
        "id": "kykl_0cogcJp"
      },
      "source": [
        "## [Анализ А/В-теста](#ab-analysis)\n",
        "**[Исследование стабильности кумулятивных метрик](#cummulative)**\n",
        "\n",
        "Для определения нужно ли продолжать тест, изучим накапливаемые метрики рассматриваемых данных.\n"
      ]
    },
    {
      "cell_type": "code",
      "metadata": {
        "id": "cW775P8NghcC"
      },
      "source": [
        "#orders['date'] = orders['date'].map(lambda x: dt.datetime.strptime(x, '%Y-%m-%d'))\n",
        "#visitors['date'] = visitors['date'].map(lambda x: dt.datetime.strptime(x, '%Y-%m-%d'))"
      ],
      "execution_count": 16,
      "outputs": []
    },
    {
      "cell_type": "code",
      "metadata": {
        "colab": {
          "base_uri": "https://localhost:8080/"
        },
        "id": "3i54sz5yk37C",
        "outputId": "1b028b52-8ad4-4bc7-a541-9784130493f3"
      },
      "source": [
        "datesGroups = orders[['date','group']].drop_duplicates()\n",
        "ordersAggregated = datesGroups.apply(lambda x: orders[np.logical_and(orders['date'] <= x['date'], orders['group'] == x['group'])].agg({'date' : 'max', 'group' : 'max', 'transactionId' : pd.Series.nunique, 'visitorId' : pd.Series.nunique, 'revenue' : 'sum'}), axis=1).sort_values(by=['date','group'])\n",
        "\n",
        "visitorsAggregated = datesGroups.apply(lambda x: visitors[np.logical_and(visitors['date'] <= x['date'], visitors['group'] == x['group'])].agg({'date' : 'max', 'group' : 'max', 'visitors' : 'sum'}), axis=1).sort_values(by=['date','group']) \n",
        "\n",
        "cumulativeData = ordersAggregated.merge(visitorsAggregated, left_on=['date', 'group'], right_on=['date', 'group'])\n",
        "cumulativeData.columns = ['date', 'group', 'orders', 'buyers', 'revenue', 'visitors']\n",
        "\n",
        "print(cumulativeData.head(5))"
      ],
      "execution_count": 17,
      "outputs": [
        {
          "output_type": "stream",
          "text": [
            "        date group  orders  buyers  revenue  visitors\n",
            "0 2019-08-01     A      24      20   148579       719\n",
            "1 2019-08-01     B      21      20   101217       713\n",
            "2 2019-08-02     A      44      38   242401      1338\n",
            "3 2019-08-02     B      45      43   266748      1294\n",
            "4 2019-08-03     A      68      62   354874      1845\n"
          ],
          "name": "stdout"
        }
      ]
    },
    {
      "cell_type": "code",
      "metadata": {
        "colab": {
          "base_uri": "https://localhost:8080/",
          "height": 294
        },
        "id": "9rfotflztgvu",
        "outputId": "e0e954fb-dce3-4118-832e-0d34ab1c74bd"
      },
      "source": [
        "cumulativeRevenueA = cumulativeData[cumulativeData['group']=='A'][['date','revenue', 'orders']]\n",
        "\n",
        "cumulativeRevenueB = cumulativeData[cumulativeData['group']=='B'][['date','revenue', 'orders']]\n",
        "\n",
        "cumulativeRevenueA['day'] = cumulativeRevenueA['date'].astype('datetime64[D]')\n",
        "cumulativeRevenueA['day'] = cumulativeRevenueA['day'].dt.strftime('%d')\n",
        "cumulativeRevenueB['day'] = cumulativeRevenueB['date'].astype('datetime64[D]')\n",
        "cumulativeRevenueB['day'] = cumulativeRevenueB['day'].dt.strftime('%d')\n",
        "\n",
        "from pandas.plotting import register_matplotlib_converters\n",
        "register_matplotlib_converters()\n",
        "\n",
        "# Строим график выручки группы А\n",
        "plt.plot(cumulativeRevenueA['day'], cumulativeRevenueA['revenue'], label='A')\n",
        "\n",
        "# Строим график выручки группы B\n",
        "plt.plot(cumulativeRevenueB['day'], cumulativeRevenueB['revenue'], label='B')\n",
        "plt.annotate('скачок', xy=('18', 2800000), xytext=('15', 3000000),arrowprops=dict(facecolor='g'))\n",
        "plt.annotate('отрыв', xy=('19', 2500000), xytext=('19', 3900000),arrowprops=dict(facecolor='g')) \n",
        "plt.legend() \n",
        "plt.rcParams[\"figure.figsize\"] = (12,6)\n",
        "plt.title('Кумулятивная выручка по группам')\n",
        "plt.xlabel(\"август 2019, день\")\n",
        "plt.ylabel(\"Выручка, руб.\")\n",
        "plt.show() "
      ],
      "execution_count": 18,
      "outputs": [
        {
          "output_type": "display_data",
          "data": {
            "image/png": "[encoded data removed]",
            "text/plain": [
              "<Figure size 432x288 with 1 Axes>"
            ]
          },
          "metadata": {
            "tags": [],
            "needs_background": "light"
          }
        }
      ]
    },
    {
      "cell_type": "markdown",
      "metadata": {
        "id": "UcMpqsl7xMSX"
      },
      "source": [
        "Выручка группы А стабильно ниже выручки группы В."
      ]
    },
    {
      "cell_type": "code",
      "metadata": {
        "colab": {
          "base_uri": "https://localhost:8080/",
          "height": 404
        },
        "id": "lDxQ6vvwutXy",
        "outputId": "6087c6f0-2c94-4391-85a2-9e4f316a2b4a"
      },
      "source": [
        "# графики кумулятивного среднего чека по дням\n",
        "\n",
        "plt.plot(cumulativeRevenueA['day'], cumulativeRevenueA['revenue']/cumulativeRevenueA['orders'], label='A')\n",
        "plt.plot(cumulativeRevenueB['day'], cumulativeRevenueB['revenue']/cumulativeRevenueB['orders'], label='B')\n",
        "plt.legend() \n",
        "plt.rcParams[\"figure.figsize\"] = (12,6)\n",
        "plt.annotate('отрыв', xy=('19', 6900), xytext=('19', 10200),arrowprops=dict(facecolor='g'))\n",
        "plt.title('Кумулятивный средний чек по дням')\n",
        "plt.xlabel(\"август 2019, день\")\n",
        "plt.ylabel(\"Средний чек, руб.\")\n",
        "plt.show()\n"
      ],
      "execution_count": 19,
      "outputs": [
        {
          "output_type": "display_data",
          "data": {
            "image/png": "[encoded data removed]",
            "text/plain": [
              "<Figure size 864x432 with 1 Axes>"
            ]
          },
          "metadata": {
            "tags": [],
            "needs_background": "light"
          }
        }
      ]
    },
    {
      "cell_type": "markdown",
      "metadata": {
        "id": "TubxG2xvxhZt"
      },
      "source": [
        "В целом средний чек группы А ниже среднего чека группы В. За рассматриваемый месяц только 1 и 13 августа средний чек группы В был выше, чем у группы А. "
      ]
    },
    {
      "cell_type": "code",
      "metadata": {
        "colab": {
          "base_uri": "https://localhost:8080/",
          "height": 404
        },
        "id": "rRRSHvrGvqIf",
        "outputId": "64669a63-e019-4963-cab8-dcf25587f3a9"
      },
      "source": [
        "#относительное различие группы В к группе А\n",
        "\n",
        "mergedCumulativeRevenue = cumulativeRevenueA.merge(cumulativeRevenueB, left_on='date', right_on='date', how='left', suffixes=['A', 'B'])\n",
        "\n",
        "plt.plot(mergedCumulativeRevenue['date'], (mergedCumulativeRevenue['revenueB']/mergedCumulativeRevenue['ordersB'])/(mergedCumulativeRevenue['revenueA']/mergedCumulativeRevenue['ordersA'])-1)\n",
        "\n",
        "# добавляем ось X\n",
        "plt.axhline(y=0, color='black', linestyle='--')\n",
        "plt.rcParams[\"figure.figsize\"] = (12,6)\n",
        "plt.title('Относительное различие выручки группы В к группе А')\n",
        "plt.xlabel(\"август 2019, день\")\n",
        "plt.show()\n"
      ],
      "execution_count": 20,
      "outputs": [
        {
          "output_type": "display_data",
          "data": {
            "image/png": "[encoded data removed]",
            "text/plain": [
              "<Figure size 864x432 with 1 Axes>"
            ]
          },
          "metadata": {
            "tags": [],
            "needs_background": "light"
          }
        }
      ]
    },
    {
      "cell_type": "markdown",
      "metadata": {
        "id": "z1dtmxjkyDV_"
      },
      "source": [
        "Группа А стабильно хуже группы В по показателю выручки, различие не имеет явной зависимости от времени."
      ]
    },
    {
      "cell_type": "code",
      "metadata": {
        "colab": {
          "base_uri": "https://localhost:8080/",
          "height": 404
        },
        "id": "YjtKKFAkvtQi",
        "outputId": "a5eb5c30-0b3c-4a2f-a4ee-4a5b7a4ddc7b"
      },
      "source": [
        "#график кумулятивной конверсии по группам\n",
        "\n",
        "cumulativeData['conversion'] = cumulativeData['orders']/cumulativeData['visitors']\n",
        "\n",
        "cumulativeData['day'] = cumulativeData['date'].astype('datetime64[D]')\n",
        "cumulativeData['day'] = cumulativeData['day'].dt.strftime('%d')\n",
        "\n",
        "# отделяем данные по группе A\n",
        "cumulativeDataA = cumulativeData[cumulativeData['group']=='A']\n",
        "\n",
        "# отделяем данные по группе B\n",
        "cumulativeDataB = cumulativeData[cumulativeData['group']=='B']\n",
        "\n",
        "# строим графики\n",
        "plt.plot(cumulativeDataA['day'], cumulativeDataA['conversion'], label='A')\n",
        "plt.plot(cumulativeDataB['day'], cumulativeDataB['conversion'], label='B')\n",
        "plt.legend()\n",
        "plt.rcParams[\"figure.figsize\"] = (12,6)\n",
        "plt.title('Кумулятивная конверсия по группам')\n",
        "plt.xlabel(\"август 2019, день\")\n",
        "plt.ylabel(\"Конверсия\")\n",
        "plt.show()"
      ],
      "execution_count": 21,
      "outputs": [
        {
          "output_type": "display_data",
          "data": {
            "image/png": "[encoded data removed]",
            "text/plain": [
              "<Figure size 864x432 with 1 Axes>"
            ]
          },
          "metadata": {
            "tags": [],
            "needs_background": "light"
          }
        }
      ]
    },
    {
      "cell_type": "markdown",
      "metadata": {
        "id": "RCE5VkGyykAL"
      },
      "source": [
        "Конверсия группы А в начале рассматриваемого периода была выше, чем у группы В, но уже с 3 дня исследования начала падать и после 6 августа имеет показаетли стабильно хуже, чем накопительные показатели группы В."
      ]
    },
    {
      "cell_type": "code",
      "metadata": {
        "colab": {
          "base_uri": "https://localhost:8080/",
          "height": 404
        },
        "id": "DOKxHcYuwe2G",
        "outputId": "9d67b46c-fa42-4b66-9703-35cb8c8749b4"
      },
      "source": [
        "# относительного изменения кумулятивной конверсии по группам\n",
        "\n",
        "mergedCumulativeConversions = cumulativeDataA[['day','conversion']].merge(cumulativeDataB[['day','conversion']], left_on='day', right_on='day', how='left', suffixes=['A', 'B'])\n",
        "\n",
        "plt.plot(mergedCumulativeConversions['day'], mergedCumulativeConversions['conversionB']/mergedCumulativeConversions['conversionA']-1, label=\"Относительный прирост конверсии группы B относительно группы A\")\n",
        "plt.axhline(y=0, color='black', linestyle='--')\n",
        "plt.axhline(y=0.2, color='grey', linestyle='--')\n",
        "plt.rcParams[\"figure.figsize\"] = (12,6)\n",
        "plt.title('Относительное изменение кумулятивной конверсии по группам')\n",
        "plt.xlabel(\"август 2019, день\")\n",
        "plt.show()"
      ],
      "execution_count": 22,
      "outputs": [
        {
          "output_type": "display_data",
          "data": {
            "image/png": "[encoded data removed]",
            "text/plain": [
              "<Figure size 864x432 with 1 Axes>"
            ]
          },
          "metadata": {
            "tags": [],
            "needs_background": "light"
          }
        }
      ]
    },
    {
      "cell_type": "markdown",
      "metadata": {
        "id": "Lrm3gmDwzL7q"
      },
      "source": [
        "Группа B стабильно лучше группы A по конверсии. Также по выручке и среднему чеку группа В превосходит группу А. Далее рассмотрим аномалии, которые возможно изменят данный вывод."
      ]
    },
    {
      "cell_type": "markdown",
      "metadata": {
        "id": "qNG6vHUyW0Ra"
      },
      "source": [
        "**[Анализ выбросов](#quality)**\n"
      ]
    },
    {
      "cell_type": "code",
      "metadata": {
        "colab": {
          "base_uri": "https://localhost:8080/"
        },
        "id": "wmSG9PDcxNIa",
        "outputId": "b8755e62-fb9f-4761-f207-335dfacb4da1"
      },
      "source": [
        "ordersByVisitors = (\n",
        "    orders.drop(['group', 'revenue', 'date'], axis=1)\n",
        "    .groupby('visitorId', as_index=False)\n",
        "    .agg({'transactionId': pd.Series.nunique})\n",
        ")\n",
        "\n",
        "ordersByVisitors.columns = ['visitorId', 'orders']\n",
        "\n",
        "print(ordersByVisitors.sort_values(by='orders', ascending=False).head(10)) "
      ],
      "execution_count": 23,
      "outputs": [
        {
          "output_type": "stream",
          "text": [
            "       visitorId  orders\n",
            "1023  4256040402      11\n",
            "591   2458001652      11\n",
            "569   2378935119       9\n",
            "487   2038680547       8\n",
            "44     199603092       5\n",
            "744   3062433592       5\n",
            "55     237748145       5\n",
            "917   3803269165       5\n",
            "299   1230306981       5\n",
            "897   3717692402       5\n"
          ],
          "name": "stdout"
        }
      ]
    },
    {
      "cell_type": "code",
      "metadata": {
        "colab": {
          "base_uri": "https://localhost:8080/",
          "height": 404
        },
        "id": "1DH9eOH2yZvw",
        "outputId": "88b39a31-bb39-435e-973f-7bd95925a27e"
      },
      "source": [
        "# Построим гистрограмму распределения количества заказов на одного пользователя.\n",
        "plt.hist(ordersByVisitors['orders'])\n",
        "plt.rcParams[\"figure.figsize\"] = (12,6)\n",
        "plt.title('Распределение количества заказов на одного пользователя')\n",
        "plt.xlabel(\"Заказы, шт.\")\n",
        "plt.ylabel(\"Пользователи, чел.\")\n",
        "plt.show() \n",
        "\n",
        "#Большинство покупателей заказывали только один раз."
      ],
      "execution_count": 24,
      "outputs": [
        {
          "output_type": "display_data",
          "data": {
            "image/png": "[encoded data removed]",
            "text/plain": [
              "<Figure size 864x432 with 1 Axes>"
            ]
          },
          "metadata": {
            "tags": [],
            "needs_background": "light"
          }
        }
      ]
    },
    {
      "cell_type": "markdown",
      "metadata": {
        "id": "kyQlx8hu0aac"
      },
      "source": [
        "Большинство покупателей заказывали только один раз. Однако доля пользователей с 2-4 заказами тоже значительна. Помимо этого есть пользователи, совершившие 8-10 заказов, хотя их доля очень мала."
      ]
    },
    {
      "cell_type": "code",
      "metadata": {
        "colab": {
          "base_uri": "https://localhost:8080/",
          "height": 404
        },
        "id": "neQFLcDoytPX",
        "outputId": "1f90f013-4781-450b-b6bc-24c86f1d525c"
      },
      "source": [
        "# Построим точечную диаграмму числа заказов на одного пользователя:\n",
        "x_values = pd.Series(range(0,len(ordersByVisitors)))\n",
        "\n",
        "plt.scatter(x_values, ordersByVisitors['orders']) \n",
        "plt.rcParams[\"figure.figsize\"] = (12,6)\n",
        "plt.title('Число заказов на одного пользователя')\n",
        "plt.xlabel(\"Пользователи, чел.\")\n",
        "plt.ylabel(\"Заказы, шт.\")\n",
        "plt.show()"
      ],
      "execution_count": 25,
      "outputs": [
        {
          "output_type": "display_data",
          "data": {
            "image/png": "[encoded data removed]",
            "text/plain": [
              "<Figure size 864x432 with 1 Axes>"
            ]
          },
          "metadata": {
            "tags": [],
            "needs_background": "light"
          }
        }
      ]
    },
    {
      "cell_type": "code",
      "metadata": {
        "colab": {
          "base_uri": "https://localhost:8080/"
        },
        "id": "NPYZSpNxy_Nx",
        "outputId": "b6e9ab78-ac18-486f-cdc8-5ff28d3e5c1d"
      },
      "source": [
        "#95-й и 99-й перцентили количества заказов на пользователя\n",
        "\n",
        "print(np.percentile(ordersByVisitors['orders'], [95, 99])) "
      ],
      "execution_count": 26,
      "outputs": [
        {
          "output_type": "stream",
          "text": [
            "[2. 4.]\n"
          ],
          "name": "stdout"
        }
      ]
    },
    {
      "cell_type": "markdown",
      "metadata": {
        "id": "j2PH9XHQ015h"
      },
      "source": [
        "Как и было выявлено на первой гистограмме - большинство пользователей совершали не больше 2 заказов, а точнее: не более 5% пользователей оформляли больше чем 2 заказа и только 1% пользователей заказывали более 4 раз. Разумно выбрать 2 заказа на одного пользователя за нижнюю границу числа заказов, и отсеять аномальных пользователей по ней.\n",
        "\n",
        "Далее проанализируем аномалии в стоимости заказов."
      ]
    },
    {
      "cell_type": "code",
      "metadata": {
        "colab": {
          "base_uri": "https://localhost:8080/",
          "height": 362
        },
        "id": "QvKbB2bD2H_8",
        "outputId": "83ab3736-5753-423b-d67c-a444cc29da57"
      },
      "source": [
        "revenueByVisitors = (\n",
        "    orders.drop(['group', 'transactionId', 'date'], axis=1)\n",
        "    .groupby('visitorId', as_index=False)\n",
        "    .agg({'revenue': 'sum'})\n",
        ")\n",
        "\n",
        "revenueByVisitors.columns = ['visitorId', 'revenue']\n",
        "\n",
        "mergeRevenueOrders = ordersByVisitors.merge(revenueByVisitors, on='visitorId')\n",
        "mergeRevenueOrders['revenue_visitors'] = mergeRevenueOrders['revenue']/mergeRevenueOrders['orders']\n",
        "mergeRevenueOrders['revenue_visitors'] = mergeRevenueOrders['revenue_visitors'].round(2)\n",
        "mergeRevenueOrders.sort_values(by='revenue_visitors', ascending=False).head(10)"
      ],
      "execution_count": 27,
      "outputs": [
        {
          "output_type": "execute_result",
          "data": {
            "text/html": [
              "<div>\n",
              "<style scoped>\n",
              "    .dataframe tbody tr th:only-of-type {\n",
              "        vertical-align: middle;\n",
              "    }\n",
              "\n",
              "    .dataframe tbody tr th {\n",
              "        vertical-align: top;\n",
              "    }\n",
              "\n",
              "    .dataframe thead th {\n",
              "        text-align: right;\n",
              "    }\n",
              "</style>\n",
              "<table border=\"1\" class=\"dataframe\">\n",
              "  <thead>\n",
              "    <tr style=\"text-align: right;\">\n",
              "      <th></th>\n",
              "      <th>visitorId</th>\n",
              "      <th>orders</th>\n",
              "      <th>revenue</th>\n",
              "      <th>revenue_visitors</th>\n",
              "    </tr>\n",
              "  </thead>\n",
              "  <tbody>\n",
              "    <tr>\n",
              "      <th>463</th>\n",
              "      <td>1920142716</td>\n",
              "      <td>1</td>\n",
              "      <td>1294500</td>\n",
              "      <td>1294500.0</td>\n",
              "    </tr>\n",
              "    <tr>\n",
              "      <th>503</th>\n",
              "      <td>2108080724</td>\n",
              "      <td>1</td>\n",
              "      <td>202740</td>\n",
              "      <td>202740.0</td>\n",
              "    </tr>\n",
              "    <tr>\n",
              "      <th>314</th>\n",
              "      <td>1307669133</td>\n",
              "      <td>1</td>\n",
              "      <td>92550</td>\n",
              "      <td>92550.0</td>\n",
              "    </tr>\n",
              "    <tr>\n",
              "      <th>213</th>\n",
              "      <td>888512513</td>\n",
              "      <td>1</td>\n",
              "      <td>86620</td>\n",
              "      <td>86620.0</td>\n",
              "    </tr>\n",
              "    <tr>\n",
              "      <th>1026</th>\n",
              "      <td>4266935830</td>\n",
              "      <td>2</td>\n",
              "      <td>157980</td>\n",
              "      <td>78990.0</td>\n",
              "    </tr>\n",
              "    <tr>\n",
              "      <th>993</th>\n",
              "      <td>4133034833</td>\n",
              "      <td>1</td>\n",
              "      <td>67990</td>\n",
              "      <td>67990.0</td>\n",
              "    </tr>\n",
              "    <tr>\n",
              "      <th>279</th>\n",
              "      <td>1164614297</td>\n",
              "      <td>1</td>\n",
              "      <td>66350</td>\n",
              "      <td>66350.0</td>\n",
              "    </tr>\n",
              "    <tr>\n",
              "      <th>26</th>\n",
              "      <td>148427295</td>\n",
              "      <td>1</td>\n",
              "      <td>65710</td>\n",
              "      <td>65710.0</td>\n",
              "    </tr>\n",
              "    <tr>\n",
              "      <th>211</th>\n",
              "      <td>887908475</td>\n",
              "      <td>1</td>\n",
              "      <td>60450</td>\n",
              "      <td>60450.0</td>\n",
              "    </tr>\n",
              "    <tr>\n",
              "      <th>968</th>\n",
              "      <td>4003628586</td>\n",
              "      <td>1</td>\n",
              "      <td>58550</td>\n",
              "      <td>58550.0</td>\n",
              "    </tr>\n",
              "  </tbody>\n",
              "</table>\n",
              "</div>"
            ],
            "text/plain": [
              "       visitorId  orders  revenue  revenue_visitors\n",
              "463   1920142716       1  1294500         1294500.0\n",
              "503   2108080724       1   202740          202740.0\n",
              "314   1307669133       1    92550           92550.0\n",
              "213    888512513       1    86620           86620.0\n",
              "1026  4266935830       2   157980           78990.0\n",
              "993   4133034833       1    67990           67990.0\n",
              "279   1164614297       1    66350           66350.0\n",
              "26     148427295       1    65710           65710.0\n",
              "211    887908475       1    60450           60450.0\n",
              "968   4003628586       1    58550           58550.0"
            ]
          },
          "metadata": {
            "tags": []
          },
          "execution_count": 27
        }
      ]
    },
    {
      "cell_type": "code",
      "metadata": {
        "colab": {
          "base_uri": "https://localhost:8080/",
          "height": 404
        },
        "id": "3WwEfXnxzsCs",
        "outputId": "c956e1d7-3b9b-49a4-9501-99eece8f3889"
      },
      "source": [
        "x_values = pd.Series(range(0,len(mergeRevenueOrders['revenue_visitors'])))\n",
        "\n",
        "plt.scatter(x_values, mergeRevenueOrders['revenue_visitors'])\n",
        "plt.rcParams[\"figure.figsize\"] = (12,6)\n",
        "plt.title('Сумма одного заказа на одного пользователя')\n",
        "plt.xlabel(\"Пользователи, чел.\")\n",
        "plt.ylabel(\"Стоимость заказа, руб.\")\n",
        "plt.show()"
      ],
      "execution_count": 28,
      "outputs": [
        {
          "output_type": "display_data",
          "data": {
            "image/png": "[encoded data removed]",
            "text/plain": [
              "<Figure size 864x432 with 1 Axes>"
            ]
          },
          "metadata": {
            "tags": [],
            "needs_background": "light"
          }
        }
      ]
    },
    {
      "cell_type": "code",
      "metadata": {
        "colab": {
          "base_uri": "https://localhost:8080/"
        },
        "id": "vCaDi5mF2zeb",
        "outputId": "feee8835-1662-4bd2-bd53-238caa7d6ce9"
      },
      "source": [
        "print(np.percentile(mergeRevenueOrders['revenue_visitors'], [95, 99]))"
      ],
      "execution_count": 29,
      "outputs": [
        {
          "output_type": "stream",
          "text": [
            "[27625. 53904.]\n"
          ],
          "name": "stdout"
        }
      ]
    },
    {
      "cell_type": "markdown",
      "metadata": {
        "id": "--84MuuBYjZc"
      },
      "source": [
        "В данных есть немного дорогих заказов. По графику видно, что в основном пользователи совершали заказы до 20000. Отсеим заказы с суммой больше 27625 как аномальные.\n",
        "\n",
        "**[Изучение А/В-теста по \"сырым\" данным](#rawdata)** \n",
        "\n",
        "Проверим первую гипотезу: конверсии групп А и В различается.\n",
        "\n",
        "- H0 - статистически значимых различий в конверсии между группами нет.\n",
        "- Н1 - статистически значимые различия в конверсии между группами есть.\n",
        "\n",
        "Для сопоставления двух средних генеральных совокупностей изучим статистическую значимость различий в конверсии, будем использовать *p-value* и U-критерий Манна-Уитни."
      ]
    },
    {
      "cell_type": "code",
      "metadata": {
        "id": "W25L5H9f4NBy"
      },
      "source": [
        "#статистическую значимость различий в конверсии между группами по «сырым» данным\n",
        "\n",
        "visitorsADaily = visitors[visitors['group'] == 'A'][['date', 'visitors']]\n",
        "visitorsADaily.columns = ['date', 'visitorsPerDateA']\n",
        "\n",
        "visitorsACummulative = visitorsADaily.apply(\n",
        "    lambda x: visitorsADaily[visitorsADaily['date'] <= x['date']].agg(\n",
        "        {'date': 'max', 'visitorsPerDateA': 'sum'}\n",
        "    ),\n",
        "    axis=1,\n",
        ")\n",
        "visitorsACummulative.columns = ['date', 'visitorsCummulativeA']\n",
        "\n",
        "visitorsBDaily = visitors[visitors['group'] == 'B'][['date', 'visitors']]\n",
        "visitorsBDaily.columns = ['date', 'visitorsPerDateB']\n",
        "\n",
        "visitorsBCummulative = visitorsBDaily.apply(\n",
        "    lambda x: visitorsBDaily[visitorsBDaily['date'] <= x['date']].agg(\n",
        "        {'date': 'max', 'visitorsPerDateB': 'sum'}\n",
        "    ),\n",
        "    axis=1,\n",
        ")\n",
        "visitorsBCummulative.columns = ['date', 'visitorsCummulativeB']\n",
        "\n",
        "\n",
        "visitorsADaily = visitors[visitors['group'] == 'A'][['date', 'visitors']]\n",
        "visitorsADaily.columns = ['date', 'visitorsPerDateA']\n",
        "\n",
        "visitorsBDaily = visitors[visitors['group'] == 'B'][['date', 'visitors']]\n",
        "visitorsBDaily.columns = ['date', 'visitorsPerDateB']"
      ],
      "execution_count": 30,
      "outputs": []
    },
    {
      "cell_type": "code",
      "metadata": {
        "id": "7wY_ykQKZQpA"
      },
      "source": [
        "ordersADaily = (\n",
        "    orders[orders['group'] == 'A'][['date', 'transactionId', 'visitorId', 'revenue']]\n",
        "    .groupby('date', as_index=False)\n",
        "    .agg({'transactionId': pd.Series.nunique, 'revenue': 'sum'})\n",
        ")\n",
        "ordersADaily.columns = ['date', 'ordersPerDateA', 'revenuePerDateA']\n",
        "\n",
        "ordersACummulative = ordersADaily.apply(\n",
        "    lambda x: ordersADaily[ordersADaily['date'] <= x['date']].agg(\n",
        "        {'date': 'max', 'ordersPerDateA': 'sum', 'revenuePerDateA': 'sum'}\n",
        "    ),\n",
        "    axis=1,\n",
        ").sort_values(by=['date'])\n",
        "ordersACummulative.columns = [\n",
        "    'date',\n",
        "    'ordersCummulativeA',\n",
        "    'revenueCummulativeA',\n",
        "]\n",
        "\n",
        "ordersBDaily = (\n",
        "    orders[orders['group'] == 'B'][['date', 'transactionId', 'visitorId', 'revenue']]\n",
        "    .groupby('date', as_index=False)\n",
        "    .agg({'transactionId': pd.Series.nunique, 'revenue': 'sum'})\n",
        ")\n",
        "ordersBDaily.columns = ['date', 'ordersPerDateB', 'revenuePerDateB']\n",
        "\n",
        "ordersBCummulative = ordersBDaily.apply(\n",
        "    lambda x: ordersBDaily[ordersBDaily['date'] <= x['date']].agg(\n",
        "        {'date': 'max', 'ordersPerDateB': 'sum', 'revenuePerDateB': 'sum'}\n",
        "    ),\n",
        "    axis=1,\n",
        ").sort_values(by=['date'])\n",
        "ordersBCummulative.columns = ['date','ordersCummulativeB','revenueCummulativeB']"
      ],
      "execution_count": 31,
      "outputs": []
    },
    {
      "cell_type": "code",
      "metadata": {
        "colab": {
          "base_uri": "https://localhost:8080/",
          "height": 313
        },
        "id": "QacY-e577bJS",
        "outputId": "13806e23-d915-476d-ab7a-68f46b81859a"
      },
      "source": [
        "data = (\n",
        "    ordersADaily.merge(\n",
        "        ordersBDaily, left_on='date', right_on='date', how='left'\n",
        "    )\n",
        "    .merge(ordersACummulative, left_on='date', right_on='date', how='left')\n",
        "    .merge(ordersBCummulative, left_on='date', right_on='date', how='left')\n",
        "    .merge(visitorsADaily, left_on='date', right_on='date', how='left')\n",
        "    .merge(visitorsBDaily, left_on='date', right_on='date', how='left')\n",
        "    .merge(visitorsACummulative, left_on='date', right_on='date', how='left')\n",
        "    .merge(visitorsBCummulative, left_on='date', right_on='date', how='left')\n",
        ")\n",
        "\n",
        "data.head()"
      ],
      "execution_count": 32,
      "outputs": [
        {
          "output_type": "execute_result",
          "data": {
            "text/html": [
              "<div>\n",
              "<style scoped>\n",
              "    .dataframe tbody tr th:only-of-type {\n",
              "        vertical-align: middle;\n",
              "    }\n",
              "\n",
              "    .dataframe tbody tr th {\n",
              "        vertical-align: top;\n",
              "    }\n",
              "\n",
              "    .dataframe thead th {\n",
              "        text-align: right;\n",
              "    }\n",
              "</style>\n",
              "<table border=\"1\" class=\"dataframe\">\n",
              "  <thead>\n",
              "    <tr style=\"text-align: right;\">\n",
              "      <th></th>\n",
              "      <th>date</th>\n",
              "      <th>ordersPerDateA</th>\n",
              "      <th>revenuePerDateA</th>\n",
              "      <th>ordersPerDateB</th>\n",
              "      <th>revenuePerDateB</th>\n",
              "      <th>ordersCummulativeA</th>\n",
              "      <th>revenueCummulativeA</th>\n",
              "      <th>ordersCummulativeB</th>\n",
              "      <th>revenueCummulativeB</th>\n",
              "      <th>visitorsPerDateA</th>\n",
              "      <th>visitorsPerDateB</th>\n",
              "      <th>visitorsCummulativeA</th>\n",
              "      <th>visitorsCummulativeB</th>\n",
              "    </tr>\n",
              "  </thead>\n",
              "  <tbody>\n",
              "    <tr>\n",
              "      <th>0</th>\n",
              "      <td>2019-08-01</td>\n",
              "      <td>24</td>\n",
              "      <td>148579</td>\n",
              "      <td>21</td>\n",
              "      <td>101217</td>\n",
              "      <td>24</td>\n",
              "      <td>148579</td>\n",
              "      <td>21</td>\n",
              "      <td>101217</td>\n",
              "      <td>719</td>\n",
              "      <td>713</td>\n",
              "      <td>719</td>\n",
              "      <td>713</td>\n",
              "    </tr>\n",
              "    <tr>\n",
              "      <th>1</th>\n",
              "      <td>2019-08-02</td>\n",
              "      <td>20</td>\n",
              "      <td>93822</td>\n",
              "      <td>24</td>\n",
              "      <td>165531</td>\n",
              "      <td>44</td>\n",
              "      <td>242401</td>\n",
              "      <td>45</td>\n",
              "      <td>266748</td>\n",
              "      <td>619</td>\n",
              "      <td>581</td>\n",
              "      <td>1338</td>\n",
              "      <td>1294</td>\n",
              "    </tr>\n",
              "    <tr>\n",
              "      <th>2</th>\n",
              "      <td>2019-08-03</td>\n",
              "      <td>24</td>\n",
              "      <td>112473</td>\n",
              "      <td>16</td>\n",
              "      <td>114248</td>\n",
              "      <td>68</td>\n",
              "      <td>354874</td>\n",
              "      <td>61</td>\n",
              "      <td>380996</td>\n",
              "      <td>507</td>\n",
              "      <td>509</td>\n",
              "      <td>1845</td>\n",
              "      <td>1803</td>\n",
              "    </tr>\n",
              "    <tr>\n",
              "      <th>3</th>\n",
              "      <td>2019-08-04</td>\n",
              "      <td>16</td>\n",
              "      <td>70825</td>\n",
              "      <td>17</td>\n",
              "      <td>108571</td>\n",
              "      <td>84</td>\n",
              "      <td>425699</td>\n",
              "      <td>78</td>\n",
              "      <td>489567</td>\n",
              "      <td>717</td>\n",
              "      <td>770</td>\n",
              "      <td>2562</td>\n",
              "      <td>2573</td>\n",
              "    </tr>\n",
              "    <tr>\n",
              "      <th>4</th>\n",
              "      <td>2019-08-05</td>\n",
              "      <td>25</td>\n",
              "      <td>124218</td>\n",
              "      <td>23</td>\n",
              "      <td>92428</td>\n",
              "      <td>109</td>\n",
              "      <td>549917</td>\n",
              "      <td>101</td>\n",
              "      <td>581995</td>\n",
              "      <td>756</td>\n",
              "      <td>707</td>\n",
              "      <td>3318</td>\n",
              "      <td>3280</td>\n",
              "    </tr>\n",
              "  </tbody>\n",
              "</table>\n",
              "</div>"
            ],
            "text/plain": [
              "        date  ordersPerDateA  revenuePerDateA  ordersPerDateB  \\\n",
              "0 2019-08-01              24           148579              21   \n",
              "1 2019-08-02              20            93822              24   \n",
              "2 2019-08-03              24           112473              16   \n",
              "3 2019-08-04              16            70825              17   \n",
              "4 2019-08-05              25           124218              23   \n",
              "\n",
              "   revenuePerDateB  ordersCummulativeA  revenueCummulativeA  \\\n",
              "0           101217                  24               148579   \n",
              "1           165531                  44               242401   \n",
              "2           114248                  68               354874   \n",
              "3           108571                  84               425699   \n",
              "4            92428                 109               549917   \n",
              "\n",
              "   ordersCummulativeB  revenueCummulativeB  visitorsPerDateA  \\\n",
              "0                  21               101217               719   \n",
              "1                  45               266748               619   \n",
              "2                  61               380996               507   \n",
              "3                  78               489567               717   \n",
              "4                 101               581995               756   \n",
              "\n",
              "   visitorsPerDateB  visitorsCummulativeA  visitorsCummulativeB  \n",
              "0               713                   719                   713  \n",
              "1               581                  1338                  1294  \n",
              "2               509                  1845                  1803  \n",
              "3               770                  2562                  2573  \n",
              "4               707                  3318                  3280  "
            ]
          },
          "metadata": {
            "tags": []
          },
          "execution_count": 32
        }
      ]
    },
    {
      "cell_type": "code",
      "metadata": {
        "colab": {
          "base_uri": "https://localhost:8080/"
        },
        "id": "kcfVYTLG8ArU",
        "outputId": "80e3c570-7a81-4c07-b231-1c459b308bbc"
      },
      "source": [
        "ordersByUsersA = (\n",
        "    orders[orders['group'] == 'A']\n",
        "    .groupby('visitorId', as_index=False)\n",
        "    .agg({'transactionId': pd.Series.nunique})\n",
        ")\n",
        "ordersByUsersA.columns = ['visitorId', 'orders']\n",
        "\n",
        "ordersByUsersB = (\n",
        "    orders[orders['group'] == 'B']\n",
        "    .groupby('visitorId', as_index=False)\n",
        "    .agg({'transactionId': pd.Series.nunique})\n",
        ")\n",
        "ordersByUsersB.columns = ['visitorId', 'orders'] \n",
        "\n",
        "sampleA = pd.concat([ordersByUsersA['orders'],pd.Series(0, index=np.arange(data['visitorsPerDateA'].sum() - len(ordersByUsersA['orders'])), name='orders')],axis=0)\n",
        "\n",
        "sampleB = pd.concat([ordersByUsersB['orders'],pd.Series(0, index=np.arange(data['visitorsPerDateB'].sum() - len(ordersByUsersB['orders'])), name='orders')],axis=0) \n",
        "\n",
        "sampleA = pd.concat(\n",
        "    [\n",
        "        ordersByUsersA['orders'],\n",
        "        pd.Series(\n",
        "            0,\n",
        "            index=np.arange(\n",
        "                data['visitorsPerDateA'].sum() - len(ordersByUsersA['orders'])\n",
        "            ),\n",
        "            name='orders',\n",
        "        ),\n",
        "    ],\n",
        "    axis=0,\n",
        ")\n",
        "\n",
        "sampleB = pd.concat(\n",
        "    [ordersByUsersB['orders'],\n",
        "        pd.Series(\n",
        "            0,\n",
        "            index=np.arange(\n",
        "                data['visitorsPerDateB'].sum() - len(ordersByUsersB['orders'])\n",
        "            ),\n",
        "            name='orders',\n",
        "        ),\n",
        "    ],\n",
        "    axis=0,\n",
        ")\n",
        "\n",
        "print('p-value:', \"{0:.5f}\".format(stats.mannwhitneyu(sampleA, sampleB, alternative = 'two-sided')[1]))\n",
        "print('Относительное различие в конверсии между группами: ', \"{0:.3f}\".format((data['ordersPerDateB'].sum()/data['visitorsPerDateB'].sum())/(data['ordersPerDateA'].sum()/data['visitorsPerDateA'].sum())-1))"
      ],
      "execution_count": 33,
      "outputs": [
        {
          "output_type": "stream",
          "text": [
            "p-value: 0.01679\n",
            "Относительное различие в конверсии между группами:  0.138\n"
          ],
          "name": "stdout"
        }
      ]
    },
    {
      "cell_type": "markdown",
      "metadata": {
        "id": "ZvdeJKZO621Y"
      },
      "source": [
        "p-value меньше 0.05. Значит, можно говорить о том, что в конверсии между группами есть статистически значимые различия: относительный прирост конверсии группы В к конверсии группы А равен 13,8%.\n",
        "\n",
        "Проверим вторую гипотезу: средние чеки групп А и В различается.\n",
        "\n",
        "- H0 - статистически значимых различий в конверсии между группами нет.\n",
        "- Н1 - статистически значимые различия в конверсии между группами есть."
      ]
    },
    {
      "cell_type": "code",
      "metadata": {
        "colab": {
          "base_uri": "https://localhost:8080/"
        },
        "id": "_We1oX_l6qke",
        "outputId": "53af3cef-8579-4d47-88f5-ae91c72050d7"
      },
      "source": [
        "print('p-value:','{0:.3f}'.format(stats.mannwhitneyu(orders[orders['group']=='A']['revenue'], orders[orders['group']=='B']['revenue'], alternative = 'two-sided')[1]))\n",
        "print('Относительное различие в среднем чеке между группами: ', '{0:.3f}'.format(orders[orders['group']=='B']['revenue'].mean()/orders[orders['group']=='A']['revenue'].mean()-1))"
      ],
      "execution_count": 34,
      "outputs": [
        {
          "output_type": "stream",
          "text": [
            "p-value: 0.729\n",
            "Относительное различие в среднем чеке между группами:  0.259\n"
          ],
          "name": "stdout"
        }
      ]
    },
    {
      "cell_type": "markdown",
      "metadata": {
        "id": "Y6hQyqru67G7"
      },
      "source": [
        "p-value больше 0.05. Значит, нулевую гипотезу о том, что статистически значимых различий в средних чеках между группами нет, не отвергаем. Относительный проигрыш в среднем чеке группы А относительно группы В равен 25,9%."
      ]
    },
    {
      "cell_type": "markdown",
      "metadata": {
        "id": "ZnGPUAvzjkHU"
      },
      "source": [
        "**[Изучение А/В-теста по \"очищенным\" данным](#cleardata)**\n",
        "\n",
        "Ранее была определена нижняя граница числа заказов - 2 заказа. Отсеим аномальные заказы именно по ней. Сумма среднего чека считается аномальной от 27625."
      ]
    },
    {
      "cell_type": "code",
      "metadata": {
        "colab": {
          "base_uri": "https://localhost:8080/"
        },
        "id": "3qYC6Fri49Ow",
        "outputId": "aded516f-80e0-467c-e846-f090bb9a9aec"
      },
      "source": [
        "usersWithManyOrders = pd.concat(\n",
        "    [\n",
        "        ordersByUsersA[ordersByUsersA['orders'] > 2]['visitorId'],\n",
        "        ordersByUsersB[ordersByUsersB['orders'] > 2]['visitorId'],\n",
        "    ],\n",
        "    axis=0,\n",
        ")\n",
        "\n",
        "usersWithExpensiveOrders = orders[orders['revenue'] > 27625]['visitorId']\n",
        "\n",
        "abnormalUsers = (\n",
        "    pd.concat([usersWithManyOrders, usersWithExpensiveOrders], axis=0)\n",
        "    .drop_duplicates()\n",
        "    .sort_values()\n",
        ")\n",
        "print(abnormalUsers.head(5))\n",
        "print(abnormalUsers.shape) "
      ],
      "execution_count": 35,
      "outputs": [
        {
          "output_type": "stream",
          "text": [
            "1099    148427295\n",
            "18      199603092\n",
            "928     204675465\n",
            "23      237748145\n",
            "37      249864742\n",
            "Name: visitorId, dtype: int64\n",
            "(75,)\n"
          ],
          "name": "stdout"
        }
      ]
    },
    {
      "cell_type": "markdown",
      "metadata": {
        "id": "r2NfJ0G08SyO"
      },
      "source": [
        "В данных всего 75 аномальных пользователей. Посмотрим, как изменится результат А/В-теста без их учета. И проверим гипотезу о том, что конверсии групп А и В по очищенным данным различается."
      ]
    },
    {
      "cell_type": "code",
      "metadata": {
        "colab": {
          "base_uri": "https://localhost:8080/"
        },
        "id": "-f72X2nw9R8W",
        "outputId": "f6b5690c-8dba-4e73-cd9b-74a776eb5384"
      },
      "source": [
        "sampleAFiltered = pd.concat(\n",
        "    [\n",
        "        ordersByUsersA[\n",
        "            np.logical_not(ordersByUsersA['visitorId'].isin(abnormalUsers))\n",
        "        ]['orders'],\n",
        "        pd.Series(\n",
        "            0,\n",
        "            index=np.arange(\n",
        "                data['visitorsPerDateA'].sum() - len(ordersByUsersA['orders'])\n",
        "            ),\n",
        "            name='orders',\n",
        "        ),\n",
        "    ],\n",
        "    axis=0,\n",
        ")\n",
        "\n",
        "sampleBFiltered = pd.concat(\n",
        "    [\n",
        "        ordersByUsersB[\n",
        "            np.logical_not(ordersByUsersB['visitorId'].isin(abnormalUsers))\n",
        "        ]['orders'],\n",
        "        pd.Series(\n",
        "            0,\n",
        "            index=np.arange(\n",
        "                data['visitorsPerDateB'].sum() - len(ordersByUsersB['orders'])\n",
        "            ),\n",
        "            name='orders',\n",
        "        ),\n",
        "    ],\n",
        "    axis=0,\n",
        ")\n",
        "\n",
        "print('p-value:', '{0:.5f}'.format(stats.mannwhitneyu(sampleAFiltered, sampleBFiltered,alternative = 'two-sided')[1]))\n",
        "print('Относительное различие в конверсии между группами: ','{0:.3f}'.format(sampleBFiltered.mean()/sampleAFiltered.mean()-1)) "
      ],
      "execution_count": 36,
      "outputs": [
        {
          "output_type": "stream",
          "text": [
            "p-value: 0.01418\n",
            "Относительное различие в конверсии между группами:  0.171\n"
          ],
          "name": "stdout"
        }
      ]
    },
    {
      "cell_type": "markdown",
      "metadata": {
        "id": "H9qTcCchkX_h"
      },
      "source": [
        "Гипотеза о разнице в конверсии по очищенным данным имеет ту же тенденцию, но относительный прирост группы В к группе А равен 17,1% вместо 13,8% по \"сырым\" данным.\n",
        "\n",
        "Проверим гипотезу о том, что средние чеки групп А и В по очищенным данным различается."
      ]
    },
    {
      "cell_type": "code",
      "metadata": {
        "colab": {
          "base_uri": "https://localhost:8080/"
        },
        "id": "74Bpimq1-Fm4",
        "scrolled": true,
        "outputId": "9e1a07f8-c1df-43b2-ab80-9cba3311215e"
      },
      "source": [
        "print('{0:.3f}'.format(stats.mannwhitneyu(\n",
        "        orders[np.logical_and(orders['group'] == 'A',np.logical_not(orders['visitorId'].isin(abnormalUsers)))]['revenue'],\n",
        "            orders[np.logical_and(orders['group'] == 'B', np.logical_not(orders['visitorId'].isin(abnormalUsers)))]['revenue'], alternative = 'two-sided'\n",
        "        )[1])\n",
        "    )\n",
        "\n",
        "print(\"{0:.3f}\".format(orders[np.logical_and(orders['group'] == 'B', np.logical_not(orders['visitorId'].isin(abnormalUsers)))]['revenue'].mean()\n",
        "        / orders[np.logical_and(orders['group'] == 'A',np.logical_not(orders['visitorId'].isin(abnormalUsers)))]['revenue'].mean()\n",
        "        - 1\n",
        "    )\n",
        ") \n"
      ],
      "execution_count": 37,
      "outputs": [
        {
          "output_type": "stream",
          "text": [
            "0.701\n",
            "-0.028\n"
          ],
          "name": "stdout"
        }
      ]
    },
    {
      "cell_type": "markdown",
      "metadata": {
        "id": "AjJa5qBxkX_h"
      },
      "source": [
        "Гипотезу о разнице в среднем чеке по очищенным не отвергаем. Относительный проигрыш в среднем чеке группы B относительно группы А равен 2,8%. По сырым данным проигрыш был у группы А."
      ]
    },
    {
      "cell_type": "markdown",
      "metadata": {
        "id": "1QFM6kY78wh7"
      },
      "source": [
        "## [Вывод и рекомендации](#conclusion)\n",
        "\n",
        "- Были выявлены приоритетные для анализа гипотезы, на основе чего выбрана гипотеза для анализа:\n",
        "    * Добавить форму подписки на все основные страницы, чтобы собрать базу клиентов для email-рассылок;\n",
        "- В основном покупатели заказывают только один раз;\n",
        "- Большинсвто заказов не превышают 20000руб.;\n",
        "- Аудитория группы В больше группы А;\n",
        "- Имеется статистически значимое различие по конверсии между группами по «сырым» данным и по данным после фильтрации аномалий;\n",
        "- Нет статистически значимого различия по среднему чеку между группами ни по «сырым», ни по данным после фильтрации аномалий;\n",
        "- График различия конверсии между группами сообщает, что результаты группы B лучше группы A;\n",
        "- График различия среднего чека между группами колеблется, по «сырым» данным результаты группы В лучше группы А, по «очищенным» - наоборот.\n",
        "\n",
        "Тест необходимо продолжить для получения стабильной информации о среднем чеке."
      ]
    }
  ]
}