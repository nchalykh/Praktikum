{
 "cells": [
  {
   "cell_type": "markdown",
   "metadata": {
    "id": "_xcg1skrQO2A"
   },
   "source": [
    "# Анализ рынка заведений общественного питания г.Москвы\n",
    "**Цель проекта**: исследовать рынок заведений общественного питания для дальнейшего открытия заведения.\n",
    "\n",
    "**Задачи проекта**:\n",
    "- Исследовать существующие виды общественного питания, их распространненость;\n",
    "- Изучить сетевые заведения города;\n",
    "- Определить, какие районы наиболее выгодны для открытия заведения;\n",
    "- Выявить, сколько посадочных мест является оптимальным.\n",
    "\n",
    "Для реализации проекта будут использованы:  открытые данные о заведениях общественного питания в Москве и инструменты Python.\n",
    "\n",
    "**Этапы исследования**:\n",
    "1. [Подготовка данных](#preanalysis)\n",
    "2. [Анализ данных](#analysis)\n",
    "    - [Исследование видов объектов общественного питания](#type_object)\n",
    "    - [Исследование сетевых и несетевых заведений](#chain)\n",
    "    - [Изучение наиболее популярных улиц для заведений](#popular_street)\n",
    "    - [Анализ наименее популярных районов для заведений](#unpopular_street)\n",
    "    - [Изучение количества посадочных мест заведения на популярных улицах](#number_popular_street)\n",
    "3. [Вывод и рекомендации](#conclusion)"
   ]
  },
  {
   "cell_type": "markdown",
   "metadata": {
    "id": "o6c46jo_RQNW"
   },
   "source": [
    "## [Подготовка данных](#preanalysis)\n",
    "\n",
    "На этапе подготовки данных импортируем все необходимые для реализации проекта библиотеки и откроем данные таблиц, чтобы оценить, какие изменения в данных нужно сделать."
   ]
  },
  {
   "cell_type": "code",
   "execution_count": 1,
   "metadata": {
    "id": "Ut3QkarSQNJ-"
   },
   "outputs": [
    {
     "ename": "ModuleNotFoundError",
     "evalue": "No module named 'matplotlib'",
     "output_type": "error",
     "traceback": [
      "\u001b[1;31m---------------------------------------------------------------------------\u001b[0m",
      "\u001b[1;31mModuleNotFoundError\u001b[0m                       Traceback (most recent call last)",
      "\u001b[1;32m<ipython-input-1-50fd62beb044>\u001b[0m in \u001b[0;36m<module>\u001b[1;34m\u001b[0m\n\u001b[0;32m      1\u001b[0m \u001b[1;32mimport\u001b[0m \u001b[0mpandas\u001b[0m \u001b[1;32mas\u001b[0m \u001b[0mpd\u001b[0m\u001b[1;33m\u001b[0m\u001b[1;33m\u001b[0m\u001b[0m\n\u001b[0;32m      2\u001b[0m \u001b[1;32mimport\u001b[0m \u001b[0mnumpy\u001b[0m \u001b[1;32mas\u001b[0m \u001b[0mnp\u001b[0m\u001b[1;33m\u001b[0m\u001b[1;33m\u001b[0m\u001b[0m\n\u001b[1;32m----> 3\u001b[1;33m \u001b[1;32mfrom\u001b[0m \u001b[0mmatplotlib\u001b[0m \u001b[1;32mimport\u001b[0m \u001b[0mpyplot\u001b[0m \u001b[1;32mas\u001b[0m \u001b[0mplt\u001b[0m\u001b[1;33m\u001b[0m\u001b[1;33m\u001b[0m\u001b[0m\n\u001b[0m\u001b[0;32m      4\u001b[0m \u001b[1;32mimport\u001b[0m \u001b[0mseaborn\u001b[0m \u001b[1;32mas\u001b[0m \u001b[0msns\u001b[0m\u001b[1;33m\u001b[0m\u001b[1;33m\u001b[0m\u001b[0m\n\u001b[0;32m      5\u001b[0m \u001b[1;32mimport\u001b[0m \u001b[0mdatetime\u001b[0m \u001b[1;32mas\u001b[0m \u001b[0mdt\u001b[0m\u001b[1;33m\u001b[0m\u001b[1;33m\u001b[0m\u001b[0m\n",
      "\u001b[1;31mModuleNotFoundError\u001b[0m: No module named 'matplotlib'"
     ]
    }
   ],
   "source": [
    "import pandas as pd\n",
    "import numpy as np\n",
    "from matplotlib import pyplot as plt\n",
    "import seaborn as sns\n",
    "import datetime as dt\n",
    "from plotly import graph_objects as go\n",
    "import plotly.express as px\n",
    "import requests"
   ]
  },
  {
   "cell_type": "code",
   "execution_count": null,
   "metadata": {
    "colab": {
     "base_uri": "https://localhost:8080/",
     "height": 568
    },
    "id": "7jxhzRBtQOZA",
    "outputId": "4a3fc1f5-3e9e-454f-d2a2-58df2720edf2"
   },
   "outputs": [],
   "source": [
    "try:\n",
    "    rest_data = pd.read_csv('/content/rest_data.csv')\n",
    "except:\n",
    "    rest_data = pd.read_csv('/datasets/rest_data.csv')\n",
    "rest_data.info()\n",
    "rest_data.head(10)"
   ]
  },
  {
   "cell_type": "markdown",
   "metadata": {
    "id": "4PgNgTkgVC0Z"
   },
   "source": [
    "Явных пропусков в данных нет. Посмотрим детально корректность значений по столбцам. В названии заведений нужно будет поменять регистр и привести их к общему виду, а также в названии типа заведения и адресе. Помимо этого посмотрим уникальные значения столбцов, чтобы выявить неточности."
   ]
  },
  {
   "cell_type": "code",
   "execution_count": null,
   "metadata": {
    "colab": {
     "base_uri": "https://localhost:8080/"
    },
    "id": "kT-flewMbwSK",
    "outputId": "ea818c6d-c21f-475e-f113-eccad96020ee"
   },
   "outputs": [],
   "source": [
    "rest_data['chain'].unique()\n"
   ]
  },
  {
   "cell_type": "code",
   "execution_count": null,
   "metadata": {
    "colab": {
     "base_uri": "https://localhost:8080/"
    },
    "id": "J0uv4hjwb7Re",
    "outputId": "83ebea2d-6b77-43f2-8dc2-172ad543b3ce"
   },
   "outputs": [],
   "source": [
    "rest_data['number'].unique()"
   ]
  },
  {
   "cell_type": "code",
   "execution_count": null,
   "metadata": {
    "colab": {
     "base_uri": "https://localhost:8080/"
    },
    "id": "dI_jvrfAcm_G",
    "outputId": "4f3d1e3c-0160-4e9a-8fde-59a82d4bda24"
   },
   "outputs": [],
   "source": [
    "rest_data['object_type'].unique()"
   ]
  },
  {
   "cell_type": "code",
   "execution_count": null,
   "metadata": {
    "colab": {
     "base_uri": "https://localhost:8080/"
    },
    "id": "JH6kuq-PGOmD",
    "outputId": "bb7a2023-7776-4c14-bf79-d2b3761271a6"
   },
   "outputs": [],
   "source": [
    "rest_data['object_type'].value_counts()"
   ]
  },
  {
   "cell_type": "code",
   "execution_count": null,
   "metadata": {
    "id": "Lv-hVmuNozUm"
   },
   "outputs": [],
   "source": [
    "rest_data['object_type'] = rest_data['object_type'].str.replace('предприятие быстрого обслуживания', 'фаст-фуд')\n",
    "rest_data['object_type'] = rest_data['object_type'].str.replace('магазин \\(отдел кулинарии\\)', 'кулинария')"
   ]
  },
  {
   "cell_type": "code",
   "execution_count": null,
   "metadata": {
    "colab": {
     "base_uri": "https://localhost:8080/"
    },
    "id": "bv36m7hPRhNA",
    "outputId": "f6352ca4-a76a-461f-fadd-ea2bfeef22ca"
   },
   "outputs": [],
   "source": [
    "#приведем данные столбца с названиями заведений к нижнему регистру и проверим наличие дубликатов\n",
    "rest_data['object_name'] = rest_data['object_name'].str.lower()\n",
    "rest_data['object_name'] = rest_data['object_name'].str.replace('ё','е')\n",
    "\n",
    "#избавимся от типа заведения в названии\n",
    "for type_rest in ['кафе', 'бар', 'кальянная', 'ресторан', 'буфет', 'столовая', 'хинкальная']:\n",
    "    rest_data['object_name'] = rest_data['object_name'].str.replace(type_rest,'', regex=True).str.strip()\n",
    "\n",
    "rest_data['object_name'] = rest_data['object_name'].str.replace(\"«\",'', regex=True).str.strip()\n",
    "rest_data['object_name'] = rest_data['object_name'].str.replace(\"»\",'', regex=True).str.strip()\n",
    "rest_data['object_name'] = rest_data['object_name'].str.replace(\"-\",'', regex=True).str.strip()\n",
    "\n",
    "rest_data['object_name'].unique()"
   ]
  },
  {
   "cell_type": "code",
   "execution_count": null,
   "metadata": {
    "id": "WnWEClwsn2R5"
   },
   "outputs": [],
   "source": [
    "rest_data['address'] = rest_data['address'].str.replace('ё','е')\n",
    "rest_data['address'] = rest_data['address'].str.lower()"
   ]
  },
  {
   "cell_type": "code",
   "execution_count": null,
   "metadata": {
    "colab": {
     "base_uri": "https://localhost:8080/"
    },
    "id": "mVGrWNkxHCx7",
    "outputId": "f5621e1a-5653-4f87-ec64-ce57f0d08cb2"
   },
   "outputs": [],
   "source": [
    "rest_data.duplicated().sum()"
   ]
  },
  {
   "cell_type": "markdown",
   "metadata": {
    "id": "FTxUqzq6HO18"
   },
   "source": [
    "В ходе подготовки данных к анализу данные были приведены к общему виду для повышения точности исследования.\n",
    "\n",
    "## [Анализ данных](#analysis)\n",
    "**[Исследование видов объектов общественного питания](#type_objec)**\n",
    "\n",
    "На этом этапе проведем анализ заведений, отталкиваясь от того, к какому виду они относятся. В начале проанализируем соотношение видов объектов общественного питания по количеству заведений."
   ]
  },
  {
   "cell_type": "code",
   "execution_count": null,
   "metadata": {
    "colab": {
     "base_uri": "https://localhost:8080/",
     "height": 316
    },
    "id": "S2Mx6swoT-mK",
    "outputId": "ff6271ea-7696-4595-d396-677b08a2b73f"
   },
   "outputs": [],
   "source": [
    "object_type_count = pd.DataFrame(rest_data.groupby('object_type')['id'].count()).reset_index().sort_values(by='id', ascending=False)\n",
    "object_type_count"
   ]
  },
  {
   "cell_type": "code",
   "execution_count": null,
   "metadata": {
    "colab": {
     "base_uri": "https://localhost:8080/",
     "height": 513
    },
    "id": "H_-arEI0FYKS",
    "outputId": "a7db2f1d-2da3-42c2-d4cf-b9686ac93cc9",
    "scrolled": false
   },
   "outputs": [],
   "source": [
    "plt.figure(figsize=(16,8))\n",
    "sns.set_palette('colorblind') \n",
    "sns.set_style(\"whitegrid\")\n",
    "ax = sns.barplot(data=object_type_count, x=\"id\", y=\"object_type\", estimator=np.mean)\n",
    "ax.set_title(\"Соотношение видов объектов общественного питания по количеству\")\n",
    "ax.set_ylabel(\"Вид заведения\")\n",
    "ax.set_xlabel(\"Посетители, чел.\")\n",
    "plt.show()\n",
    "plt.close()"
   ]
  },
  {
   "cell_type": "markdown",
   "metadata": {
    "id": "in6oawZatFpz"
   },
   "source": [
    "Больше всего в Москве кафе, столовых, ресторанов и фаст-фуда. Кафе лидируют, скорее всего, за счет своей доступности: не очень высокий средний чек, комфортный уровень обслуживания. Кулинарии и закусочных почти нет. Возможно это связано с интрепретацией данных, т.к. вид заведения может быть определен не совсем кореектно. Псомотрим, как меняется среднее количество посадочных мест в зависимости от типа заведения."
   ]
  },
  {
   "cell_type": "code",
   "execution_count": null,
   "metadata": {
    "colab": {
     "base_uri": "https://localhost:8080/"
    },
    "id": "e4CIHMyai4cV",
    "outputId": "820652f7-57e8-49c6-bc17-832a9711e0de"
   },
   "outputs": [],
   "source": [
    "rest_data['number'].describe()"
   ]
  },
  {
   "cell_type": "markdown",
   "metadata": {
    "id": "x-x10NyUjIIo"
   },
   "source": [
    "График среднего значения будем строить по медианным данным, т.к. могут быть искажения за счет большого разброса между минимальным и максимальным значениями."
   ]
  },
  {
   "cell_type": "code",
   "execution_count": null,
   "metadata": {
    "colab": {
     "base_uri": "https://localhost:8080/",
     "height": 316
    },
    "id": "Owexixn7ZMtJ",
    "outputId": "a5a6d0f4-69ff-4c4e-d792-885c2bcb83de"
   },
   "outputs": [],
   "source": [
    "object_type_number = pd.DataFrame(rest_data.groupby('object_type')['number'].median()).reset_index()\n",
    "object_type_number"
   ]
  },
  {
   "cell_type": "code",
   "execution_count": null,
   "metadata": {
    "colab": {
     "base_uri": "https://localhost:8080/",
     "height": 513
    },
    "id": "tb8bpscjjcF6",
    "outputId": "c1931547-be18-4661-8968-8c92154a73c9"
   },
   "outputs": [],
   "source": [
    "plt.figure(figsize=(16,8))\n",
    "sns.set_palette('colorblind') \n",
    "sns.set_style(\"whitegrid\")\n",
    "ax = sns.boxplot(data=rest_data, x=\"number\", y=\"object_type\")\n",
    "ax.set_title(\"Среднее количество посадочных мест в зависимости от вида заведения\")\n",
    "ax.set_xlim(0,600)\n",
    "ax.set_ylabel(\"Вид заведения\")\n",
    "ax.set_xlabel(\"Посетители, чел.\")\n",
    "plt.show()\n",
    "plt.close()"
   ]
  },
  {
   "cell_type": "markdown",
   "metadata": {
    "id": "lF_PKDLJuFb5"
   },
   "source": [
    "В среднем самое большое количество посадочных мест в столовых и ресторанах. Столовые рассчитаны на большое количество посетителей, часто они находятся при каких-то организациях, откуда много сотрудников идут на обед именно в столовую. Рестораны славятся не только едой, но и интерьером, поэтому их часто тоже делают в больших помещениях + немаловажный фактор что часто в ресторанах и столовых проводят мероприятия. Меньше всего вероятность найти место - в заведениях фаст-фуда и кафетерии. Данных по местам в кулинарии и закусочной нет."
   ]
  },
  {
   "cell_type": "markdown",
   "metadata": {
    "id": "IL8jxDRRrFxY"
   },
   "source": [
    "**[Исследование сетевых и несетевых заведений](#chain)**\n",
    "\n",
    "Заведения общественного питания делятся на сетевых и несетевые. Посмотрим, как распределилось соотношение сетевых и несетевых заведений по количеству заведений в городе. "
   ]
  },
  {
   "cell_type": "code",
   "execution_count": null,
   "metadata": {
    "colab": {
     "base_uri": "https://localhost:8080/",
     "height": 107
    },
    "id": "f3dc0O1rrXl8",
    "outputId": "b6b10c61-7a0a-4a6d-f470-f30b115227c3"
   },
   "outputs": [],
   "source": [
    "chain_type_count = pd.DataFrame(rest_data.groupby('chain')['id'].count()).reset_index().sort_values(by='id', ascending=False)\n",
    "chain_type_count"
   ]
  },
  {
   "cell_type": "code",
   "execution_count": null,
   "metadata": {
    "colab": {
     "base_uri": "https://localhost:8080/",
     "height": 541
    },
    "id": "eWBca5V5zke9",
    "outputId": "1b7bb308-fb2d-4295-ac67-247664cbca94"
   },
   "outputs": [],
   "source": [
    "name_rest = 'Несетевые', 'Сетевые'\n",
    "values = chain_type_count['id']\n",
    "\n",
    "fig = go.Figure(data=[go.Pie(labels=name_rest, values=values, pull=[0, 0.2])])\n",
    "fig.update_traces(textposition='inside')\n",
    "fig.update(layout_title_text='Соотношение сетевых и несетевых заведений общественного питания', \n",
    "           layout_showlegend=True)\n",
    "fig.show()"
   ]
  },
  {
   "cell_type": "markdown",
   "metadata": {
    "id": "3aupiMwXv_DB"
   },
   "source": [
    "Несетевые заведения составляют почти 81% всех заведений города. Сетевые, скорее всего, сложно поддерживать, т.к. зачастую одно сетевое заведение приносит много прибыли, а второе - работает в убыток, за счет чего компания скорее работает в ноль. Посмотрим, где больше посадочных мест: в сетевых или несетвых заведениях и проанализируем сетевые заведения по количеству мест в них."
   ]
  },
  {
   "cell_type": "code",
   "execution_count": null,
   "metadata": {
    "colab": {
     "base_uri": "https://localhost:8080/",
     "height": 107
    },
    "id": "Fnxvk2VY6jL7",
    "outputId": "9a4d8b6c-a468-4bde-985b-a1bcd2fea62f"
   },
   "outputs": [],
   "source": [
    "chain_type_number = pd.DataFrame(rest_data.groupby('chain')['number'].mean()).reset_index().sort_values(by='number', ascending=False)\n",
    "chain_type_number"
   ]
  },
  {
   "cell_type": "code",
   "execution_count": null,
   "metadata": {
    "colab": {
     "base_uri": "https://localhost:8080/",
     "height": 541
    },
    "id": "HNyn9B3Os-PB",
    "outputId": "9a1b3cd0-0a80-45b0-db08-89d19d32aca2"
   },
   "outputs": [],
   "source": [
    "name_rest = 'Несетевые', 'Сетевые'\n",
    "values = chain_type_number['number']\n",
    "\n",
    "fig = go.Figure(data=[go.Pie(labels=name_rest, values=values)])\n",
    "fig.update_traces(textposition='inside')\n",
    "fig.update(layout_title_text='Среднее количество посадочных мест', \n",
    "           layout_showlegend=True)\n",
    "fig.show()"
   ]
  },
  {
   "cell_type": "code",
   "execution_count": null,
   "metadata": {
    "colab": {
     "base_uri": "https://localhost:8080/"
    },
    "id": "eVmHl3F_yX_q",
    "outputId": "ea77b9f5-d9c2-40f0-9d97-6da1c79ea9db"
   },
   "outputs": [],
   "source": [
    "yes = 'да'\n",
    "is_chain = rest_data.query('chain == @yes')\n",
    "\n",
    "is_chain['object_type'].unique().tolist()"
   ]
  },
  {
   "cell_type": "code",
   "execution_count": null,
   "metadata": {
    "colab": {
     "base_uri": "https://localhost:8080/",
     "height": 316
    },
    "id": "2w5pGsDQyxtj",
    "outputId": "7874b020-c31a-403b-e8bd-9509fbf7797a"
   },
   "outputs": [],
   "source": [
    "chain_object = is_chain.groupby('object_type').agg({'number' : 'median', 'id' : 'count'}).sort_values(by='number', ascending=False).reset_index()\n",
    "chain_object"
   ]
  },
  {
   "cell_type": "code",
   "execution_count": null,
   "metadata": {
    "colab": {
     "base_uri": "https://localhost:8080/",
     "height": 497
    },
    "id": "H7DTwatuzit2",
    "outputId": "77443297-6ef3-4634-e63d-9559a42b2392"
   },
   "outputs": [],
   "source": [
    "plt.figure(figsize=(16,8))\n",
    "sns.set_palette('Set3') \n",
    "ax = sns.boxplot(x=chain_object['number'])\n",
    "ax.set_xlabel(\"Посадочные места, шт.\")\n",
    "plt.show()\n",
    "plt.close()"
   ]
  },
  {
   "cell_type": "code",
   "execution_count": null,
   "metadata": {
    "colab": {
     "base_uri": "https://localhost:8080/"
    },
    "id": "6B66Mpi0iL4_",
    "outputId": "dbdaa072-301b-4322-fd8b-1f7c327a1ce2"
   },
   "outputs": [],
   "source": [
    "chain_object['number'].describe()"
   ]
  },
  {
   "cell_type": "code",
   "execution_count": null,
   "metadata": {
    "colab": {
     "base_uri": "https://localhost:8080/",
     "height": 497
    },
    "id": "KsBUROs6ganJ",
    "outputId": "b05c4d73-6295-426a-82a9-3726fbd994bd"
   },
   "outputs": [],
   "source": [
    "plt.figure(figsize=(16,8))\n",
    "sns.set_palette('colorblind') \n",
    "ax = sns.boxplot(x=chain_object['id'])\n",
    "ax.set_xlabel(\"Посетители, чел.\")\n",
    "plt.show()\n",
    "plt.close()"
   ]
  },
  {
   "cell_type": "code",
   "execution_count": null,
   "metadata": {
    "colab": {
     "base_uri": "https://localhost:8080/"
    },
    "id": "oMRXKu9UiVUE",
    "outputId": "0209d8dc-ae41-4c7d-8445-e20a47304c18"
   },
   "outputs": [],
   "source": [
    "chain_object['id'].describe()"
   ]
  },
  {
   "cell_type": "markdown",
   "metadata": {
    "id": "5FnV45f_8MCo"
   },
   "source": [
    "Для сетевых заведений характерно много заведений с небольшим числом посадочных мест и, соответсвенно, небольшим числом посетителей. Но есть заведения, сильно отклоняющиеся от данной тенденции."
   ]
  },
  {
   "cell_type": "code",
   "execution_count": null,
   "metadata": {
    "colab": {
     "base_uri": "https://localhost:8080/",
     "height": 513
    },
    "id": "s5oV2Vxii57Z",
    "outputId": "f921a00a-c10e-46f0-f7d6-b276436569e7"
   },
   "outputs": [],
   "source": [
    "v"
   ]
  },
  {
   "cell_type": "markdown",
   "metadata": {
    "id": "tRte30M4jeR5"
   },
   "source": [
    "Сетевыми чаще всего являются кафе, фаст-фуд и рестораны."
   ]
  },
  {
   "cell_type": "code",
   "execution_count": null,
   "metadata": {
    "colab": {
     "base_uri": "https://localhost:8080/",
     "height": 552
    },
    "id": "2F0unOPL-dlI",
    "outputId": "952a7fe6-8121-4ba9-bde3-d1776c7b1f3b"
   },
   "outputs": [],
   "source": [
    "(rest_data\n",
    "         .pivot_table(index='object_type', columns = 'chain',values='id', aggfunc='mean')\n",
    "         .plot(kind='bar', grid=True, figsize=(16,8), rot=45, title='Сравнение сетевых и несетвых заведений по среднему количеству посетителей на вид заведения', color=['cadetblue','peru'])\n",
    ");"
   ]
  },
  {
   "cell_type": "markdown",
   "metadata": {
    "id": "TZOMG1_lkVKE"
   },
   "source": [
    "Большая часть заведений общественного питания в Москве - несетевые. Среди несетвых заведений в среднем больше всего посетителей приходится на: закусочные, кафетерии, кулинарии и фаст-фуды. Среди сетевых -буфеты, кафетерии и кулинарии.  \n",
    "\n",
    "**[Изучение наиболее популярных улиц для заведений](#popular_street)**\n",
    "\n",
    "На основе имеющихся данных об адресе заведения, выделим 10 наиболее популярных месторасположений, а далее разделим их по районам."
   ]
  },
  {
   "cell_type": "code",
   "execution_count": null,
   "metadata": {
    "colab": {
     "base_uri": "https://localhost:8080/",
     "height": 405
    },
    "id": "adqaOyVloN9k",
    "outputId": "8e4d9aef-b74f-45b3-e92c-4663007e1bee"
   },
   "outputs": [],
   "source": [
    "list = (['город московский', 'поселение мосрентген', 'поселение московский', 'поселение михайлово-ярцевское', 'поселение марушкинское', 'город троицк', 'поселение сосенское', 'город зеленоград'])\n",
    "def get_street(row):\n",
    "      if row['address'].split(\",\")[0].strip() == 'город москва' and row['address'].split(\",\")[1].strip() not in list:\n",
    "            return row['address'].split(\",\")[1].strip()\n",
    "      elif row['address'].split(\",\")[1].strip() in list:\n",
    "            return row['address'].split(\",\")[2].strip()\n",
    "      else:\n",
    "            return row['address'].split(\",\")[0].strip()\n",
    "rest_data['street'] = rest_data.apply(get_street, axis=1)\n",
    "rest_data"
   ]
  },
  {
   "cell_type": "code",
   "execution_count": null,
   "metadata": {
    "colab": {
     "base_uri": "https://localhost:8080/",
     "height": 346
    },
    "id": "qdUfONq1GEt5",
    "outputId": "39bfe44a-a8c3-4d9f-b0c7-f0e303d37d37"
   },
   "outputs": [],
   "source": [
    "street_count = rest_data.groupby('street').agg({'id': 'count', 'number' : 'median'}).reset_index().sort_values(by='id', ascending=False)\n",
    "street_count_head = street_count.head(10)\n",
    "street_count_head"
   ]
  },
  {
   "cell_type": "code",
   "execution_count": null,
   "metadata": {
    "colab": {
     "base_uri": "https://localhost:8080/",
     "height": 513
    },
    "id": "H8mLG2fbGmoO",
    "outputId": "03e06a41-b3c5-4d10-bf1e-0fb91e08041b"
   },
   "outputs": [],
   "source": [
    "plt.figure(figsize=(16,8))\n",
    "sns.set_palette('muted') \n",
    "sns.set_style(\"whitegrid\")\n",
    "ax = sns.barplot(data=street_count_head, y=\"street\", x=\"id\")\n",
    "ax.set_title(\"Топ-10 улиц по количеству объектов общественного питания\")\n",
    "ax.set_ylabel(\"\")\n",
    "ax.set_xlabel(\"Заведения общественного питания, шт.\")\n",
    "plt.show()\n",
    "plt.close()"
   ]
  },
  {
   "cell_type": "markdown",
   "metadata": {
    "id": "pO9btaAP9Gl9"
   },
   "source": [
    "Распределение наиболее густозаселенных заведениями улиц по районам и округам:\n",
    "* Проспект Мира: СВАО(а именно: Мещанский, Марьина Роща, Алексеевский, Останкинский, Свиблово, Ростокино)\n",
    "* Профсоюзная улица: ЮЗАО (а именно: Академический, Коньково, Обручевский, Тёплый Стан, Черёмушки, Ясенево)\n",
    "* Ленинградский проспект: САО (а именно: Беговой, Аэропорт, Сокол, Хорошёвский)\n",
    "* Пресненская набережная: ЦАО (а именно: Пресненский)\n",
    "* Варшавское шоссе: ЮЗАО (а именно: Донской, Нагатино-Садовники, Нагорный)\n",
    "* Ленинский проспект: ЮЗАО (а именно: Гагаринский и Донской)\n",
    "* Проспект Вернадского: ЗАО (а именно: Проспект Вернадского)\n",
    "* Кутузовский проспект: ЗАО (а именно: Дорогомилово, Фили-Давыдково)\n",
    "* Каширское шоссе: ЮАО (а именно: Нагатино-Садовники и Нагорный)\n",
    "* Кировоградская улица: ЮАО (а именно: Чертаново Северное, Чертаново Центральное и Чертаново Южное)\n",
    "\n",
    "Наиболее популярные округа для заведений общепита: ЮЗАО, ЗАО, ЮАО, а именно юг оранжевой и серой ветки г. Москвы, не прилегающий к центру города, находятся в 3-4 станциях от кольцевой. То есть чаще открываются заведения в спальных районах, скорее всего в расчете на то, что люди скорее зайдут в ближайшее заведение, чем поедут куда-то далеко.\n",
    "\n",
    "**[Анализ наименее популярных районов для заведений](#unpopular_street)**\n",
    "\n",
    "Посмотрим, на каких улицах располагается только одно заведение и изучим, в каких районах располагаются такие заведения."
   ]
  },
  {
   "cell_type": "code",
   "execution_count": null,
   "metadata": {
    "colab": {
     "base_uri": "https://localhost:8080/",
     "height": 405
    },
    "id": "reieZ7dPL1pR",
    "outputId": "44b0158d-97b2-488e-b38a-2615c23a797f"
   },
   "outputs": [],
   "source": [
    "unpopular_street = street_count.query('id == \"1\"')\n",
    "print('Всего улиц с 1 объектом общественного питания: {}, что составляет {:.1%} от всего кол-ва улиц с объектами общественного питания'\\\n",
    "      .format(len(unpopular_street), (len(unpopular_street)/len(street_count))))"
   ]
  },
  {
   "cell_type": "code",
   "execution_count": null,
   "metadata": {},
   "outputs": [],
   "source": [
    "from io import BytesIO\n",
    "import requests\n",
    "spreadsheet_id = '1gKh1MjZk6oa_b7qggRm9wGai_nLfbDIhDMhwWscqCao'\n",
    "file_name = 'https://docs.google.com/spreadsheets/d/{}/export?format=csv'.format(spreadsheet_id)\n",
    "r = requests.get(file_name)\n",
    "district = pd.read_csv(BytesIO(r.content))\n",
    "district.head(10)"
   ]
  },
  {
   "cell_type": "code",
   "execution_count": null,
   "metadata": {
    "colab": {
     "base_uri": "https://localhost:8080/",
     "height": 405
    },
    "id": "ULAN-j-9Swxb",
    "outputId": "ea1bc1d2-ca6d-4d99-ab36-9f787e46ecd9"
   },
   "outputs": [],
   "source": [
    "district['streetname'] = district['streetname'].str.lower()\n",
    "district"
   ]
  },
  {
   "cell_type": "code",
   "execution_count": null,
   "metadata": {
    "colab": {
     "base_uri": "https://localhost:8080/",
     "height": 346
    },
    "id": "Fpx0VCLOSoo1",
    "outputId": "1086d6ee-38fe-4c56-dee3-822cc989c590"
   },
   "outputs": [],
   "source": [
    "unpopular_merged = unpopular_street.merge(district[['streetname', 'okrug', 'area']], left_on='street', right_on='streetname')\n",
    "display(unpopular_merged.groupby('area')['id'].count().reset_index().sort_values(by='id').head(10))"
   ]
  },
  {
   "cell_type": "code",
   "execution_count": null,
   "metadata": {
    "colab": {
     "base_uri": "https://localhost:8080/",
     "height": 346
    },
    "id": "aberrkYkqF5F",
    "outputId": "3b096c57-b10a-48e4-f3c4-72af401c1f26"
   },
   "outputs": [],
   "source": [
    "display(unpopular_merged.groupby('area')['id'].count().reset_index().sort_values(by='id').tail(10))"
   ]
  },
  {
   "cell_type": "markdown",
   "metadata": {
    "id": "Sy6FHhPWqE_c"
   },
   "source": [
    "Всего улиц с 1 объектом общественного питания: 652, что составляет 32.1% от всего кол-ва улиц с объектами общественного питания.\n",
    "\n",
    "Больше всего улиц с одним объектом общественного питания в центре города: Таганский, Хамовники, Басманный, Пресненский, Тверской. Возможно одна из причин такого распределения - много маленьких улиц в центре. По одному объекту общесвтенного питания было определено в спальных районах, среди них встречаются районы, которые вошли в список наиболее популярных районов, что возможно связано с привязкой улицы к району, где могут быть некоторые неточности.\n",
    "\n",
    "**[Изучение количества посадочных мест заведения на популярных улицах](#number_popular_street)**"
   ]
  },
  {
   "cell_type": "code",
   "execution_count": null,
   "metadata": {
    "id": "ETItLMy30gvN"
   },
   "outputs": [],
   "source": [
    "top10_streets_list = street_count_head['street'].to_list()\n",
    "top10_streets_data = rest_data.query('street in @top10_streets_list')"
   ]
  },
  {
   "cell_type": "code",
   "execution_count": null,
   "metadata": {
    "colab": {
     "base_uri": "https://localhost:8080/",
     "height": 513
    },
    "id": "2wiQRDn3rBB3",
    "outputId": "22143d88-b1bd-4bc0-dda5-e212c70072fc"
   },
   "outputs": [],
   "source": [
    "top10_streets_data['number'].median()\n",
    "rest_data['number'].median()\n",
    "plt.figure(figsize=(16,8))\n",
    "sns.set_palette('muted') \n",
    "sns.set_style(\"whitegrid\")\n",
    "ax = sns.boxplot(data=top10_streets_data, x='number', y='street')\n",
    "ax.set_xlim(-10,700)\n",
    "plt.title('Распределение количества посадочных мест для топ-10 улиц по количеству объектов')\n",
    "plt.ylabel('')\n",
    "plt.xlabel('Посадочные места, шт.')\n",
    "plt.show()"
   ]
  },
  {
   "cell_type": "markdown",
   "metadata": {
    "id": "0kmsI_F3S2yN"
   },
   "source": [
    "В среднем на самых густонаполненных заведениями улицах - 20-50 посадочных мест, а выбросы для каждой улицы начинаются после 150 посадочных мест.\n",
    "\n",
    "## [Вывод и рекомендации](#conclusion)\n",
    "\n",
    "* Больше всего в Москве кафе, столовых, ресторанов и фаст-фуда;\n",
    "* Кулинарии и закусочные наименее популярные виды общепита в Москве;\n",
    "* В среднем самое большое количество посадочных мест в столовых и ресторанах;\n",
    "* Зведения фаст-фуда и кафетерии обычно не располагают большим количеством посадочных мест;\n",
    "* Несетевые заведения составляют почти 81% всех заведений города;\n",
    "* Для сетевых заведений характерно много заведений с небольшим количеством посадочных мест;\n",
    "* Сетевыми чаще всего являются кафе, фаст-фуд и рестораны;\n",
    "* Наиболее популярные районы для заведений общепита:\n",
    "      - Московский международный деловой центр Москва-Сити;\n",
    "      - район Чертаново Центральное;\n",
    "      - район Тропарёво-Никулино;\n",
    "      - Мещанский район;\n",
    "      - район Свиблово;\n",
    "      - район Аэропорт;\n",
    "      - район Дорогомилово;\n",
    "      - район Нагатино-Садовники;\n",
    "      - район Фили-Давыдково;\n",
    "      - Алексеевский район.\n",
    "* Наименее популярные районы с большим количеством улиц с одним заведением находятся в основном в центре:\n",
    "      - Таганский район - 27 улиц с одним объектом;\n",
    "      - Тверской район - 23 улицы с одним объектом;\n",
    "      - Басманный район - 23 улицы с одним объектом;\n",
    "      - район Марьина Роща - 19 улиц с одним объектом;\n",
    "      - Пресненский район - 17 улиц с одним объектом;\n",
    "      - район Богородское - 13 улиц с одним объектом;\n",
    "      - Даниловский район - 12 улиц с один объектом;\n",
    "      - Мещанский район - 12 улиц с одним объектом;\n",
    "      - район Замоскворечье - 12 улиц с одним объектом;\n",
    "      - район Соколиная гора - 11 улиц с одним объектом.\n",
    "* В среднем в популярных райнах среди заведений находятся заведения с 20-50 посадочными местами.\n",
    "\n",
    "**На основе полученной информации можно говорить о том, что:**\n",
    "* Выбирая тип заведения, лучше остановиться на кафе или ресторане. Да, их много, но они популярны.\n",
    "* Распространение несетвых заведений общепита выше, чем сетевых, так что скорее всего сетевые заведения менее выгодны и за счет этого они чаще закрываются в том или ином месте.\n",
    "* Заведение лучше открывать не в центре города, а в относительно спальных районах, если точнее, то: район Чертаново, Свиблово, Аэропорт, Деловой центр, Тропарёво-Никулино. В этих районах высокая концентрация заведений, за счет чего там выше проходимсть и при правильно построенной концепции и маркетинге - можно привлечь большое количество посетителей. \n",
    "\n",
    "Ссылка на презентацию: https://disk.yandex.ru/i/Yd4jD6_hjdWOPA\n"
   ]
  }
 ],
 "metadata": {
  "colab": {
   "collapsed_sections": [],
   "name": "Untitled3.ipynb",
   "provenance": [],
   "toc_visible": true
  },
  "kernelspec": {
   "display_name": "Python 3",
   "language": "python",
   "name": "python3"
  },
  "language_info": {
   "codemirror_mode": {
    "name": "ipython",
    "version": 3
   },
   "file_extension": ".py",
   "mimetype": "text/x-python",
   "name": "python",
   "nbconvert_exporter": "python",
   "pygments_lexer": "ipython3",
   "version": "3.7.4"
  },
  "toc": {
   "base_numbering": 1,
   "nav_menu": {},
   "number_sections": true,
   "sideBar": true,
   "skip_h1_title": true,
   "title_cell": "Table of Contents",
   "title_sidebar": "Contents",
   "toc_cell": false,
   "toc_position": {},
   "toc_section_display": true,
   "toc_window_display": false
  }
 },
 "nbformat": 4,
 "nbformat_minor": 1
}
