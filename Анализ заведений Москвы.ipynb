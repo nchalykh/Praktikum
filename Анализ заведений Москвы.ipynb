{
  "nbformat": 4,
  "nbformat_minor": 0,
  "metadata": {
    "colab": {
      "name": "83b2cffd-5125-4e68-bc0e-f3ffae2de398.ipynb",
      "provenance": [],
      "collapsed_sections": []
    },
    "kernelspec": {
      "display_name": "Python 3",
      "language": "python",
      "name": "python3"
    },
    "language_info": {
      "codemirror_mode": {
        "name": "ipython",
        "version": 3
      },
      "file_extension": ".py",
      "mimetype": "text/x-python",
      "name": "python",
      "nbconvert_exporter": "python",
      "pygments_lexer": "ipython3",
      "version": "3.7.4"
    },
    "toc": {
      "base_numbering": 1,
      "nav_menu": {},
      "number_sections": true,
      "sideBar": true,
      "skip_h1_title": true,
      "title_cell": "Table of Contents",
      "title_sidebar": "Contents",
      "toc_cell": false,
      "toc_position": {},
      "toc_section_display": true,
      "toc_window_display": false
    }
  },
  "cells": [
    {
      "cell_type": "markdown",
      "metadata": {
        "id": "_xcg1skrQO2A"
      },
      "source": [
        "# Анализ рынка заведений общественного питания г.Москвы\n",
        "**Цель проекта**: исследовать рынок заведений общественного питания для дальнейшего открытия заведения.\n",
        "\n",
        "**Задачи проекта**:\n",
        "- Исследовать существующие виды общественного питания, их распространненость;\n",
        "- Изучить сетевые заведения города;\n",
        "- Определить, какие районы наиболее выгодны для открытия заведения;\n",
        "- Выявить, сколько посадочных мест является оптимальным.\n",
        "\n",
        "Для реализации проекта будут использованы:  открытые данные о заведениях общественного питания в Москве и инструменты Python.\n",
        "\n",
        "**Этапы исследования**:\n",
        "1. [Подготовка данных](#preanalysis)\n",
        "2. [Анализ данных](#analysis)\n",
        "    - [Исследование видов объектов общественного питания](#type_object)\n",
        "    - [Исследование сетевых и несетевых заведений](#chain)\n",
        "    - [Изучение наиболее популярных улиц для заведений](#popular_street)\n",
        "    - [Анализ наименее популярных районов для заведений](#unpopular_street)\n",
        "    - [Изучение количества посадочных мест заведения на популярных улицах](#number_popular_street)\n",
        "3. [Вывод и рекомендации](#conclusion)"
      ]
    },
    {
      "cell_type": "markdown",
      "metadata": {
        "id": "o6c46jo_RQNW"
      },
      "source": [
        "## [Подготовка данных](#preanalysis)\n",
        "\n",
        "На этапе подготовки данных импортируем все необходимые для реализации проекта библиотеки и откроем данные таблиц, чтобы оценить, какие изменения в данных нужно сделать."
      ]
    },
    {
      "cell_type": "code",
      "metadata": {
        "id": "Ut3QkarSQNJ-"
      },
      "source": [
        "import pandas as pd\n",
        "import numpy as np\n",
        "from matplotlib import pyplot as plt\n",
        "import seaborn as sns\n",
        "import datetime as dt\n",
        "from plotly import graph_objects as go\n",
        "import plotly.express as px\n",
        "import requests"
      ],
      "execution_count": null,
      "outputs": []
    },
    {
      "cell_type": "code",
      "metadata": {
        "colab": {
          "base_uri": "https://localhost:8080/",
          "height": 588
        },
        "id": "7jxhzRBtQOZA",
        "outputId": "5649eafb-7ea4-4742-dfcd-45306eafddf7"
      },
      "source": [
        "try:\n",
        "    rest_data = pd.read_csv('/content/rest_data.csv')\n",
        "except:\n",
        "    rest_data = pd.read_csv('/datasets/rest_data.csv')\n",
        "rest_data.info()\n",
        "rest_data.head(10)"
      ],
      "execution_count": null,
      "outputs": [
        {
          "output_type": "stream",
          "text": [
            "<class 'pandas.core.frame.DataFrame'>\n",
            "RangeIndex: 15366 entries, 0 to 15365\n",
            "Data columns (total 6 columns):\n",
            " #   Column       Non-Null Count  Dtype \n",
            "---  ------       --------------  ----- \n",
            " 0   id           15366 non-null  int64 \n",
            " 1   object_name  15366 non-null  object\n",
            " 2   chain        15366 non-null  object\n",
            " 3   object_type  15366 non-null  object\n",
            " 4   address      15366 non-null  object\n",
            " 5   number       15366 non-null  int64 \n",
            "dtypes: int64(2), object(4)\n",
            "memory usage: 720.4+ KB\n"
          ],
          "name": "stdout"
        },
        {
          "output_type": "execute_result",
          "data": {
            "text/html": [
              "<div>\n",
              "<style scoped>\n",
              "    .dataframe tbody tr th:only-of-type {\n",
              "        vertical-align: middle;\n",
              "    }\n",
              "\n",
              "    .dataframe tbody tr th {\n",
              "        vertical-align: top;\n",
              "    }\n",
              "\n",
              "    .dataframe thead th {\n",
              "        text-align: right;\n",
              "    }\n",
              "</style>\n",
              "<table border=\"1\" class=\"dataframe\">\n",
              "  <thead>\n",
              "    <tr style=\"text-align: right;\">\n",
              "      <th></th>\n",
              "      <th>id</th>\n",
              "      <th>object_name</th>\n",
              "      <th>chain</th>\n",
              "      <th>object_type</th>\n",
              "      <th>address</th>\n",
              "      <th>number</th>\n",
              "    </tr>\n",
              "  </thead>\n",
              "  <tbody>\n",
              "    <tr>\n",
              "      <th>0</th>\n",
              "      <td>151635</td>\n",
              "      <td>СМЕТАНА</td>\n",
              "      <td>нет</td>\n",
              "      <td>кафе</td>\n",
              "      <td>город Москва, улица Егора Абакумова, дом 9</td>\n",
              "      <td>48</td>\n",
              "    </tr>\n",
              "    <tr>\n",
              "      <th>1</th>\n",
              "      <td>77874</td>\n",
              "      <td>Родник</td>\n",
              "      <td>нет</td>\n",
              "      <td>кафе</td>\n",
              "      <td>город Москва, улица Талалихина, дом 2/1, корпус 1</td>\n",
              "      <td>35</td>\n",
              "    </tr>\n",
              "    <tr>\n",
              "      <th>2</th>\n",
              "      <td>24309</td>\n",
              "      <td>Кафе «Академия»</td>\n",
              "      <td>нет</td>\n",
              "      <td>кафе</td>\n",
              "      <td>город Москва, Абельмановская улица, дом 6</td>\n",
              "      <td>95</td>\n",
              "    </tr>\n",
              "    <tr>\n",
              "      <th>3</th>\n",
              "      <td>21894</td>\n",
              "      <td>ПИЦЦЕТОРИЯ</td>\n",
              "      <td>да</td>\n",
              "      <td>кафе</td>\n",
              "      <td>город Москва, Абрамцевская улица, дом 1</td>\n",
              "      <td>40</td>\n",
              "    </tr>\n",
              "    <tr>\n",
              "      <th>4</th>\n",
              "      <td>119365</td>\n",
              "      <td>Кафе «Вишневая метель»</td>\n",
              "      <td>нет</td>\n",
              "      <td>кафе</td>\n",
              "      <td>город Москва, Абрамцевская улица, дом 9, корпус 1</td>\n",
              "      <td>50</td>\n",
              "    </tr>\n",
              "    <tr>\n",
              "      <th>5</th>\n",
              "      <td>27429</td>\n",
              "      <td>СТОЛ. ПРИ ГОУ СОШ № 1051</td>\n",
              "      <td>нет</td>\n",
              "      <td>столовая</td>\n",
              "      <td>город Москва, Абрамцевская улица, дом 15, корп...</td>\n",
              "      <td>240</td>\n",
              "    </tr>\n",
              "    <tr>\n",
              "      <th>6</th>\n",
              "      <td>148815</td>\n",
              "      <td>Брусника</td>\n",
              "      <td>да</td>\n",
              "      <td>кафе</td>\n",
              "      <td>город Москва, переулок Сивцев Вражек, дом 6/2</td>\n",
              "      <td>10</td>\n",
              "    </tr>\n",
              "    <tr>\n",
              "      <th>7</th>\n",
              "      <td>20957</td>\n",
              "      <td>Буфет МТУСИ</td>\n",
              "      <td>нет</td>\n",
              "      <td>столовая</td>\n",
              "      <td>город Москва, Авиамоторная улица, дом 8, строе...</td>\n",
              "      <td>90</td>\n",
              "    </tr>\n",
              "    <tr>\n",
              "      <th>8</th>\n",
              "      <td>20958</td>\n",
              "      <td>КПФ СЕМЬЯ-1</td>\n",
              "      <td>нет</td>\n",
              "      <td>столовая</td>\n",
              "      <td>город Москва, Авиамоторная улица, дом 8, строе...</td>\n",
              "      <td>150</td>\n",
              "    </tr>\n",
              "    <tr>\n",
              "      <th>9</th>\n",
              "      <td>28858</td>\n",
              "      <td>Столовая МТУСИ</td>\n",
              "      <td>нет</td>\n",
              "      <td>столовая</td>\n",
              "      <td>город Москва, Авиамоторная улица, дом 8, строе...</td>\n",
              "      <td>120</td>\n",
              "    </tr>\n",
              "  </tbody>\n",
              "</table>\n",
              "</div>"
            ],
            "text/plain": [
              "       id  ... number\n",
              "0  151635  ...     48\n",
              "1   77874  ...     35\n",
              "2   24309  ...     95\n",
              "3   21894  ...     40\n",
              "4  119365  ...     50\n",
              "5   27429  ...    240\n",
              "6  148815  ...     10\n",
              "7   20957  ...     90\n",
              "8   20958  ...    150\n",
              "9   28858  ...    120\n",
              "\n",
              "[10 rows x 6 columns]"
            ]
          },
          "metadata": {
            "tags": []
          },
          "execution_count": 28
        }
      ]
    },
    {
      "cell_type": "markdown",
      "metadata": {
        "id": "4PgNgTkgVC0Z"
      },
      "source": [
        "Явных пропусков в данных нет. Посмотрим детально корректность значений по столбцам. В названии заведений нужно будет поменять регистр и привести их к общему виду, а также в названии типа заведения и адресе. Помимо этого посмотрим уникальные значения столбцов, чтобы выявить неточности."
      ]
    },
    {
      "cell_type": "code",
      "metadata": {
        "colab": {
          "base_uri": "https://localhost:8080/"
        },
        "id": "kT-flewMbwSK",
        "outputId": "b2e46379-b396-4201-b94d-fecf9350b764"
      },
      "source": [
        "rest_data['chain'].unique()\n"
      ],
      "execution_count": null,
      "outputs": [
        {
          "output_type": "execute_result",
          "data": {
            "text/plain": [
              "array(['нет', 'да'], dtype=object)"
            ]
          },
          "metadata": {
            "tags": []
          },
          "execution_count": 29
        }
      ]
    },
    {
      "cell_type": "code",
      "metadata": {
        "colab": {
          "base_uri": "https://localhost:8080/"
        },
        "id": "J0uv4hjwb7Re",
        "outputId": "d62ed90e-e19d-40bb-81e1-395af1a7c820"
      },
      "source": [
        "rest_data['number'].unique()"
      ],
      "execution_count": null,
      "outputs": [
        {
          "output_type": "execute_result",
          "data": {
            "text/plain": [
              "array([  48,   35,   95,   40,   50,  240,   10,   90,  150,  120,    5,\n",
              "         24,  140,   32,  270,  320,    7,    2,  160,   20,   30,  110,\n",
              "          6,  192,   65,   45,    4,  125,  100,   49,   63,   70,   22,\n",
              "         56,   38,  220,   78,    3,   80,   46,   15,   96,   60,   47,\n",
              "        180,  250,  200,   25,   12,   14,   16,  420,   98,   75,   34,\n",
              "        216,   43,   54,  580,  159,    0,   28,   64,   67,   42,  124,\n",
              "         82,   36,  114,    8,   71,   18,  158,   55,  196,   44,   76,\n",
              "        144,   41,   26,   68,  143,  198,   79,    1,   86,  148,  190,\n",
              "        202,  131,   52,   92,  300,   85,  102,   88,   84,  246,   81,\n",
              "         94,   23,   37,   39,   99,   61,   11,  130,   74,  128,  106,\n",
              "         58,  260,   27,   19,   29,   13,    9,  168,  350,   93,   33,\n",
              "        105,  239,  104,   17,   62,  230,  132,   87,   89,  170,   83,\n",
              "         21,  108,  210,   51,   53,  115,   66,  280,  126,   97,  356,\n",
              "        156,  428,  380,  138,   72,  118,  139,  236,  450,  194,  330,\n",
              "        225,  500,  112,  109,  146,  306,  272,  290,  176,  175,  252,\n",
              "        122,  400,  542,  424, 1040,  660,  282,  145,  395,  188,  149,\n",
              "        157,  103,   69,  184,  185,  121,  187,  247,  217,  313,  155,\n",
              "        310,  328,  101,  226,  398,  430,  166,  301,  245,  238,  283,\n",
              "        133,  142,   73,   77,  650,   57,   59,  154,  222,  174, 1200,\n",
              "        204,  127,  360,  178,  680,  244,  134,  213,  214,  152,  206,\n",
              "        248,  324,  224,  165,   31,  277,  337,  259,  167,  266,  481,\n",
              "        273,  136,  229,  242,  533,  218,  173,  228,  760,  585,  195,\n",
              "        284,  305,  215,  162,  135,  116,   91,  644,  600,  177,  338,\n",
              "        181,  302,  237,  288,  362,  141,  111,  153,  123,  495,  186,\n",
              "        275,  232,  480,  164,  255,  147,  189,  286,  625,  207,  520,\n",
              "        675,  292,  340,  205,  278,  151,  343, 1500, 1400,  308,  161,\n",
              "        483,  107,  243,  371,  276,  257,  271,  456, 1288,  172,  478,\n",
              "        113,  199,  920,  287,  326,  208,  472,  234,  455,  307, 1700,\n",
              "        490,  491,  700,  295,  268,  212,  119])"
            ]
          },
          "metadata": {
            "tags": []
          },
          "execution_count": 30
        }
      ]
    },
    {
      "cell_type": "code",
      "metadata": {
        "colab": {
          "base_uri": "https://localhost:8080/"
        },
        "id": "dI_jvrfAcm_G",
        "outputId": "fdfeb549-9a93-44c2-b998-4c6f39ee769b"
      },
      "source": [
        "rest_data['object_type'].unique()"
      ],
      "execution_count": null,
      "outputs": [
        {
          "output_type": "execute_result",
          "data": {
            "text/plain": [
              "array(['кафе', 'столовая', 'закусочная',\n",
              "       'предприятие быстрого обслуживания', 'ресторан', 'кафетерий',\n",
              "       'буфет', 'бар', 'магазин (отдел кулинарии)'], dtype=object)"
            ]
          },
          "metadata": {
            "tags": []
          },
          "execution_count": 31
        }
      ]
    },
    {
      "cell_type": "code",
      "metadata": {
        "colab": {
          "base_uri": "https://localhost:8080/"
        },
        "id": "JH6kuq-PGOmD",
        "outputId": "6464be46-52e8-48d0-ab3a-c27faaccb8f7"
      },
      "source": [
        "rest_data['object_type'].value_counts()"
      ],
      "execution_count": null,
      "outputs": [
        {
          "output_type": "execute_result",
          "data": {
            "text/plain": [
              "кафе                                 6099\n",
              "столовая                             2587\n",
              "ресторан                             2285\n",
              "предприятие быстрого обслуживания    1923\n",
              "бар                                   856\n",
              "буфет                                 585\n",
              "кафетерий                             398\n",
              "закусочная                            360\n",
              "магазин (отдел кулинарии)             273\n",
              "Name: object_type, dtype: int64"
            ]
          },
          "metadata": {
            "tags": []
          },
          "execution_count": 32
        }
      ]
    },
    {
      "cell_type": "code",
      "metadata": {
        "id": "Lv-hVmuNozUm"
      },
      "source": [
        "rest_data['object_type'] = rest_data['object_type'].str.replace('предприятие быстрого обслуживания', 'фаст-фуд')\n",
        "rest_data['object_type'] = rest_data['object_type'].str.replace('магазин \\(отдел кулинарии\\)', 'кулинария')"
      ],
      "execution_count": null,
      "outputs": []
    },
    {
      "cell_type": "code",
      "metadata": {
        "colab": {
          "base_uri": "https://localhost:8080/"
        },
        "id": "bv36m7hPRhNA",
        "outputId": "f123630e-10bc-417e-b712-bc7a7ee996ca"
      },
      "source": [
        "#приведем данные столбца с названиями заведений к нижнему регистру и проверим наличие дубликатов\n",
        "rest_data['object_name'] = rest_data['object_name'].str.lower()\n",
        "rest_data['object_name'] = rest_data['object_name'].str.replace('ё','е')\n",
        "\n",
        "#избавимся от типа заведения в названии\n",
        "for type_rest in ['кафе', 'бар', 'кальянная', 'ресторан', 'буфет', 'столовая', 'хинкальная']:\n",
        "    rest_data['object_name'] = rest_data['object_name'].str.replace(type_rest,'', regex=True).str.strip()\n",
        "\n",
        "rest_data['object_name'] = rest_data['object_name'].str.replace(\"«\",'', regex=True).str.strip()\n",
        "rest_data['object_name'] = rest_data['object_name'].str.replace(\"»\",'', regex=True).str.strip()\n",
        "rest_data['object_name'] = rest_data['object_name'].str.replace(\"-\",'', regex=True).str.strip()\n",
        "\n",
        "rest_data['object_name'].unique()"
      ],
      "execution_count": null,
      "outputs": [
        {
          "output_type": "execute_result",
          "data": {
            "text/plain": [
              "array(['сметана', 'родник', 'академия', ..., 'магазин готовой еды милти',\n",
              "       'лаундж мята lounge', 'мята lounge октябрьская'], dtype=object)"
            ]
          },
          "metadata": {
            "tags": []
          },
          "execution_count": 34
        }
      ]
    },
    {
      "cell_type": "code",
      "metadata": {
        "id": "WnWEClwsn2R5"
      },
      "source": [
        "rest_data['address'] = rest_data['address'].str.replace('ё','е')\n",
        "rest_data['address'] = rest_data['address'].str.lower()"
      ],
      "execution_count": null,
      "outputs": []
    },
    {
      "cell_type": "code",
      "metadata": {
        "colab": {
          "base_uri": "https://localhost:8080/"
        },
        "id": "mVGrWNkxHCx7",
        "outputId": "1e5b22b4-9843-4616-8e15-5779de2ef0a8"
      },
      "source": [
        "rest_data.duplicated().sum()"
      ],
      "execution_count": null,
      "outputs": [
        {
          "output_type": "execute_result",
          "data": {
            "text/plain": [
              "0"
            ]
          },
          "metadata": {
            "tags": []
          },
          "execution_count": 36
        }
      ]
    },
    {
      "cell_type": "markdown",
      "metadata": {
        "id": "FTxUqzq6HO18"
      },
      "source": [
        "В ходе подготовки данных к анализу данные были приведены к общему виду для повышения точности исследования.\n",
        "\n",
        "## [Анализ данных](#analysis)\n",
        "**[Исследование видов объектов общественного питания](#type_objec)**\n",
        "\n",
        "На этом этапе проведем анализ заведений, отталкиваясь от того, к какому виду они относятся. В начале проанализируем соотношение видов объектов общественного питания по количеству заведений."
      ]
    },
    {
      "cell_type": "code",
      "metadata": {
        "colab": {
          "base_uri": "https://localhost:8080/",
          "height": 332
        },
        "id": "S2Mx6swoT-mK",
        "outputId": "5d9fa65b-af85-4479-a91e-9a69a5db6216"
      },
      "source": [
        "object_type_count = pd.DataFrame(rest_data.groupby('object_type')['id'].count()).reset_index().sort_values(by='id', ascending=False)\n",
        "object_type_count"
      ],
      "execution_count": null,
      "outputs": [
        {
          "output_type": "execute_result",
          "data": {
            "text/html": [
              "<div>\n",
              "<style scoped>\n",
              "    .dataframe tbody tr th:only-of-type {\n",
              "        vertical-align: middle;\n",
              "    }\n",
              "\n",
              "    .dataframe tbody tr th {\n",
              "        vertical-align: top;\n",
              "    }\n",
              "\n",
              "    .dataframe thead th {\n",
              "        text-align: right;\n",
              "    }\n",
              "</style>\n",
              "<table border=\"1\" class=\"dataframe\">\n",
              "  <thead>\n",
              "    <tr style=\"text-align: right;\">\n",
              "      <th></th>\n",
              "      <th>object_type</th>\n",
              "      <th>id</th>\n",
              "    </tr>\n",
              "  </thead>\n",
              "  <tbody>\n",
              "    <tr>\n",
              "      <th>3</th>\n",
              "      <td>кафе</td>\n",
              "      <td>6099</td>\n",
              "    </tr>\n",
              "    <tr>\n",
              "      <th>7</th>\n",
              "      <td>столовая</td>\n",
              "      <td>2587</td>\n",
              "    </tr>\n",
              "    <tr>\n",
              "      <th>6</th>\n",
              "      <td>ресторан</td>\n",
              "      <td>2285</td>\n",
              "    </tr>\n",
              "    <tr>\n",
              "      <th>8</th>\n",
              "      <td>фаст-фуд</td>\n",
              "      <td>1923</td>\n",
              "    </tr>\n",
              "    <tr>\n",
              "      <th>0</th>\n",
              "      <td>бар</td>\n",
              "      <td>856</td>\n",
              "    </tr>\n",
              "    <tr>\n",
              "      <th>1</th>\n",
              "      <td>буфет</td>\n",
              "      <td>585</td>\n",
              "    </tr>\n",
              "    <tr>\n",
              "      <th>4</th>\n",
              "      <td>кафетерий</td>\n",
              "      <td>398</td>\n",
              "    </tr>\n",
              "    <tr>\n",
              "      <th>2</th>\n",
              "      <td>закусочная</td>\n",
              "      <td>360</td>\n",
              "    </tr>\n",
              "    <tr>\n",
              "      <th>5</th>\n",
              "      <td>кулинария</td>\n",
              "      <td>273</td>\n",
              "    </tr>\n",
              "  </tbody>\n",
              "</table>\n",
              "</div>"
            ],
            "text/plain": [
              "  object_type    id\n",
              "3        кафе  6099\n",
              "7    столовая  2587\n",
              "6    ресторан  2285\n",
              "8    фаст-фуд  1923\n",
              "0         бар   856\n",
              "1       буфет   585\n",
              "4   кафетерий   398\n",
              "2  закусочная   360\n",
              "5   кулинария   273"
            ]
          },
          "metadata": {
            "tags": []
          },
          "execution_count": 37
        }
      ]
    },
    {
      "cell_type": "code",
      "metadata": {
        "colab": {
          "base_uri": "https://localhost:8080/",
          "height": 513
        },
        "id": "H_-arEI0FYKS",
        "scrolled": false,
        "outputId": "c345fbd4-155f-4868-d85c-3a10d8a83360"
      },
      "source": [
        "plt.figure(figsize=(16,8))\n",
        "sns.set_palette('colorblind') \n",
        "sns.set_style(\"whitegrid\")\n",
        "ax = sns.barplot(data=object_type_count, x=\"id\", y=\"object_type\", estimator=np.mean)\n",
        "ax.set_title(\"Соотношение видов объектов общественного питания по количеству\")\n",
        "ax.set_ylabel(\"Вид заведения\")\n",
        "ax.set_xlabel(\"Посетители, чел.\")\n",
        "plt.show()\n",
        "plt.close()"
      ],
      "execution_count": null,
      "outputs": [
        {
          "output_type": "display_data",
          "data": {
            "image/png": "[encoded data removed]",
            "text/plain": [
              "<Figure size 1152x576 with 1 Axes>"
            ]
          },
          "metadata": {
            "tags": []
          }
        }
      ]
    },
    {
      "cell_type": "markdown",
      "metadata": {
        "id": "in6oawZatFpz"
      },
      "source": [
        "Больше всего в Москве кафе, столовых, ресторанов и фаст-фуда. Кафе лидируют, скорее всего, за счет своей доступности: не очень высокий средний чек, комфортный уровень обслуживания. Кулинарии и закусочных почти нет. Возможно это связано с интрепретацией данных, т.к. вид заведения может быть определен не совсем кореектно. Псомотрим, как меняется среднее количество посадочных мест в зависимости от типа заведения."
      ]
    },
    {
      "cell_type": "code",
      "metadata": {
        "colab": {
          "base_uri": "https://localhost:8080/"
        },
        "id": "e4CIHMyai4cV",
        "outputId": "5819c4b4-ef11-4e8b-d495-6edc6530003b"
      },
      "source": [
        "rest_data['number'].describe()"
      ],
      "execution_count": null,
      "outputs": [
        {
          "output_type": "execute_result",
          "data": {
            "text/plain": [
              "count    15366.000000\n",
              "mean        59.547182\n",
              "std         74.736833\n",
              "min          0.000000\n",
              "25%         12.000000\n",
              "50%         40.000000\n",
              "75%         80.000000\n",
              "max       1700.000000\n",
              "Name: number, dtype: float64"
            ]
          },
          "metadata": {
            "tags": []
          },
          "execution_count": 39
        }
      ]
    },
    {
      "cell_type": "markdown",
      "metadata": {
        "id": "x-x10NyUjIIo"
      },
      "source": [
        "График среднего значения будем строить по медианным данным, т.к. могут быть искажения за счет большого разброса между минимальным и максимальным значениями."
      ]
    },
    {
      "cell_type": "code",
      "metadata": {
        "colab": {
          "base_uri": "https://localhost:8080/",
          "height": 332
        },
        "id": "Owexixn7ZMtJ",
        "outputId": "0f71da51-cdbf-478a-fa45-c943b0d27797"
      },
      "source": [
        "object_type_number = pd.DataFrame(rest_data.groupby('object_type')['number'].median()).reset_index()\n",
        "object_type_number"
      ],
      "execution_count": null,
      "outputs": [
        {
          "output_type": "execute_result",
          "data": {
            "text/html": [
              "<div>\n",
              "<style scoped>\n",
              "    .dataframe tbody tr th:only-of-type {\n",
              "        vertical-align: middle;\n",
              "    }\n",
              "\n",
              "    .dataframe tbody tr th {\n",
              "        vertical-align: top;\n",
              "    }\n",
              "\n",
              "    .dataframe thead th {\n",
              "        text-align: right;\n",
              "    }\n",
              "</style>\n",
              "<table border=\"1\" class=\"dataframe\">\n",
              "  <thead>\n",
              "    <tr style=\"text-align: right;\">\n",
              "      <th></th>\n",
              "      <th>object_type</th>\n",
              "      <th>number</th>\n",
              "    </tr>\n",
              "  </thead>\n",
              "  <tbody>\n",
              "    <tr>\n",
              "      <th>0</th>\n",
              "      <td>бар</td>\n",
              "      <td>35</td>\n",
              "    </tr>\n",
              "    <tr>\n",
              "      <th>1</th>\n",
              "      <td>буфет</td>\n",
              "      <td>32</td>\n",
              "    </tr>\n",
              "    <tr>\n",
              "      <th>2</th>\n",
              "      <td>закусочная</td>\n",
              "      <td>0</td>\n",
              "    </tr>\n",
              "    <tr>\n",
              "      <th>3</th>\n",
              "      <td>кафе</td>\n",
              "      <td>30</td>\n",
              "    </tr>\n",
              "    <tr>\n",
              "      <th>4</th>\n",
              "      <td>кафетерий</td>\n",
              "      <td>6</td>\n",
              "    </tr>\n",
              "    <tr>\n",
              "      <th>5</th>\n",
              "      <td>кулинария</td>\n",
              "      <td>0</td>\n",
              "    </tr>\n",
              "    <tr>\n",
              "      <th>6</th>\n",
              "      <td>ресторан</td>\n",
              "      <td>80</td>\n",
              "    </tr>\n",
              "    <tr>\n",
              "      <th>7</th>\n",
              "      <td>столовая</td>\n",
              "      <td>103</td>\n",
              "    </tr>\n",
              "    <tr>\n",
              "      <th>8</th>\n",
              "      <td>фаст-фуд</td>\n",
              "      <td>5</td>\n",
              "    </tr>\n",
              "  </tbody>\n",
              "</table>\n",
              "</div>"
            ],
            "text/plain": [
              "  object_type  number\n",
              "0         бар      35\n",
              "1       буфет      32\n",
              "2  закусочная       0\n",
              "3        кафе      30\n",
              "4   кафетерий       6\n",
              "5   кулинария       0\n",
              "6    ресторан      80\n",
              "7    столовая     103\n",
              "8    фаст-фуд       5"
            ]
          },
          "metadata": {
            "tags": []
          },
          "execution_count": 40
        }
      ]
    },
    {
      "cell_type": "code",
      "metadata": {
        "colab": {
          "base_uri": "https://localhost:8080/",
          "height": 513
        },
        "id": "tb8bpscjjcF6",
        "outputId": "f153cde2-00ec-4a59-c09d-52865e9e64e5"
      },
      "source": [
        "plt.figure(figsize=(16,8))\n",
        "sns.set_palette('colorblind') \n",
        "sns.set_style(\"whitegrid\")\n",
        "ax = sns.boxplot(data=rest_data, x=\"number\", y=\"object_type\")\n",
        "ax.set_title(\"Среднее количество посадочных мест в зависимости от вида заведения\")\n",
        "ax.set_xlim(0,600)\n",
        "ax.set_ylabel(\"Вид заведения\")\n",
        "ax.set_xlabel(\"Посетители, чел.\")\n",
        "plt.show()\n",
        "plt.close()"
      ],
      "execution_count": null,
      "outputs": [
        {
          "output_type": "display_data",
          "data": {
            "image/png": "[encoded data removed]",
            "text/plain": [
              "<Figure size 1152x576 with 1 Axes>"
            ]
          },
          "metadata": {
            "tags": []
          }
        }
      ]
    },
    {
      "cell_type": "markdown",
      "metadata": {
        "id": "lF_PKDLJuFb5"
      },
      "source": [
        "В среднем самое большое количество посадочных мест в столовых и ресторанах. Столовые рассчитаны на большое количество посетителей, часто они находятся при каких-то организациях, откуда много сотрудников идут на обед именно в столовую. Рестораны славятся не только едой, но и интерьером, поэтому их часто тоже делают в больших помещениях + немаловажный фактор что часто в ресторанах и столовых проводят мероприятия. Меньше всего вероятность найти место - в заведениях фаст-фуда и кафетерии. Данных по местам в кулинарии и закусочной нет."
      ]
    },
    {
      "cell_type": "markdown",
      "metadata": {
        "id": "IL8jxDRRrFxY"
      },
      "source": [
        "**[Исследование сетевых и несетевых заведений](#chain)**\n",
        "\n",
        "Заведения общественного питания делятся на сетевых и несетевые. Посмотрим, как распределилось соотношение сетевых и несетевых заведений по количеству заведений в городе. "
      ]
    },
    {
      "cell_type": "code",
      "metadata": {
        "colab": {
          "base_uri": "https://localhost:8080/",
          "height": 112
        },
        "id": "f3dc0O1rrXl8",
        "outputId": "1e44e4cc-cb10-4952-c2bc-0a810ac3d92e"
      },
      "source": [
        "chain_type_count = pd.DataFrame(rest_data.groupby('chain')['id'].count()).reset_index().sort_values(by='id', ascending=False)\n",
        "chain_type_count"
      ],
      "execution_count": null,
      "outputs": [
        {
          "output_type": "execute_result",
          "data": {
            "text/html": [
              "<div>\n",
              "<style scoped>\n",
              "    .dataframe tbody tr th:only-of-type {\n",
              "        vertical-align: middle;\n",
              "    }\n",
              "\n",
              "    .dataframe tbody tr th {\n",
              "        vertical-align: top;\n",
              "    }\n",
              "\n",
              "    .dataframe thead th {\n",
              "        text-align: right;\n",
              "    }\n",
              "</style>\n",
              "<table border=\"1\" class=\"dataframe\">\n",
              "  <thead>\n",
              "    <tr style=\"text-align: right;\">\n",
              "      <th></th>\n",
              "      <th>chain</th>\n",
              "      <th>id</th>\n",
              "    </tr>\n",
              "  </thead>\n",
              "  <tbody>\n",
              "    <tr>\n",
              "      <th>1</th>\n",
              "      <td>нет</td>\n",
              "      <td>12398</td>\n",
              "    </tr>\n",
              "    <tr>\n",
              "      <th>0</th>\n",
              "      <td>да</td>\n",
              "      <td>2968</td>\n",
              "    </tr>\n",
              "  </tbody>\n",
              "</table>\n",
              "</div>"
            ],
            "text/plain": [
              "  chain     id\n",
              "1   нет  12398\n",
              "0    да   2968"
            ]
          },
          "metadata": {
            "tags": []
          },
          "execution_count": 42
        }
      ]
    },
    {
      "cell_type": "code",
      "metadata": {
        "colab": {
          "base_uri": "https://localhost:8080/",
          "height": 542
        },
        "id": "eWBca5V5zke9",
        "outputId": "39a63c93-9b4e-4f21-f48d-6b43b7496bd9"
      },
      "source": [
        "name_rest = 'Несетевые', 'Сетевые'\n",
        "values = chain_type_count['id']\n",
        "\n",
        "fig = go.Figure(data=[go.Pie(labels=name_rest, values=values, pull=[0, 0.2])])\n",
        "fig.update_traces(textposition='inside')\n",
        "fig.update(layout_title_text='Соотношение сетевых и несетевых заведений общественного питания', \n",
        "           layout_showlegend=True)\n",
        "fig.show()"
      ],
      "execution_count": null,
      "outputs": [
        {
          "output_type": "display_data",
          "data": {
            "text/html": [
              "<html>\n",
              "<head><meta charset=\"utf-8\" /></head>\n",
              "<body>\n",
              "    <div>\n",
              "            <script src=\"https://cdnjs.cloudflare.com/ajax/libs/mathjax/2.7.5/MathJax.js?config=TeX-AMS-MML_SVG\"></script><script type=\"text/javascript\">if (window.MathJax) {MathJax.Hub.Config({SVG: {font: \"STIX-Web\"}});}</script>\n",
              "                <script type=\"text/javascript\">window.PlotlyConfig = {MathJaxConfig: 'local'};</script>\n",
              "        <script src=\"https://cdn.plot.ly/plotly-latest.min.js\"></script>    \n",
              "            <div id=\"164554db-1c84-4ce5-b230-d7ee42540c2b\" class=\"plotly-graph-div\" style=\"height:525px; width:100%;\"></div>\n",
              "            <script type=\"text/javascript\">\n",
              "                \n",
              "                    window.PLOTLYENV=window.PLOTLYENV || {};\n",
              "                    \n",
              "                if (document.getElementById(\"164554db-1c84-4ce5-b230-d7ee42540c2b\")) {\n",
              "                    Plotly.newPlot(\n",
              "                        '164554db-1c84-4ce5-b230-d7ee42540c2b',\n",
              "                        [{\"labels\": [\"\\u041d\\u0435\\u0441\\u0435\\u0442\\u0435\\u0432\\u044b\\u0435\", \"\\u0421\\u0435\\u0442\\u0435\\u0432\\u044b\\u0435\"], \"pull\": [0, 0.2], \"textposition\": \"inside\", \"type\": \"pie\", \"values\": [12398, 2968]}],\n",
              "                        {\"showlegend\": true, \"template\": {\"data\": {\"bar\": [{\"error_x\": {\"color\": \"#2a3f5f\"}, \"error_y\": {\"color\": \"#2a3f5f\"}, \"marker\": {\"line\": {\"color\": \"#E5ECF6\", \"width\": 0.5}}, \"type\": \"bar\"}], \"barpolar\": [{\"marker\": {\"line\": {\"color\": \"#E5ECF6\", \"width\": 0.5}}, \"type\": \"barpolar\"}], \"carpet\": [{\"aaxis\": {\"endlinecolor\": \"#2a3f5f\", \"gridcolor\": \"white\", \"linecolor\": \"white\", \"minorgridcolor\": \"white\", \"startlinecolor\": \"#2a3f5f\"}, \"baxis\": {\"endlinecolor\": \"#2a3f5f\", \"gridcolor\": \"white\", \"linecolor\": \"white\", \"minorgridcolor\": \"white\", \"startlinecolor\": \"#2a3f5f\"}, \"type\": \"carpet\"}], \"choropleth\": [{\"colorbar\": {\"outlinewidth\": 0, \"ticks\": \"\"}, \"type\": \"choropleth\"}], \"contour\": [{\"colorbar\": {\"outlinewidth\": 0, \"ticks\": \"\"}, \"colorscale\": [[0.0, \"#0d0887\"], [0.1111111111111111, \"#46039f\"], [0.2222222222222222, \"#7201a8\"], [0.3333333333333333, \"#9c179e\"], [0.4444444444444444, \"#bd3786\"], [0.5555555555555556, \"#d8576b\"], [0.6666666666666666, \"#ed7953\"], [0.7777777777777778, \"#fb9f3a\"], [0.8888888888888888, \"#fdca26\"], [1.0, \"#f0f921\"]], \"type\": \"contour\"}], \"contourcarpet\": [{\"colorbar\": {\"outlinewidth\": 0, \"ticks\": \"\"}, \"type\": \"contourcarpet\"}], \"heatmap\": [{\"colorbar\": {\"outlinewidth\": 0, \"ticks\": \"\"}, \"colorscale\": [[0.0, \"#0d0887\"], [0.1111111111111111, \"#46039f\"], [0.2222222222222222, \"#7201a8\"], [0.3333333333333333, \"#9c179e\"], [0.4444444444444444, \"#bd3786\"], [0.5555555555555556, \"#d8576b\"], [0.6666666666666666, \"#ed7953\"], [0.7777777777777778, \"#fb9f3a\"], [0.8888888888888888, \"#fdca26\"], [1.0, \"#f0f921\"]], \"type\": \"heatmap\"}], \"heatmapgl\": [{\"colorbar\": {\"outlinewidth\": 0, \"ticks\": \"\"}, \"colorscale\": [[0.0, \"#0d0887\"], [0.1111111111111111, \"#46039f\"], [0.2222222222222222, \"#7201a8\"], [0.3333333333333333, \"#9c179e\"], [0.4444444444444444, \"#bd3786\"], [0.5555555555555556, \"#d8576b\"], [0.6666666666666666, \"#ed7953\"], [0.7777777777777778, \"#fb9f3a\"], [0.8888888888888888, \"#fdca26\"], [1.0, \"#f0f921\"]], \"type\": \"heatmapgl\"}], \"histogram\": [{\"marker\": {\"colorbar\": {\"outlinewidth\": 0, \"ticks\": \"\"}}, \"type\": \"histogram\"}], \"histogram2d\": [{\"colorbar\": {\"outlinewidth\": 0, \"ticks\": \"\"}, \"colorscale\": [[0.0, \"#0d0887\"], [0.1111111111111111, \"#46039f\"], [0.2222222222222222, \"#7201a8\"], [0.3333333333333333, \"#9c179e\"], [0.4444444444444444, \"#bd3786\"], [0.5555555555555556, \"#d8576b\"], [0.6666666666666666, \"#ed7953\"], [0.7777777777777778, \"#fb9f3a\"], [0.8888888888888888, \"#fdca26\"], [1.0, \"#f0f921\"]], \"type\": \"histogram2d\"}], \"histogram2dcontour\": [{\"colorbar\": {\"outlinewidth\": 0, \"ticks\": \"\"}, \"colorscale\": [[0.0, \"#0d0887\"], [0.1111111111111111, \"#46039f\"], [0.2222222222222222, \"#7201a8\"], [0.3333333333333333, \"#9c179e\"], [0.4444444444444444, \"#bd3786\"], [0.5555555555555556, \"#d8576b\"], [0.6666666666666666, \"#ed7953\"], [0.7777777777777778, \"#fb9f3a\"], [0.8888888888888888, \"#fdca26\"], [1.0, \"#f0f921\"]], \"type\": \"histogram2dcontour\"}], \"mesh3d\": [{\"colorbar\": {\"outlinewidth\": 0, \"ticks\": \"\"}, \"type\": \"mesh3d\"}], \"parcoords\": [{\"line\": {\"colorbar\": {\"outlinewidth\": 0, \"ticks\": \"\"}}, \"type\": \"parcoords\"}], \"pie\": [{\"automargin\": true, \"type\": \"pie\"}], \"scatter\": [{\"marker\": {\"colorbar\": {\"outlinewidth\": 0, \"ticks\": \"\"}}, \"type\": \"scatter\"}], \"scatter3d\": [{\"line\": {\"colorbar\": {\"outlinewidth\": 0, \"ticks\": \"\"}}, \"marker\": {\"colorbar\": {\"outlinewidth\": 0, \"ticks\": \"\"}}, \"type\": \"scatter3d\"}], \"scattercarpet\": [{\"marker\": {\"colorbar\": {\"outlinewidth\": 0, \"ticks\": \"\"}}, \"type\": \"scattercarpet\"}], \"scattergeo\": [{\"marker\": {\"colorbar\": {\"outlinewidth\": 0, \"ticks\": \"\"}}, \"type\": \"scattergeo\"}], \"scattergl\": [{\"marker\": {\"colorbar\": {\"outlinewidth\": 0, \"ticks\": \"\"}}, \"type\": \"scattergl\"}], \"scattermapbox\": [{\"marker\": {\"colorbar\": {\"outlinewidth\": 0, \"ticks\": \"\"}}, \"type\": \"scattermapbox\"}], \"scatterpolar\": [{\"marker\": {\"colorbar\": {\"outlinewidth\": 0, \"ticks\": \"\"}}, \"type\": \"scatterpolar\"}], \"scatterpolargl\": [{\"marker\": {\"colorbar\": {\"outlinewidth\": 0, \"ticks\": \"\"}}, \"type\": \"scatterpolargl\"}], \"scatterternary\": [{\"marker\": {\"colorbar\": {\"outlinewidth\": 0, \"ticks\": \"\"}}, \"type\": \"scatterternary\"}], \"surface\": [{\"colorbar\": {\"outlinewidth\": 0, \"ticks\": \"\"}, \"colorscale\": [[0.0, \"#0d0887\"], [0.1111111111111111, \"#46039f\"], [0.2222222222222222, \"#7201a8\"], [0.3333333333333333, \"#9c179e\"], [0.4444444444444444, \"#bd3786\"], [0.5555555555555556, \"#d8576b\"], [0.6666666666666666, \"#ed7953\"], [0.7777777777777778, \"#fb9f3a\"], [0.8888888888888888, \"#fdca26\"], [1.0, \"#f0f921\"]], \"type\": \"surface\"}], \"table\": [{\"cells\": {\"fill\": {\"color\": \"#EBF0F8\"}, \"line\": {\"color\": \"white\"}}, \"header\": {\"fill\": {\"color\": \"#C8D4E3\"}, \"line\": {\"color\": \"white\"}}, \"type\": \"table\"}]}, \"layout\": {\"annotationdefaults\": {\"arrowcolor\": \"#2a3f5f\", \"arrowhead\": 0, \"arrowwidth\": 1}, \"coloraxis\": {\"colorbar\": {\"outlinewidth\": 0, \"ticks\": \"\"}}, \"colorscale\": {\"diverging\": [[0, \"#8e0152\"], [0.1, \"#c51b7d\"], [0.2, \"#de77ae\"], [0.3, \"#f1b6da\"], [0.4, \"#fde0ef\"], [0.5, \"#f7f7f7\"], [0.6, \"#e6f5d0\"], [0.7, \"#b8e186\"], [0.8, \"#7fbc41\"], [0.9, \"#4d9221\"], [1, \"#276419\"]], \"sequential\": [[0.0, \"#0d0887\"], [0.1111111111111111, \"#46039f\"], [0.2222222222222222, \"#7201a8\"], [0.3333333333333333, \"#9c179e\"], [0.4444444444444444, \"#bd3786\"], [0.5555555555555556, \"#d8576b\"], [0.6666666666666666, \"#ed7953\"], [0.7777777777777778, \"#fb9f3a\"], [0.8888888888888888, \"#fdca26\"], [1.0, \"#f0f921\"]], \"sequentialminus\": [[0.0, \"#0d0887\"], [0.1111111111111111, \"#46039f\"], [0.2222222222222222, \"#7201a8\"], [0.3333333333333333, \"#9c179e\"], [0.4444444444444444, \"#bd3786\"], [0.5555555555555556, \"#d8576b\"], [0.6666666666666666, \"#ed7953\"], [0.7777777777777778, \"#fb9f3a\"], [0.8888888888888888, \"#fdca26\"], [1.0, \"#f0f921\"]]}, \"colorway\": [\"#636efa\", \"#EF553B\", \"#00cc96\", \"#ab63fa\", \"#FFA15A\", \"#19d3f3\", \"#FF6692\", \"#B6E880\", \"#FF97FF\", \"#FECB52\"], \"font\": {\"color\": \"#2a3f5f\"}, \"geo\": {\"bgcolor\": \"white\", \"lakecolor\": \"white\", \"landcolor\": \"#E5ECF6\", \"showlakes\": true, \"showland\": true, \"subunitcolor\": \"white\"}, \"hoverlabel\": {\"align\": \"left\"}, \"hovermode\": \"closest\", \"mapbox\": {\"style\": \"light\"}, \"paper_bgcolor\": \"white\", \"plot_bgcolor\": \"#E5ECF6\", \"polar\": {\"angularaxis\": {\"gridcolor\": \"white\", \"linecolor\": \"white\", \"ticks\": \"\"}, \"bgcolor\": \"#E5ECF6\", \"radialaxis\": {\"gridcolor\": \"white\", \"linecolor\": \"white\", \"ticks\": \"\"}}, \"scene\": {\"xaxis\": {\"backgroundcolor\": \"#E5ECF6\", \"gridcolor\": \"white\", \"gridwidth\": 2, \"linecolor\": \"white\", \"showbackground\": true, \"ticks\": \"\", \"zerolinecolor\": \"white\"}, \"yaxis\": {\"backgroundcolor\": \"#E5ECF6\", \"gridcolor\": \"white\", \"gridwidth\": 2, \"linecolor\": \"white\", \"showbackground\": true, \"ticks\": \"\", \"zerolinecolor\": \"white\"}, \"zaxis\": {\"backgroundcolor\": \"#E5ECF6\", \"gridcolor\": \"white\", \"gridwidth\": 2, \"linecolor\": \"white\", \"showbackground\": true, \"ticks\": \"\", \"zerolinecolor\": \"white\"}}, \"shapedefaults\": {\"line\": {\"color\": \"#2a3f5f\"}}, \"ternary\": {\"aaxis\": {\"gridcolor\": \"white\", \"linecolor\": \"white\", \"ticks\": \"\"}, \"baxis\": {\"gridcolor\": \"white\", \"linecolor\": \"white\", \"ticks\": \"\"}, \"bgcolor\": \"#E5ECF6\", \"caxis\": {\"gridcolor\": \"white\", \"linecolor\": \"white\", \"ticks\": \"\"}}, \"title\": {\"x\": 0.05}, \"xaxis\": {\"automargin\": true, \"gridcolor\": \"white\", \"linecolor\": \"white\", \"ticks\": \"\", \"title\": {\"standoff\": 15}, \"zerolinecolor\": \"white\", \"zerolinewidth\": 2}, \"yaxis\": {\"automargin\": true, \"gridcolor\": \"white\", \"linecolor\": \"white\", \"ticks\": \"\", \"title\": {\"standoff\": 15}, \"zerolinecolor\": \"white\", \"zerolinewidth\": 2}}}, \"title\": {\"text\": \"\\u0421\\u043e\\u043e\\u0442\\u043d\\u043e\\u0448\\u0435\\u043d\\u0438\\u0435 \\u0441\\u0435\\u0442\\u0435\\u0432\\u044b\\u0445 \\u0438 \\u043d\\u0435\\u0441\\u0435\\u0442\\u0435\\u0432\\u044b\\u0445 \\u0437\\u0430\\u0432\\u0435\\u0434\\u0435\\u043d\\u0438\\u0439 \\u043e\\u0431\\u0449\\u0435\\u0441\\u0442\\u0432\\u0435\\u043d\\u043d\\u043e\\u0433\\u043e \\u043f\\u0438\\u0442\\u0430\\u043d\\u0438\\u044f\"}},\n",
              "                        {\"responsive\": true}\n",
              "                    ).then(function(){\n",
              "                            \n",
              "var gd = document.getElementById('164554db-1c84-4ce5-b230-d7ee42540c2b');\n",
              "var x = new MutationObserver(function (mutations, observer) {{\n",
              "        var display = window.getComputedStyle(gd).display;\n",
              "        if (!display || display === 'none') {{\n",
              "            console.log([gd, 'removed!']);\n",
              "            Plotly.purge(gd);\n",
              "            observer.disconnect();\n",
              "        }}\n",
              "}});\n",
              "\n",
              "// Listen for the removal of the full notebook cells\n",
              "var notebookContainer = gd.closest('#notebook-container');\n",
              "if (notebookContainer) {{\n",
              "    x.observe(notebookContainer, {childList: true});\n",
              "}}\n",
              "\n",
              "// Listen for the clearing of the current output cell\n",
              "var outputEl = gd.closest('.output');\n",
              "if (outputEl) {{\n",
              "    x.observe(outputEl, {childList: true});\n",
              "}}\n",
              "\n",
              "                        })\n",
              "                };\n",
              "                \n",
              "            </script>\n",
              "        </div>\n",
              "</body>\n",
              "</html>"
            ]
          },
          "metadata": {
            "tags": []
          }
        }
      ]
    },
    {
      "cell_type": "markdown",
      "metadata": {
        "id": "3aupiMwXv_DB"
      },
      "source": [
        "Несетевые заведения составляют почти 81% всех заведений города. Сетевые, скорее всего, сложно поддерживать, т.к. зачастую одно сетевое заведение приносит много прибыли, а второе - работает в убыток, за счет чего компания скорее работает в ноль. Посмотрим, где больше посадочных мест: в сетевых или несетвых заведениях и проанализируем сетевые заведения по количеству мест в них."
      ]
    },
    {
      "cell_type": "code",
      "metadata": {
        "colab": {
          "base_uri": "https://localhost:8080/",
          "height": 112
        },
        "id": "Fnxvk2VY6jL7",
        "outputId": "ef6e6de0-3b9c-45c5-e4fb-f5d527d10947"
      },
      "source": [
        "chain_type_number = pd.DataFrame(rest_data.groupby('chain')['number'].mean()).reset_index().sort_values(by='number', ascending=False)\n",
        "chain_type_number"
      ],
      "execution_count": null,
      "outputs": [
        {
          "output_type": "execute_result",
          "data": {
            "text/html": [
              "<div>\n",
              "<style scoped>\n",
              "    .dataframe tbody tr th:only-of-type {\n",
              "        vertical-align: middle;\n",
              "    }\n",
              "\n",
              "    .dataframe tbody tr th {\n",
              "        vertical-align: top;\n",
              "    }\n",
              "\n",
              "    .dataframe thead th {\n",
              "        text-align: right;\n",
              "    }\n",
              "</style>\n",
              "<table border=\"1\" class=\"dataframe\">\n",
              "  <thead>\n",
              "    <tr style=\"text-align: right;\">\n",
              "      <th></th>\n",
              "      <th>chain</th>\n",
              "      <th>number</th>\n",
              "    </tr>\n",
              "  </thead>\n",
              "  <tbody>\n",
              "    <tr>\n",
              "      <th>1</th>\n",
              "      <td>нет</td>\n",
              "      <td>61.133731</td>\n",
              "    </tr>\n",
              "    <tr>\n",
              "      <th>0</th>\n",
              "      <td>да</td>\n",
              "      <td>52.919811</td>\n",
              "    </tr>\n",
              "  </tbody>\n",
              "</table>\n",
              "</div>"
            ],
            "text/plain": [
              "  chain     number\n",
              "1   нет  61.133731\n",
              "0    да  52.919811"
            ]
          },
          "metadata": {
            "tags": []
          },
          "execution_count": 44
        }
      ]
    },
    {
      "cell_type": "code",
      "metadata": {
        "colab": {
          "base_uri": "https://localhost:8080/",
          "height": 542
        },
        "id": "HNyn9B3Os-PB",
        "outputId": "33a33c2c-d6f3-4315-dcf2-f0d723a26f0c"
      },
      "source": [
        "name_rest = 'Несетевые', 'Сетевые'\n",
        "values = chain_type_number['number']\n",
        "\n",
        "fig = go.Figure(data=[go.Pie(labels=name_rest, values=values)])\n",
        "fig.update_traces(textposition='inside')\n",
        "fig.update(layout_title_text='Среднее количество посадочных мест', \n",
        "           layout_showlegend=True)\n",
        "fig.show()"
      ],
      "execution_count": null,
      "outputs": [
        {
          "output_type": "display_data",
          "data": {
            "text/html": [
              "<html>\n",
              "<head><meta charset=\"utf-8\" /></head>\n",
              "<body>\n",
              "    <div>\n",
              "            <script src=\"https://cdnjs.cloudflare.com/ajax/libs/mathjax/2.7.5/MathJax.js?config=TeX-AMS-MML_SVG\"></script><script type=\"text/javascript\">if (window.MathJax) {MathJax.Hub.Config({SVG: {font: \"STIX-Web\"}});}</script>\n",
              "                <script type=\"text/javascript\">window.PlotlyConfig = {MathJaxConfig: 'local'};</script>\n",
              "        <script src=\"https://cdn.plot.ly/plotly-latest.min.js\"></script>    \n",
              "            <div id=\"ad001477-8403-4786-8ea4-f221bd2c2423\" class=\"plotly-graph-div\" style=\"height:525px; width:100%;\"></div>\n",
              "            <script type=\"text/javascript\">\n",
              "                \n",
              "                    window.PLOTLYENV=window.PLOTLYENV || {};\n",
              "                    \n",
              "                if (document.getElementById(\"ad001477-8403-4786-8ea4-f221bd2c2423\")) {\n",
              "                    Plotly.newPlot(\n",
              "                        'ad001477-8403-4786-8ea4-f221bd2c2423',\n",
              "                        [{\"labels\": [\"\\u041d\\u0435\\u0441\\u0435\\u0442\\u0435\\u0432\\u044b\\u0435\", \"\\u0421\\u0435\\u0442\\u0435\\u0432\\u044b\\u0435\"], \"textposition\": \"inside\", \"type\": \"pie\", \"values\": [61.133731246975316, 52.91981132075472]}],\n",
              "                        {\"showlegend\": true, \"template\": {\"data\": {\"bar\": [{\"error_x\": {\"color\": \"#2a3f5f\"}, \"error_y\": {\"color\": \"#2a3f5f\"}, \"marker\": {\"line\": {\"color\": \"#E5ECF6\", \"width\": 0.5}}, \"type\": \"bar\"}], \"barpolar\": [{\"marker\": {\"line\": {\"color\": \"#E5ECF6\", \"width\": 0.5}}, \"type\": \"barpolar\"}], \"carpet\": [{\"aaxis\": {\"endlinecolor\": \"#2a3f5f\", \"gridcolor\": \"white\", \"linecolor\": \"white\", \"minorgridcolor\": \"white\", \"startlinecolor\": \"#2a3f5f\"}, \"baxis\": {\"endlinecolor\": \"#2a3f5f\", \"gridcolor\": \"white\", \"linecolor\": \"white\", \"minorgridcolor\": \"white\", \"startlinecolor\": \"#2a3f5f\"}, \"type\": \"carpet\"}], \"choropleth\": [{\"colorbar\": {\"outlinewidth\": 0, \"ticks\": \"\"}, \"type\": \"choropleth\"}], \"contour\": [{\"colorbar\": {\"outlinewidth\": 0, \"ticks\": \"\"}, \"colorscale\": [[0.0, \"#0d0887\"], [0.1111111111111111, \"#46039f\"], [0.2222222222222222, \"#7201a8\"], [0.3333333333333333, \"#9c179e\"], [0.4444444444444444, \"#bd3786\"], [0.5555555555555556, \"#d8576b\"], [0.6666666666666666, \"#ed7953\"], [0.7777777777777778, \"#fb9f3a\"], [0.8888888888888888, \"#fdca26\"], [1.0, \"#f0f921\"]], \"type\": \"contour\"}], \"contourcarpet\": [{\"colorbar\": {\"outlinewidth\": 0, \"ticks\": \"\"}, \"type\": \"contourcarpet\"}], \"heatmap\": [{\"colorbar\": {\"outlinewidth\": 0, \"ticks\": \"\"}, \"colorscale\": [[0.0, \"#0d0887\"], [0.1111111111111111, \"#46039f\"], [0.2222222222222222, \"#7201a8\"], [0.3333333333333333, \"#9c179e\"], [0.4444444444444444, \"#bd3786\"], [0.5555555555555556, \"#d8576b\"], [0.6666666666666666, \"#ed7953\"], [0.7777777777777778, \"#fb9f3a\"], [0.8888888888888888, \"#fdca26\"], [1.0, \"#f0f921\"]], \"type\": \"heatmap\"}], \"heatmapgl\": [{\"colorbar\": {\"outlinewidth\": 0, \"ticks\": \"\"}, \"colorscale\": [[0.0, \"#0d0887\"], [0.1111111111111111, \"#46039f\"], [0.2222222222222222, \"#7201a8\"], [0.3333333333333333, \"#9c179e\"], [0.4444444444444444, \"#bd3786\"], [0.5555555555555556, \"#d8576b\"], [0.6666666666666666, \"#ed7953\"], [0.7777777777777778, \"#fb9f3a\"], [0.8888888888888888, \"#fdca26\"], [1.0, \"#f0f921\"]], \"type\": \"heatmapgl\"}], \"histogram\": [{\"marker\": {\"colorbar\": {\"outlinewidth\": 0, \"ticks\": \"\"}}, \"type\": \"histogram\"}], \"histogram2d\": [{\"colorbar\": {\"outlinewidth\": 0, \"ticks\": \"\"}, \"colorscale\": [[0.0, \"#0d0887\"], [0.1111111111111111, \"#46039f\"], [0.2222222222222222, \"#7201a8\"], [0.3333333333333333, \"#9c179e\"], [0.4444444444444444, \"#bd3786\"], [0.5555555555555556, \"#d8576b\"], [0.6666666666666666, \"#ed7953\"], [0.7777777777777778, \"#fb9f3a\"], [0.8888888888888888, \"#fdca26\"], [1.0, \"#f0f921\"]], \"type\": \"histogram2d\"}], \"histogram2dcontour\": [{\"colorbar\": {\"outlinewidth\": 0, \"ticks\": \"\"}, \"colorscale\": [[0.0, \"#0d0887\"], [0.1111111111111111, \"#46039f\"], [0.2222222222222222, \"#7201a8\"], [0.3333333333333333, \"#9c179e\"], [0.4444444444444444, \"#bd3786\"], [0.5555555555555556, \"#d8576b\"], [0.6666666666666666, \"#ed7953\"], [0.7777777777777778, \"#fb9f3a\"], [0.8888888888888888, \"#fdca26\"], [1.0, \"#f0f921\"]], \"type\": \"histogram2dcontour\"}], \"mesh3d\": [{\"colorbar\": {\"outlinewidth\": 0, \"ticks\": \"\"}, \"type\": \"mesh3d\"}], \"parcoords\": [{\"line\": {\"colorbar\": {\"outlinewidth\": 0, \"ticks\": \"\"}}, \"type\": \"parcoords\"}], \"pie\": [{\"automargin\": true, \"type\": \"pie\"}], \"scatter\": [{\"marker\": {\"colorbar\": {\"outlinewidth\": 0, \"ticks\": \"\"}}, \"type\": \"scatter\"}], \"scatter3d\": [{\"line\": {\"colorbar\": {\"outlinewidth\": 0, \"ticks\": \"\"}}, \"marker\": {\"colorbar\": {\"outlinewidth\": 0, \"ticks\": \"\"}}, \"type\": \"scatter3d\"}], \"scattercarpet\": [{\"marker\": {\"colorbar\": {\"outlinewidth\": 0, \"ticks\": \"\"}}, \"type\": \"scattercarpet\"}], \"scattergeo\": [{\"marker\": {\"colorbar\": {\"outlinewidth\": 0, \"ticks\": \"\"}}, \"type\": \"scattergeo\"}], \"scattergl\": [{\"marker\": {\"colorbar\": {\"outlinewidth\": 0, \"ticks\": \"\"}}, \"type\": \"scattergl\"}], \"scattermapbox\": [{\"marker\": {\"colorbar\": {\"outlinewidth\": 0, \"ticks\": \"\"}}, \"type\": \"scattermapbox\"}], \"scatterpolar\": [{\"marker\": {\"colorbar\": {\"outlinewidth\": 0, \"ticks\": \"\"}}, \"type\": \"scatterpolar\"}], \"scatterpolargl\": [{\"marker\": {\"colorbar\": {\"outlinewidth\": 0, \"ticks\": \"\"}}, \"type\": \"scatterpolargl\"}], \"scatterternary\": [{\"marker\": {\"colorbar\": {\"outlinewidth\": 0, \"ticks\": \"\"}}, \"type\": \"scatterternary\"}], \"surface\": [{\"colorbar\": {\"outlinewidth\": 0, \"ticks\": \"\"}, \"colorscale\": [[0.0, \"#0d0887\"], [0.1111111111111111, \"#46039f\"], [0.2222222222222222, \"#7201a8\"], [0.3333333333333333, \"#9c179e\"], [0.4444444444444444, \"#bd3786\"], [0.5555555555555556, \"#d8576b\"], [0.6666666666666666, \"#ed7953\"], [0.7777777777777778, \"#fb9f3a\"], [0.8888888888888888, \"#fdca26\"], [1.0, \"#f0f921\"]], \"type\": \"surface\"}], \"table\": [{\"cells\": {\"fill\": {\"color\": \"#EBF0F8\"}, \"line\": {\"color\": \"white\"}}, \"header\": {\"fill\": {\"color\": \"#C8D4E3\"}, \"line\": {\"color\": \"white\"}}, \"type\": \"table\"}]}, \"layout\": {\"annotationdefaults\": {\"arrowcolor\": \"#2a3f5f\", \"arrowhead\": 0, \"arrowwidth\": 1}, \"coloraxis\": {\"colorbar\": {\"outlinewidth\": 0, \"ticks\": \"\"}}, \"colorscale\": {\"diverging\": [[0, \"#8e0152\"], [0.1, \"#c51b7d\"], [0.2, \"#de77ae\"], [0.3, \"#f1b6da\"], [0.4, \"#fde0ef\"], [0.5, \"#f7f7f7\"], [0.6, \"#e6f5d0\"], [0.7, \"#b8e186\"], [0.8, \"#7fbc41\"], [0.9, \"#4d9221\"], [1, \"#276419\"]], \"sequential\": [[0.0, \"#0d0887\"], [0.1111111111111111, \"#46039f\"], [0.2222222222222222, \"#7201a8\"], [0.3333333333333333, \"#9c179e\"], [0.4444444444444444, \"#bd3786\"], [0.5555555555555556, \"#d8576b\"], [0.6666666666666666, \"#ed7953\"], [0.7777777777777778, \"#fb9f3a\"], [0.8888888888888888, \"#fdca26\"], [1.0, \"#f0f921\"]], \"sequentialminus\": [[0.0, \"#0d0887\"], [0.1111111111111111, \"#46039f\"], [0.2222222222222222, \"#7201a8\"], [0.3333333333333333, \"#9c179e\"], [0.4444444444444444, \"#bd3786\"], [0.5555555555555556, \"#d8576b\"], [0.6666666666666666, \"#ed7953\"], [0.7777777777777778, \"#fb9f3a\"], [0.8888888888888888, \"#fdca26\"], [1.0, \"#f0f921\"]]}, \"colorway\": [\"#636efa\", \"#EF553B\", \"#00cc96\", \"#ab63fa\", \"#FFA15A\", \"#19d3f3\", \"#FF6692\", \"#B6E880\", \"#FF97FF\", \"#FECB52\"], \"font\": {\"color\": \"#2a3f5f\"}, \"geo\": {\"bgcolor\": \"white\", \"lakecolor\": \"white\", \"landcolor\": \"#E5ECF6\", \"showlakes\": true, \"showland\": true, \"subunitcolor\": \"white\"}, \"hoverlabel\": {\"align\": \"left\"}, \"hovermode\": \"closest\", \"mapbox\": {\"style\": \"light\"}, \"paper_bgcolor\": \"white\", \"plot_bgcolor\": \"#E5ECF6\", \"polar\": {\"angularaxis\": {\"gridcolor\": \"white\", \"linecolor\": \"white\", \"ticks\": \"\"}, \"bgcolor\": \"#E5ECF6\", \"radialaxis\": {\"gridcolor\": \"white\", \"linecolor\": \"white\", \"ticks\": \"\"}}, \"scene\": {\"xaxis\": {\"backgroundcolor\": \"#E5ECF6\", \"gridcolor\": \"white\", \"gridwidth\": 2, \"linecolor\": \"white\", \"showbackground\": true, \"ticks\": \"\", \"zerolinecolor\": \"white\"}, \"yaxis\": {\"backgroundcolor\": \"#E5ECF6\", \"gridcolor\": \"white\", \"gridwidth\": 2, \"linecolor\": \"white\", \"showbackground\": true, \"ticks\": \"\", \"zerolinecolor\": \"white\"}, \"zaxis\": {\"backgroundcolor\": \"#E5ECF6\", \"gridcolor\": \"white\", \"gridwidth\": 2, \"linecolor\": \"white\", \"showbackground\": true, \"ticks\": \"\", \"zerolinecolor\": \"white\"}}, \"shapedefaults\": {\"line\": {\"color\": \"#2a3f5f\"}}, \"ternary\": {\"aaxis\": {\"gridcolor\": \"white\", \"linecolor\": \"white\", \"ticks\": \"\"}, \"baxis\": {\"gridcolor\": \"white\", \"linecolor\": \"white\", \"ticks\": \"\"}, \"bgcolor\": \"#E5ECF6\", \"caxis\": {\"gridcolor\": \"white\", \"linecolor\": \"white\", \"ticks\": \"\"}}, \"title\": {\"x\": 0.05}, \"xaxis\": {\"automargin\": true, \"gridcolor\": \"white\", \"linecolor\": \"white\", \"ticks\": \"\", \"title\": {\"standoff\": 15}, \"zerolinecolor\": \"white\", \"zerolinewidth\": 2}, \"yaxis\": {\"automargin\": true, \"gridcolor\": \"white\", \"linecolor\": \"white\", \"ticks\": \"\", \"title\": {\"standoff\": 15}, \"zerolinecolor\": \"white\", \"zerolinewidth\": 2}}}, \"title\": {\"text\": \"\\u0421\\u0440\\u0435\\u0434\\u043d\\u0435\\u0435 \\u043a\\u043e\\u043b\\u0438\\u0447\\u0435\\u0441\\u0442\\u0432\\u043e \\u043f\\u043e\\u0441\\u0430\\u0434\\u043e\\u0447\\u043d\\u044b\\u0445 \\u043c\\u0435\\u0441\\u0442\"}},\n",
              "                        {\"responsive\": true}\n",
              "                    ).then(function(){\n",
              "                            \n",
              "var gd = document.getElementById('ad001477-8403-4786-8ea4-f221bd2c2423');\n",
              "var x = new MutationObserver(function (mutations, observer) {{\n",
              "        var display = window.getComputedStyle(gd).display;\n",
              "        if (!display || display === 'none') {{\n",
              "            console.log([gd, 'removed!']);\n",
              "            Plotly.purge(gd);\n",
              "            observer.disconnect();\n",
              "        }}\n",
              "}});\n",
              "\n",
              "// Listen for the removal of the full notebook cells\n",
              "var notebookContainer = gd.closest('#notebook-container');\n",
              "if (notebookContainer) {{\n",
              "    x.observe(notebookContainer, {childList: true});\n",
              "}}\n",
              "\n",
              "// Listen for the clearing of the current output cell\n",
              "var outputEl = gd.closest('.output');\n",
              "if (outputEl) {{\n",
              "    x.observe(outputEl, {childList: true});\n",
              "}}\n",
              "\n",
              "                        })\n",
              "                };\n",
              "                \n",
              "            </script>\n",
              "        </div>\n",
              "</body>\n",
              "</html>"
            ]
          },
          "metadata": {
            "tags": []
          }
        }
      ]
    },
    {
      "cell_type": "code",
      "metadata": {
        "colab": {
          "base_uri": "https://localhost:8080/"
        },
        "id": "eVmHl3F_yX_q",
        "outputId": "340ffafd-4de1-4b46-8a8f-73dfffe6bbc3"
      },
      "source": [
        "yes = 'да'\n",
        "is_chain = rest_data.query('chain == @yes')\n",
        "\n",
        "is_chain['object_type'].unique().tolist()"
      ],
      "execution_count": null,
      "outputs": [
        {
          "output_type": "execute_result",
          "data": {
            "text/plain": [
              "['кафе',\n",
              " 'фаст-фуд',\n",
              " 'ресторан',\n",
              " 'кулинария',\n",
              " 'кафетерий',\n",
              " 'закусочная',\n",
              " 'бар',\n",
              " 'буфет',\n",
              " 'столовая']"
            ]
          },
          "metadata": {
            "tags": []
          },
          "execution_count": 46
        }
      ]
    },
    {
      "cell_type": "code",
      "metadata": {
        "colab": {
          "base_uri": "https://localhost:8080/",
          "height": 332
        },
        "id": "2w5pGsDQyxtj",
        "outputId": "a51c76e9-6268-44e3-aec1-9739981a3056"
      },
      "source": [
        "chain_object = is_chain.groupby('object_type').agg({'number' : 'median', 'id' : 'count'}).sort_values(by='number', ascending=False).reset_index()\n",
        "chain_object"
      ],
      "execution_count": null,
      "outputs": [
        {
          "output_type": "execute_result",
          "data": {
            "text/html": [
              "<div>\n",
              "<style scoped>\n",
              "    .dataframe tbody tr th:only-of-type {\n",
              "        vertical-align: middle;\n",
              "    }\n",
              "\n",
              "    .dataframe tbody tr th {\n",
              "        vertical-align: top;\n",
              "    }\n",
              "\n",
              "    .dataframe thead th {\n",
              "        text-align: right;\n",
              "    }\n",
              "</style>\n",
              "<table border=\"1\" class=\"dataframe\">\n",
              "  <thead>\n",
              "    <tr style=\"text-align: right;\">\n",
              "      <th></th>\n",
              "      <th>object_type</th>\n",
              "      <th>number</th>\n",
              "      <th>id</th>\n",
              "    </tr>\n",
              "  </thead>\n",
              "  <tbody>\n",
              "    <tr>\n",
              "      <th>0</th>\n",
              "      <td>столовая</td>\n",
              "      <td>120.0</td>\n",
              "      <td>3</td>\n",
              "    </tr>\n",
              "    <tr>\n",
              "      <th>1</th>\n",
              "      <td>ресторан</td>\n",
              "      <td>88.5</td>\n",
              "      <td>544</td>\n",
              "    </tr>\n",
              "    <tr>\n",
              "      <th>2</th>\n",
              "      <td>бар</td>\n",
              "      <td>45.0</td>\n",
              "      <td>37</td>\n",
              "    </tr>\n",
              "    <tr>\n",
              "      <th>3</th>\n",
              "      <td>кафе</td>\n",
              "      <td>40.0</td>\n",
              "      <td>1396</td>\n",
              "    </tr>\n",
              "    <tr>\n",
              "      <th>4</th>\n",
              "      <td>фаст-фуд</td>\n",
              "      <td>25.0</td>\n",
              "      <td>791</td>\n",
              "    </tr>\n",
              "    <tr>\n",
              "      <th>5</th>\n",
              "      <td>закусочная</td>\n",
              "      <td>8.0</td>\n",
              "      <td>56</td>\n",
              "    </tr>\n",
              "    <tr>\n",
              "      <th>6</th>\n",
              "      <td>кафетерий</td>\n",
              "      <td>8.0</td>\n",
              "      <td>52</td>\n",
              "    </tr>\n",
              "    <tr>\n",
              "      <th>7</th>\n",
              "      <td>кулинария</td>\n",
              "      <td>3.5</td>\n",
              "      <td>78</td>\n",
              "    </tr>\n",
              "    <tr>\n",
              "      <th>8</th>\n",
              "      <td>буфет</td>\n",
              "      <td>0.0</td>\n",
              "      <td>11</td>\n",
              "    </tr>\n",
              "  </tbody>\n",
              "</table>\n",
              "</div>"
            ],
            "text/plain": [
              "  object_type  number    id\n",
              "0    столовая   120.0     3\n",
              "1    ресторан    88.5   544\n",
              "2         бар    45.0    37\n",
              "3        кафе    40.0  1396\n",
              "4    фаст-фуд    25.0   791\n",
              "5  закусочная     8.0    56\n",
              "6   кафетерий     8.0    52\n",
              "7   кулинария     3.5    78\n",
              "8       буфет     0.0    11"
            ]
          },
          "metadata": {
            "tags": []
          },
          "execution_count": 47
        }
      ]
    },
    {
      "cell_type": "code",
      "metadata": {
        "colab": {
          "base_uri": "https://localhost:8080/",
          "height": 497
        },
        "id": "H7DTwatuzit2",
        "outputId": "38bb1aa7-71d4-48be-d16e-cb2fbf582d70"
      },
      "source": [
        "plt.figure(figsize=(16,8))\n",
        "sns.set_palette('Set3') \n",
        "ax = sns.boxplot(x=chain_object['number'])\n",
        "ax.set_xlabel(\"Посадочные места, шт.\")\n",
        "plt.show()\n",
        "plt.close()"
      ],
      "execution_count": null,
      "outputs": [
        {
          "output_type": "display_data",
          "data": {
            "image/png": "[encoded data removed]",
            "text/plain": [
              "<Figure size 1152x576 with 1 Axes>"
            ]
          },
          "metadata": {
            "tags": []
          }
        }
      ]
    },
    {
      "cell_type": "code",
      "metadata": {
        "colab": {
          "base_uri": "https://localhost:8080/"
        },
        "id": "6B66Mpi0iL4_",
        "outputId": "8fc70cc5-37cc-4960-f20e-da24fb58a712"
      },
      "source": [
        "chain_object['number'].describe()"
      ],
      "execution_count": null,
      "outputs": [
        {
          "output_type": "execute_result",
          "data": {
            "text/plain": [
              "count      9.000000\n",
              "mean      37.555556\n",
              "std       41.726374\n",
              "min        0.000000\n",
              "25%        8.000000\n",
              "50%       25.000000\n",
              "75%       45.000000\n",
              "max      120.000000\n",
              "Name: number, dtype: float64"
            ]
          },
          "metadata": {
            "tags": []
          },
          "execution_count": 49
        }
      ]
    },
    {
      "cell_type": "code",
      "metadata": {
        "colab": {
          "base_uri": "https://localhost:8080/",
          "height": 497
        },
        "id": "KsBUROs6ganJ",
        "outputId": "e9c998d1-a8b0-443b-a52d-2afe6ff2e674"
      },
      "source": [
        "plt.figure(figsize=(16,8))\n",
        "sns.set_palette('colorblind') \n",
        "ax = sns.boxplot(x=chain_object['id'])\n",
        "ax.set_xlabel(\"Посетители, чел.\")\n",
        "plt.show()\n",
        "plt.close()"
      ],
      "execution_count": null,
      "outputs": [
        {
          "output_type": "display_data",
          "data": {
            "image/png": "[encoded data removed]",
            "text/plain": [
              "<Figure size 1152x576 with 1 Axes>"
            ]
          },
          "metadata": {
            "tags": []
          }
        }
      ]
    },
    {
      "cell_type": "code",
      "metadata": {
        "colab": {
          "base_uri": "https://localhost:8080/"
        },
        "id": "oMRXKu9UiVUE",
        "outputId": "9c89ca92-16e8-4bea-a1c6-3cafa4054491"
      },
      "source": [
        "chain_object['id'].describe()"
      ],
      "execution_count": null,
      "outputs": [
        {
          "output_type": "execute_result",
          "data": {
            "text/plain": [
              "count       9.000000\n",
              "mean      329.777778\n",
              "std       487.990209\n",
              "min         3.000000\n",
              "25%        37.000000\n",
              "50%        56.000000\n",
              "75%       544.000000\n",
              "max      1396.000000\n",
              "Name: id, dtype: float64"
            ]
          },
          "metadata": {
            "tags": []
          },
          "execution_count": 51
        }
      ]
    },
    {
      "cell_type": "markdown",
      "metadata": {
        "id": "5FnV45f_8MCo"
      },
      "source": [
        "Для сетевых заведений характерно много заведений с небольшим числом посадочных мест и, соответсвенно, небольшим числом посетителей. Но есть заведения, сильно отклоняющиеся от данной тенденции."
      ]
    },
    {
      "cell_type": "markdown",
      "metadata": {
        "id": "tRte30M4jeR5"
      },
      "source": [
        "Сетевыми чаще всего являются кафе, фаст-фуд и рестораны."
      ]
    },
    {
      "cell_type": "code",
      "metadata": {
        "colab": {
          "base_uri": "https://localhost:8080/",
          "height": 553
        },
        "id": "2F0unOPL-dlI",
        "outputId": "e07f84e4-356e-4815-d67f-31721c06f0fc"
      },
      "source": [
        "(rest_data\n",
        "         .pivot_table(index='object_type', columns = 'chain',values='id', aggfunc='mean')\n",
        "         .plot(kind='bar', grid=True, figsize=(16,8), rot=45, title='Сравнение сетевых и несетвых заведений по среднему количеству посетителей на вид заведения', color=['cadetblue','peru'])\n",
        ");"
      ],
      "execution_count": null,
      "outputs": [
        {
          "output_type": "display_data",
          "data": {
            "image/png": "[encoded data removed]",
            "text/plain": [
              "<Figure size 1152x576 with 1 Axes>"
            ]
          },
          "metadata": {
            "tags": []
          }
        }
      ]
    },
    {
      "cell_type": "markdown",
      "metadata": {
        "id": "TZOMG1_lkVKE"
      },
      "source": [
        "Большая часть заведений общественного питания в Москве - несетевые. Среди несетвых заведений в среднем больше всего посетителей приходится на: закусочные, кафетерии, кулинарии и фаст-фуды. Среди сетевых -буфеты, кафетерии и кулинарии.  \n",
        "\n",
        "**[Изучение наиболее популярных улиц для заведений](#popular_street)**\n",
        "\n",
        "На основе имеющихся данных об адресе заведения, выделим 10 наиболее популярных месторасположений, а далее разделим их по районам."
      ]
    },
    {
      "cell_type": "code",
      "metadata": {
        "colab": {
          "base_uri": "https://localhost:8080/",
          "height": 424
        },
        "id": "adqaOyVloN9k",
        "outputId": "dfb09a3c-5332-4733-9c80-02a6d32d1069"
      },
      "source": [
        "list = (['город московский', 'поселение мосрентген', 'поселение московский', 'поселение михайлово-ярцевское', 'поселение марушкинское', 'город троицк', 'поселение сосенское', 'город зеленоград'])\n",
        "def get_street(row):\n",
        "      if row['address'].split(\",\")[0].strip() == 'город москва' and row['address'].split(\",\")[1].strip() not in list:\n",
        "            return row['address'].split(\",\")[1].strip()\n",
        "      elif row['address'].split(\",\")[1].strip() in list:\n",
        "            return row['address'].split(\",\")[2].strip()\n",
        "      else:\n",
        "            return row['address'].split(\",\")[0].strip()\n",
        "rest_data['street'] = rest_data.apply(get_street, axis=1)\n",
        "rest_data"
      ],
      "execution_count": null,
      "outputs": [
        {
          "output_type": "execute_result",
          "data": {
            "text/html": [
              "<div>\n",
              "<style scoped>\n",
              "    .dataframe tbody tr th:only-of-type {\n",
              "        vertical-align: middle;\n",
              "    }\n",
              "\n",
              "    .dataframe tbody tr th {\n",
              "        vertical-align: top;\n",
              "    }\n",
              "\n",
              "    .dataframe thead th {\n",
              "        text-align: right;\n",
              "    }\n",
              "</style>\n",
              "<table border=\"1\" class=\"dataframe\">\n",
              "  <thead>\n",
              "    <tr style=\"text-align: right;\">\n",
              "      <th></th>\n",
              "      <th>id</th>\n",
              "      <th>object_name</th>\n",
              "      <th>chain</th>\n",
              "      <th>object_type</th>\n",
              "      <th>address</th>\n",
              "      <th>number</th>\n",
              "      <th>street</th>\n",
              "    </tr>\n",
              "  </thead>\n",
              "  <tbody>\n",
              "    <tr>\n",
              "      <th>0</th>\n",
              "      <td>151635</td>\n",
              "      <td>сметана</td>\n",
              "      <td>нет</td>\n",
              "      <td>кафе</td>\n",
              "      <td>город москва, улица егора абакумова, дом 9</td>\n",
              "      <td>48</td>\n",
              "      <td>улица егора абакумова</td>\n",
              "    </tr>\n",
              "    <tr>\n",
              "      <th>1</th>\n",
              "      <td>77874</td>\n",
              "      <td>родник</td>\n",
              "      <td>нет</td>\n",
              "      <td>кафе</td>\n",
              "      <td>город москва, улица талалихина, дом 2/1, корпус 1</td>\n",
              "      <td>35</td>\n",
              "      <td>улица талалихина</td>\n",
              "    </tr>\n",
              "    <tr>\n",
              "      <th>2</th>\n",
              "      <td>24309</td>\n",
              "      <td>академия</td>\n",
              "      <td>нет</td>\n",
              "      <td>кафе</td>\n",
              "      <td>город москва, абельмановская улица, дом 6</td>\n",
              "      <td>95</td>\n",
              "      <td>абельмановская улица</td>\n",
              "    </tr>\n",
              "    <tr>\n",
              "      <th>3</th>\n",
              "      <td>21894</td>\n",
              "      <td>пиццетория</td>\n",
              "      <td>да</td>\n",
              "      <td>кафе</td>\n",
              "      <td>город москва, абрамцевская улица, дом 1</td>\n",
              "      <td>40</td>\n",
              "      <td>абрамцевская улица</td>\n",
              "    </tr>\n",
              "    <tr>\n",
              "      <th>4</th>\n",
              "      <td>119365</td>\n",
              "      <td>вишневая метель</td>\n",
              "      <td>нет</td>\n",
              "      <td>кафе</td>\n",
              "      <td>город москва, абрамцевская улица, дом 9, корпус 1</td>\n",
              "      <td>50</td>\n",
              "      <td>абрамцевская улица</td>\n",
              "    </tr>\n",
              "    <tr>\n",
              "      <th>...</th>\n",
              "      <td>...</td>\n",
              "      <td>...</td>\n",
              "      <td>...</td>\n",
              "      <td>...</td>\n",
              "      <td>...</td>\n",
              "      <td>...</td>\n",
              "      <td>...</td>\n",
              "    </tr>\n",
              "    <tr>\n",
              "      <th>15361</th>\n",
              "      <td>208537</td>\n",
              "      <td>шоколадница</td>\n",
              "      <td>да</td>\n",
              "      <td>кафе</td>\n",
              "      <td>город москва, 3-й крутицкий переулок, дом 18</td>\n",
              "      <td>50</td>\n",
              "      <td>3-й крутицкий переулок</td>\n",
              "    </tr>\n",
              "    <tr>\n",
              "      <th>15362</th>\n",
              "      <td>209264</td>\n",
              "      <td>шоколадница</td>\n",
              "      <td>да</td>\n",
              "      <td>кафе</td>\n",
              "      <td>город москва, улица земляной вал, дом 33</td>\n",
              "      <td>10</td>\n",
              "      <td>улица земляной вал</td>\n",
              "    </tr>\n",
              "    <tr>\n",
              "      <th>15363</th>\n",
              "      <td>209186</td>\n",
              "      <td>шоколадница</td>\n",
              "      <td>да</td>\n",
              "      <td>кафе</td>\n",
              "      <td>город москва, улица земляной вал, дом 33</td>\n",
              "      <td>20</td>\n",
              "      <td>улица земляной вал</td>\n",
              "    </tr>\n",
              "    <tr>\n",
              "      <th>15364</th>\n",
              "      <td>221900</td>\n",
              "      <td>шоколадница</td>\n",
              "      <td>да</td>\n",
              "      <td>кафе</td>\n",
              "      <td>город москва, поселение московский, киевское ш...</td>\n",
              "      <td>36</td>\n",
              "      <td>киевское шоссе</td>\n",
              "    </tr>\n",
              "    <tr>\n",
              "      <th>15365</th>\n",
              "      <td>222535</td>\n",
              "      <td>шоколадница</td>\n",
              "      <td>да</td>\n",
              "      <td>кафе</td>\n",
              "      <td>город москва, ходынский бульвар, дом 4</td>\n",
              "      <td>10</td>\n",
              "      <td>ходынский бульвар</td>\n",
              "    </tr>\n",
              "  </tbody>\n",
              "</table>\n",
              "<p>15366 rows × 7 columns</p>\n",
              "</div>"
            ],
            "text/plain": [
              "           id      object_name  ... number                  street\n",
              "0      151635          сметана  ...     48   улица егора абакумова\n",
              "1       77874           родник  ...     35        улица талалихина\n",
              "2       24309         академия  ...     95    абельмановская улица\n",
              "3       21894       пиццетория  ...     40      абрамцевская улица\n",
              "4      119365  вишневая метель  ...     50      абрамцевская улица\n",
              "...       ...              ...  ...    ...                     ...\n",
              "15361  208537      шоколадница  ...     50  3-й крутицкий переулок\n",
              "15362  209264      шоколадница  ...     10      улица земляной вал\n",
              "15363  209186      шоколадница  ...     20      улица земляной вал\n",
              "15364  221900      шоколадница  ...     36          киевское шоссе\n",
              "15365  222535      шоколадница  ...     10       ходынский бульвар\n",
              "\n",
              "[15366 rows x 7 columns]"
            ]
          },
          "metadata": {
            "tags": []
          },
          "execution_count": 53
        }
      ]
    },
    {
      "cell_type": "code",
      "metadata": {
        "colab": {
          "base_uri": "https://localhost:8080/",
          "height": 362
        },
        "id": "qdUfONq1GEt5",
        "outputId": "7be24e40-3d42-4c2f-c7b5-e25f996b6a68"
      },
      "source": [
        "street_count = rest_data.groupby('street').agg({'id': 'count', 'number' : 'median'}).reset_index().sort_values(by='id', ascending=False)\n",
        "street_count_head = street_count.head(10)\n",
        "street_count_head"
      ],
      "execution_count": null,
      "outputs": [
        {
          "output_type": "execute_result",
          "data": {
            "text/html": [
              "<div>\n",
              "<style scoped>\n",
              "    .dataframe tbody tr th:only-of-type {\n",
              "        vertical-align: middle;\n",
              "    }\n",
              "\n",
              "    .dataframe tbody tr th {\n",
              "        vertical-align: top;\n",
              "    }\n",
              "\n",
              "    .dataframe thead th {\n",
              "        text-align: right;\n",
              "    }\n",
              "</style>\n",
              "<table border=\"1\" class=\"dataframe\">\n",
              "  <thead>\n",
              "    <tr style=\"text-align: right;\">\n",
              "      <th></th>\n",
              "      <th>street</th>\n",
              "      <th>id</th>\n",
              "      <th>number</th>\n",
              "    </tr>\n",
              "  </thead>\n",
              "  <tbody>\n",
              "    <tr>\n",
              "      <th>1232</th>\n",
              "      <td>проспект мира</td>\n",
              "      <td>204</td>\n",
              "      <td>46.5</td>\n",
              "    </tr>\n",
              "    <tr>\n",
              "      <th>1236</th>\n",
              "      <td>профсоюзная улица</td>\n",
              "      <td>183</td>\n",
              "      <td>24.0</td>\n",
              "    </tr>\n",
              "    <tr>\n",
              "      <th>835</th>\n",
              "      <td>ленинградский проспект</td>\n",
              "      <td>173</td>\n",
              "      <td>40.0</td>\n",
              "    </tr>\n",
              "    <tr>\n",
              "      <th>1187</th>\n",
              "      <td>пресненская набережная</td>\n",
              "      <td>167</td>\n",
              "      <td>30.0</td>\n",
              "    </tr>\n",
              "    <tr>\n",
              "      <th>427</th>\n",
              "      <td>варшавское шоссе</td>\n",
              "      <td>162</td>\n",
              "      <td>30.0</td>\n",
              "    </tr>\n",
              "    <tr>\n",
              "      <th>838</th>\n",
              "      <td>ленинский проспект</td>\n",
              "      <td>148</td>\n",
              "      <td>45.0</td>\n",
              "    </tr>\n",
              "    <tr>\n",
              "      <th>1228</th>\n",
              "      <td>проспект вернадского</td>\n",
              "      <td>132</td>\n",
              "      <td>40.0</td>\n",
              "    </tr>\n",
              "    <tr>\n",
              "      <th>826</th>\n",
              "      <td>кутузовский проспект</td>\n",
              "      <td>114</td>\n",
              "      <td>40.0</td>\n",
              "    </tr>\n",
              "    <tr>\n",
              "      <th>640</th>\n",
              "      <td>каширское шоссе</td>\n",
              "      <td>112</td>\n",
              "      <td>25.0</td>\n",
              "    </tr>\n",
              "    <tr>\n",
              "      <th>649</th>\n",
              "      <td>кировоградская улица</td>\n",
              "      <td>110</td>\n",
              "      <td>30.0</td>\n",
              "    </tr>\n",
              "  </tbody>\n",
              "</table>\n",
              "</div>"
            ],
            "text/plain": [
              "                      street   id  number\n",
              "1232           проспект мира  204    46.5\n",
              "1236       профсоюзная улица  183    24.0\n",
              "835   ленинградский проспект  173    40.0\n",
              "1187  пресненская набережная  167    30.0\n",
              "427         варшавское шоссе  162    30.0\n",
              "838       ленинский проспект  148    45.0\n",
              "1228    проспект вернадского  132    40.0\n",
              "826     кутузовский проспект  114    40.0\n",
              "640          каширское шоссе  112    25.0\n",
              "649     кировоградская улица  110    30.0"
            ]
          },
          "metadata": {
            "tags": []
          },
          "execution_count": 54
        }
      ]
    },
    {
      "cell_type": "code",
      "metadata": {
        "colab": {
          "base_uri": "https://localhost:8080/",
          "height": 513
        },
        "id": "H8mLG2fbGmoO",
        "outputId": "e7ae0792-2b5f-4e48-90ca-4ed01472d8c4"
      },
      "source": [
        "plt.figure(figsize=(16,8))\n",
        "sns.set_palette('muted') \n",
        "sns.set_style(\"whitegrid\")\n",
        "ax = sns.barplot(data=street_count_head, y=\"street\", x=\"id\")\n",
        "ax.set_title(\"Топ-10 улиц по количеству объектов общественного питания\")\n",
        "ax.set_ylabel(\"\")\n",
        "ax.set_xlabel(\"Заведения общественного питания, шт.\")\n",
        "plt.show()\n",
        "plt.close()"
      ],
      "execution_count": null,
      "outputs": [
        {
          "output_type": "display_data",
          "data": {
            "image/png": "[encoded data removed]",
            "text/plain": [
              "<Figure size 1152x576 with 1 Axes>"
            ]
          },
          "metadata": {
            "tags": []
          }
        }
      ]
    },
    {
      "cell_type": "markdown",
      "metadata": {
        "id": "pO9btaAP9Gl9"
      },
      "source": [
        "Распределение наиболее густозаселенных заведениями улиц по районам и округам:\n",
        "* Проспект Мира: СВАО(а именно: Мещанский, Марьина Роща, Алексеевский, Останкинский, Свиблово, Ростокино)\n",
        "* Профсоюзная улица: ЮЗАО (а именно: Академический, Коньково, Обручевский, Тёплый Стан, Черёмушки, Ясенево)\n",
        "* Ленинградский проспект: САО (а именно: Беговой, Аэропорт, Сокол, Хорошёвский)\n",
        "* Пресненская набережная: ЦАО (а именно: Пресненский)\n",
        "* Варшавское шоссе: ЮЗАО (а именно: Донской, Нагатино-Садовники, Нагорный)\n",
        "* Ленинский проспект: ЮЗАО (а именно: Гагаринский и Донской)\n",
        "* Проспект Вернадского: ЗАО (а именно: Проспект Вернадского)\n",
        "* Кутузовский проспект: ЗАО (а именно: Дорогомилово, Фили-Давыдково)\n",
        "* Каширское шоссе: ЮАО (а именно: Нагатино-Садовники и Нагорный)\n",
        "* Кировоградская улица: ЮАО (а именно: Чертаново Северное, Чертаново Центральное и Чертаново Южное)\n",
        "\n",
        "Наиболее популярные округа для заведений общепита: ЮЗАО, ЗАО, ЮАО, а именно юг оранжевой и серой ветки г. Москвы, не прилегающий к центру города, находятся в 3-4 станциях от кольцевой. То есть чаще открываются заведения в спальных районах, скорее всего в расчете на то, что люди скорее зайдут в ближайшее заведение, чем поедут куда-то далеко.\n",
        "\n",
        "**[Анализ наименее популярных районов для заведений](#unpopular_street)**\n",
        "\n",
        "Посмотрим, на каких улицах располагается только одно заведение и изучим, в каких районах располагаются такие заведения."
      ]
    },
    {
      "cell_type": "code",
      "metadata": {
        "colab": {
          "base_uri": "https://localhost:8080/"
        },
        "id": "reieZ7dPL1pR",
        "outputId": "cb218cd6-2487-4cbf-f553-7824c6340068"
      },
      "source": [
        "unpopular_street = street_count.query('id == \"1\"')\n",
        "print('Всего улиц с 1 объектом общественного питания: {}, что составляет {:.1%} от всего кол-ва улиц с объектами общественного питания'\\\n",
        "      .format(len(unpopular_street), (len(unpopular_street)/len(street_count))))"
      ],
      "execution_count": null,
      "outputs": [
        {
          "output_type": "stream",
          "text": [
            "Всего улиц с 1 объектом общественного питания: 652, что составляет 32.1% от всего кол-ва улиц с объектами общественного питания\n"
          ],
          "name": "stdout"
        }
      ]
    },
    {
      "cell_type": "code",
      "metadata": {
        "id": "1L_k4RVPcKtc",
        "colab": {
          "base_uri": "https://localhost:8080/",
          "height": 362
        },
        "outputId": "db10661c-c238-4404-f2f7-b8d460f73ec7"
      },
      "source": [
        "from io import BytesIO\n",
        "import requests\n",
        "spreadsheet_id = '1gKh1MjZk6oa_b7qggRm9wGai_nLfbDIhDMhwWscqCao'\n",
        "file_name = 'https://docs.google.com/spreadsheets/d/{}/export?format=csv'.format(spreadsheet_id)\n",
        "r = requests.get(file_name)\n",
        "district = pd.read_csv(BytesIO(r.content))\n",
        "district.head(10)"
      ],
      "execution_count": null,
      "outputs": [
        {
          "output_type": "execute_result",
          "data": {
            "text/html": [
              "<div>\n",
              "<style scoped>\n",
              "    .dataframe tbody tr th:only-of-type {\n",
              "        vertical-align: middle;\n",
              "    }\n",
              "\n",
              "    .dataframe tbody tr th {\n",
              "        vertical-align: top;\n",
              "    }\n",
              "\n",
              "    .dataframe thead th {\n",
              "        text-align: right;\n",
              "    }\n",
              "</style>\n",
              "<table border=\"1\" class=\"dataframe\">\n",
              "  <thead>\n",
              "    <tr style=\"text-align: right;\">\n",
              "      <th></th>\n",
              "      <th>streetname</th>\n",
              "      <th>areaid</th>\n",
              "      <th>okrug</th>\n",
              "      <th>area</th>\n",
              "    </tr>\n",
              "  </thead>\n",
              "  <tbody>\n",
              "    <tr>\n",
              "      <th>0</th>\n",
              "      <td>Выставочный переулок</td>\n",
              "      <td>17.0</td>\n",
              "      <td>ЦАО</td>\n",
              "      <td>Пресненский район</td>\n",
              "    </tr>\n",
              "    <tr>\n",
              "      <th>1</th>\n",
              "      <td>улица Гашека</td>\n",
              "      <td>17.0</td>\n",
              "      <td>ЦАО</td>\n",
              "      <td>Пресненский район</td>\n",
              "    </tr>\n",
              "    <tr>\n",
              "      <th>2</th>\n",
              "      <td>Большая Никитская улица</td>\n",
              "      <td>17.0</td>\n",
              "      <td>ЦАО</td>\n",
              "      <td>Пресненский район</td>\n",
              "    </tr>\n",
              "    <tr>\n",
              "      <th>3</th>\n",
              "      <td>Глубокий переулок</td>\n",
              "      <td>17.0</td>\n",
              "      <td>ЦАО</td>\n",
              "      <td>Пресненский район</td>\n",
              "    </tr>\n",
              "    <tr>\n",
              "      <th>4</th>\n",
              "      <td>Большой Гнездниковский переулок</td>\n",
              "      <td>17.0</td>\n",
              "      <td>ЦАО</td>\n",
              "      <td>Пресненский район</td>\n",
              "    </tr>\n",
              "    <tr>\n",
              "      <th>5</th>\n",
              "      <td>Малый Гнездниковский переулок</td>\n",
              "      <td>17.0</td>\n",
              "      <td>ЦАО</td>\n",
              "      <td>Пресненский район</td>\n",
              "    </tr>\n",
              "    <tr>\n",
              "      <th>6</th>\n",
              "      <td>Большая Грузинская улица</td>\n",
              "      <td>17.0</td>\n",
              "      <td>ЦАО</td>\n",
              "      <td>Пресненский район</td>\n",
              "    </tr>\n",
              "    <tr>\n",
              "      <th>7</th>\n",
              "      <td>Малая Грузинская улица</td>\n",
              "      <td>17.0</td>\n",
              "      <td>ЦАО</td>\n",
              "      <td>Пресненский район</td>\n",
              "    </tr>\n",
              "    <tr>\n",
              "      <th>8</th>\n",
              "      <td>Грузинская площадь</td>\n",
              "      <td>17.0</td>\n",
              "      <td>ЦАО</td>\n",
              "      <td>Пресненский район</td>\n",
              "    </tr>\n",
              "    <tr>\n",
              "      <th>9</th>\n",
              "      <td>улица Грузинский Вал</td>\n",
              "      <td>17.0</td>\n",
              "      <td>ЦАО</td>\n",
              "      <td>Пресненский район</td>\n",
              "    </tr>\n",
              "  </tbody>\n",
              "</table>\n",
              "</div>"
            ],
            "text/plain": [
              "                        streetname  areaid okrug               area\n",
              "0             Выставочный переулок    17.0   ЦАО  Пресненский район\n",
              "1                     улица Гашека    17.0   ЦАО  Пресненский район\n",
              "2          Большая Никитская улица    17.0   ЦАО  Пресненский район\n",
              "3                Глубокий переулок    17.0   ЦАО  Пресненский район\n",
              "4  Большой Гнездниковский переулок    17.0   ЦАО  Пресненский район\n",
              "5    Малый Гнездниковский переулок    17.0   ЦАО  Пресненский район\n",
              "6         Большая Грузинская улица    17.0   ЦАО  Пресненский район\n",
              "7           Малая Грузинская улица    17.0   ЦАО  Пресненский район\n",
              "8               Грузинская площадь    17.0   ЦАО  Пресненский район\n",
              "9             улица Грузинский Вал    17.0   ЦАО  Пресненский район"
            ]
          },
          "metadata": {
            "tags": []
          },
          "execution_count": 57
        }
      ]
    },
    {
      "cell_type": "code",
      "metadata": {
        "colab": {
          "base_uri": "https://localhost:8080/",
          "height": 424
        },
        "id": "ULAN-j-9Swxb",
        "outputId": "9d61a877-5356-4eef-bddc-a23839f48e4d"
      },
      "source": [
        "district['streetname'] = district['streetname'].str.lower()\n",
        "district"
      ],
      "execution_count": null,
      "outputs": [
        {
          "output_type": "execute_result",
          "data": {
            "text/html": [
              "<div>\n",
              "<style scoped>\n",
              "    .dataframe tbody tr th:only-of-type {\n",
              "        vertical-align: middle;\n",
              "    }\n",
              "\n",
              "    .dataframe tbody tr th {\n",
              "        vertical-align: top;\n",
              "    }\n",
              "\n",
              "    .dataframe thead th {\n",
              "        text-align: right;\n",
              "    }\n",
              "</style>\n",
              "<table border=\"1\" class=\"dataframe\">\n",
              "  <thead>\n",
              "    <tr style=\"text-align: right;\">\n",
              "      <th></th>\n",
              "      <th>streetname</th>\n",
              "      <th>areaid</th>\n",
              "      <th>okrug</th>\n",
              "      <th>area</th>\n",
              "    </tr>\n",
              "  </thead>\n",
              "  <tbody>\n",
              "    <tr>\n",
              "      <th>0</th>\n",
              "      <td>выставочный переулок</td>\n",
              "      <td>17.0</td>\n",
              "      <td>ЦАО</td>\n",
              "      <td>Пресненский район</td>\n",
              "    </tr>\n",
              "    <tr>\n",
              "      <th>1</th>\n",
              "      <td>улица гашека</td>\n",
              "      <td>17.0</td>\n",
              "      <td>ЦАО</td>\n",
              "      <td>Пресненский район</td>\n",
              "    </tr>\n",
              "    <tr>\n",
              "      <th>2</th>\n",
              "      <td>большая никитская улица</td>\n",
              "      <td>17.0</td>\n",
              "      <td>ЦАО</td>\n",
              "      <td>Пресненский район</td>\n",
              "    </tr>\n",
              "    <tr>\n",
              "      <th>3</th>\n",
              "      <td>глубокий переулок</td>\n",
              "      <td>17.0</td>\n",
              "      <td>ЦАО</td>\n",
              "      <td>Пресненский район</td>\n",
              "    </tr>\n",
              "    <tr>\n",
              "      <th>4</th>\n",
              "      <td>большой гнездниковский переулок</td>\n",
              "      <td>17.0</td>\n",
              "      <td>ЦАО</td>\n",
              "      <td>Пресненский район</td>\n",
              "    </tr>\n",
              "    <tr>\n",
              "      <th>...</th>\n",
              "      <td>...</td>\n",
              "      <td>...</td>\n",
              "      <td>...</td>\n",
              "      <td>...</td>\n",
              "    </tr>\n",
              "    <tr>\n",
              "      <th>4393</th>\n",
              "      <td>вознесенский проезд</td>\n",
              "      <td>17.0</td>\n",
              "      <td>ЦАО</td>\n",
              "      <td>Пресненский район</td>\n",
              "    </tr>\n",
              "    <tr>\n",
              "      <th>4394</th>\n",
              "      <td>волков переулок</td>\n",
              "      <td>17.0</td>\n",
              "      <td>ЦАО</td>\n",
              "      <td>Пресненский район</td>\n",
              "    </tr>\n",
              "    <tr>\n",
              "      <th>4395</th>\n",
              "      <td>поварская улица</td>\n",
              "      <td>17.0</td>\n",
              "      <td>ЦАО</td>\n",
              "      <td>Пресненский район</td>\n",
              "    </tr>\n",
              "    <tr>\n",
              "      <th>4396</th>\n",
              "      <td>кудринская площадь</td>\n",
              "      <td>17.0</td>\n",
              "      <td>ЦАО</td>\n",
              "      <td>Пресненский район</td>\n",
              "    </tr>\n",
              "    <tr>\n",
              "      <th>4397</th>\n",
              "      <td>вспольный переулок</td>\n",
              "      <td>17.0</td>\n",
              "      <td>ЦАО</td>\n",
              "      <td>Пресненский район</td>\n",
              "    </tr>\n",
              "  </tbody>\n",
              "</table>\n",
              "<p>4398 rows × 4 columns</p>\n",
              "</div>"
            ],
            "text/plain": [
              "                           streetname  areaid okrug               area\n",
              "0                выставочный переулок    17.0   ЦАО  Пресненский район\n",
              "1                        улица гашека    17.0   ЦАО  Пресненский район\n",
              "2             большая никитская улица    17.0   ЦАО  Пресненский район\n",
              "3                   глубокий переулок    17.0   ЦАО  Пресненский район\n",
              "4     большой гнездниковский переулок    17.0   ЦАО  Пресненский район\n",
              "...                               ...     ...   ...                ...\n",
              "4393              вознесенский проезд    17.0   ЦАО  Пресненский район\n",
              "4394                  волков переулок    17.0   ЦАО  Пресненский район\n",
              "4395                  поварская улица    17.0   ЦАО  Пресненский район\n",
              "4396               кудринская площадь    17.0   ЦАО  Пресненский район\n",
              "4397               вспольный переулок    17.0   ЦАО  Пресненский район\n",
              "\n",
              "[4398 rows x 4 columns]"
            ]
          },
          "metadata": {
            "tags": []
          },
          "execution_count": 58
        }
      ]
    },
    {
      "cell_type": "code",
      "metadata": {
        "colab": {
          "base_uri": "https://localhost:8080/",
          "height": 362
        },
        "id": "Fpx0VCLOSoo1",
        "outputId": "0487ebb4-1085-4999-f860-e4e247648e0f"
      },
      "source": [
        "unpopular_merged = unpopular_street.merge(district[['streetname', 'okrug', 'area']], left_on='street', right_on='streetname')\n",
        "display(unpopular_merged.groupby('area')['id'].count().reset_index().sort_values(by='id').head(10))"
      ],
      "execution_count": null,
      "outputs": [
        {
          "output_type": "display_data",
          "data": {
            "text/html": [
              "<div>\n",
              "<style scoped>\n",
              "    .dataframe tbody tr th:only-of-type {\n",
              "        vertical-align: middle;\n",
              "    }\n",
              "\n",
              "    .dataframe tbody tr th {\n",
              "        vertical-align: top;\n",
              "    }\n",
              "\n",
              "    .dataframe thead th {\n",
              "        text-align: right;\n",
              "    }\n",
              "</style>\n",
              "<table border=\"1\" class=\"dataframe\">\n",
              "  <thead>\n",
              "    <tr style=\"text-align: right;\">\n",
              "      <th></th>\n",
              "      <th>area</th>\n",
              "      <th>id</th>\n",
              "    </tr>\n",
              "  </thead>\n",
              "  <tbody>\n",
              "    <tr>\n",
              "      <th>52</th>\n",
              "      <td>Район Марьино</td>\n",
              "      <td>1</td>\n",
              "    </tr>\n",
              "    <tr>\n",
              "      <th>56</th>\n",
              "      <td>Район Москворечье-Сабурово</td>\n",
              "      <td>1</td>\n",
              "    </tr>\n",
              "    <tr>\n",
              "      <th>57</th>\n",
              "      <td>Район Нагатино-Садовники</td>\n",
              "      <td>1</td>\n",
              "    </tr>\n",
              "    <tr>\n",
              "      <th>15</th>\n",
              "      <td>Молжаниновский район</td>\n",
              "      <td>1</td>\n",
              "    </tr>\n",
              "    <tr>\n",
              "      <th>84</th>\n",
              "      <td>Район Чертаново Северное</td>\n",
              "      <td>1</td>\n",
              "    </tr>\n",
              "    <tr>\n",
              "      <th>88</th>\n",
              "      <td>Район Южное Медведково</td>\n",
              "      <td>1</td>\n",
              "    </tr>\n",
              "    <tr>\n",
              "      <th>85</th>\n",
              "      <td>Район Чертаново Южное</td>\n",
              "      <td>1</td>\n",
              "    </tr>\n",
              "    <tr>\n",
              "      <th>29</th>\n",
              "      <td>Район Восточный</td>\n",
              "      <td>1</td>\n",
              "    </tr>\n",
              "    <tr>\n",
              "      <th>50</th>\n",
              "      <td>Район Марфино</td>\n",
              "      <td>1</td>\n",
              "    </tr>\n",
              "    <tr>\n",
              "      <th>48</th>\n",
              "      <td>Район Лианозово</td>\n",
              "      <td>1</td>\n",
              "    </tr>\n",
              "  </tbody>\n",
              "</table>\n",
              "</div>"
            ],
            "text/plain": [
              "                          area  id\n",
              "52               Район Марьино   1\n",
              "56  Район Москворечье-Сабурово   1\n",
              "57    Район Нагатино-Садовники   1\n",
              "15        Молжаниновский район   1\n",
              "84    Район Чертаново Северное   1\n",
              "88      Район Южное Медведково   1\n",
              "85       Район Чертаново Южное   1\n",
              "29             Район Восточный   1\n",
              "50               Район Марфино   1\n",
              "48             Район Лианозово   1"
            ]
          },
          "metadata": {
            "tags": []
          }
        }
      ]
    },
    {
      "cell_type": "code",
      "metadata": {
        "colab": {
          "base_uri": "https://localhost:8080/",
          "height": 362
        },
        "id": "aberrkYkqF5F",
        "outputId": "0ea3f59f-4625-478c-a5c0-2442f02b25ad"
      },
      "source": [
        "display(unpopular_merged.groupby('area')['id'].count().reset_index().sort_values(by='id').tail(10))"
      ],
      "execution_count": null,
      "outputs": [
        {
          "output_type": "display_data",
          "data": {
            "text/html": [
              "<div>\n",
              "<style scoped>\n",
              "    .dataframe tbody tr th:only-of-type {\n",
              "        vertical-align: middle;\n",
              "    }\n",
              "\n",
              "    .dataframe tbody tr th {\n",
              "        vertical-align: top;\n",
              "    }\n",
              "\n",
              "    .dataframe thead th {\n",
              "        text-align: right;\n",
              "    }\n",
              "</style>\n",
              "<table border=\"1\" class=\"dataframe\">\n",
              "  <thead>\n",
              "    <tr style=\"text-align: right;\">\n",
              "      <th></th>\n",
              "      <th>area</th>\n",
              "      <th>id</th>\n",
              "    </tr>\n",
              "  </thead>\n",
              "  <tbody>\n",
              "    <tr>\n",
              "      <th>33</th>\n",
              "      <td>Район Замоскворечье</td>\n",
              "      <td>14</td>\n",
              "    </tr>\n",
              "    <tr>\n",
              "      <th>75</th>\n",
              "      <td>Район Сокольники</td>\n",
              "      <td>15</td>\n",
              "    </tr>\n",
              "    <tr>\n",
              "      <th>13</th>\n",
              "      <td>Мещанский район</td>\n",
              "      <td>15</td>\n",
              "    </tr>\n",
              "    <tr>\n",
              "      <th>22</th>\n",
              "      <td>Район Арбат</td>\n",
              "      <td>18</td>\n",
              "    </tr>\n",
              "    <tr>\n",
              "      <th>51</th>\n",
              "      <td>Район Марьина роща</td>\n",
              "      <td>18</td>\n",
              "    </tr>\n",
              "    <tr>\n",
              "      <th>95</th>\n",
              "      <td>Тверской район</td>\n",
              "      <td>20</td>\n",
              "    </tr>\n",
              "    <tr>\n",
              "      <th>21</th>\n",
              "      <td>Пресненский район</td>\n",
              "      <td>20</td>\n",
              "    </tr>\n",
              "    <tr>\n",
              "      <th>3</th>\n",
              "      <td>Басманный район</td>\n",
              "      <td>21</td>\n",
              "    </tr>\n",
              "    <tr>\n",
              "      <th>80</th>\n",
              "      <td>Район Хамовники</td>\n",
              "      <td>24</td>\n",
              "    </tr>\n",
              "    <tr>\n",
              "      <th>94</th>\n",
              "      <td>Таганский район</td>\n",
              "      <td>27</td>\n",
              "    </tr>\n",
              "  </tbody>\n",
              "</table>\n",
              "</div>"
            ],
            "text/plain": [
              "                   area  id\n",
              "33  Район Замоскворечье  14\n",
              "75     Район Сокольники  15\n",
              "13      Мещанский район  15\n",
              "22          Район Арбат  18\n",
              "51   Район Марьина роща  18\n",
              "95       Тверской район  20\n",
              "21    Пресненский район  20\n",
              "3       Басманный район  21\n",
              "80      Район Хамовники  24\n",
              "94      Таганский район  27"
            ]
          },
          "metadata": {
            "tags": []
          }
        }
      ]
    },
    {
      "cell_type": "markdown",
      "metadata": {
        "id": "Sy6FHhPWqE_c"
      },
      "source": [
        "Всего улиц с 1 объектом общественного питания: 652, что составляет 32.1% от всего кол-ва улиц с объектами общественного питания.\n",
        "\n",
        "Больше всего улиц с одним объектом общественного питания в центре города: Таганский, Хамовники, Басманный, Пресненский, Тверской. Возможно одна из причин такого распределения - много маленьких улиц в центре. По одному объекту общесвтенного питания было определено в спальных районах, среди них встречаются районы, которые вошли в список наиболее популярных районов, что возможно связано с привязкой улицы к району, где могут быть некоторые неточности.\n",
        "\n",
        "**[Изучение количества посадочных мест заведения на популярных улицах](#number_popular_street)**"
      ]
    },
    {
      "cell_type": "code",
      "metadata": {
        "id": "ETItLMy30gvN"
      },
      "source": [
        "top10_streets_list = street_count_head['street'].to_list()\n",
        "top10_streets_data = rest_data.query('street in @top10_streets_list')"
      ],
      "execution_count": null,
      "outputs": []
    },
    {
      "cell_type": "code",
      "metadata": {
        "colab": {
          "base_uri": "https://localhost:8080/",
          "height": 513
        },
        "id": "2wiQRDn3rBB3",
        "outputId": "27661c74-3594-49e5-e7a7-74a8c6c36429"
      },
      "source": [
        "top10_streets_data['number'].median()\n",
        "rest_data['number'].median()\n",
        "plt.figure(figsize=(16,8))\n",
        "sns.set_palette('muted') \n",
        "sns.set_style(\"whitegrid\")\n",
        "ax = sns.boxplot(data=top10_streets_data, x='number', y='street')\n",
        "ax.set_xlim(-10,700)\n",
        "plt.title('Распределение количества посадочных мест для топ-10 улиц по количеству объектов')\n",
        "plt.ylabel('')\n",
        "plt.xlabel('Посадочные места, шт.')\n",
        "plt.show()"
      ],
      "execution_count": null,
      "outputs": [
        {
          "output_type": "display_data",
          "data": {
            "image/png": "[encoded data removed]",
            "text/plain": [
              "<Figure size 1152x576 with 1 Axes>"
            ]
          },
          "metadata": {
            "tags": []
          }
        }
      ]
    },
    {
      "cell_type": "markdown",
      "metadata": {
        "id": "0kmsI_F3S2yN"
      },
      "source": [
        "В среднем на самых густонаполненных заведениями улицах - 20-50 посадочных мест, а выбросы для каждой улицы начинаются после 150 посадочных мест.\n",
        "\n",
        "## [Вывод и рекомендации](#conclusion)\n",
        "\n",
        "* Больше всего в Москве кафе, столовых, ресторанов и фаст-фуда;\n",
        "* Кулинарии и закусочные наименее популярные виды общепита в Москве;\n",
        "* В среднем самое большое количество посадочных мест в столовых и ресторанах;\n",
        "* Зведения фаст-фуда и кафетерии обычно не располагают большим количеством посадочных мест;\n",
        "* Несетевые заведения составляют почти 81% всех заведений города;\n",
        "* Для сетевых заведений характерно много заведений с небольшим количеством посадочных мест;\n",
        "* Сетевыми чаще всего являются кафе, фаст-фуд и рестораны;\n",
        "* Наиболее популярные районы для заведений общепита:\n",
        "      - Московский международный деловой центр Москва-Сити;\n",
        "      - район Чертаново Центральное;\n",
        "      - район Тропарёво-Никулино;\n",
        "      - Мещанский район;\n",
        "      - район Свиблово;\n",
        "      - район Аэропорт;\n",
        "      - район Дорогомилово;\n",
        "      - район Нагатино-Садовники;\n",
        "      - район Фили-Давыдково;\n",
        "      - Алексеевский район.\n",
        "* Наименее популярные районы с большим количеством улиц с одним заведением находятся в основном в центре:\n",
        "      - Таганский район - 27 улиц с одним объектом;\n",
        "      - Тверской район - 23 улицы с одним объектом;\n",
        "      - Басманный район - 23 улицы с одним объектом;\n",
        "      - район Марьина Роща - 19 улиц с одним объектом;\n",
        "      - Пресненский район - 17 улиц с одним объектом;\n",
        "      - район Богородское - 13 улиц с одним объектом;\n",
        "      - Даниловский район - 12 улиц с один объектом;\n",
        "      - Мещанский район - 12 улиц с одним объектом;\n",
        "      - район Замоскворечье - 12 улиц с одним объектом;\n",
        "      - район Соколиная гора - 11 улиц с одним объектом.\n",
        "* В среднем в популярных райнах среди заведений находятся заведения с 20-50 посадочными местами.\n",
        "\n",
        "**На основе полученной информации можно говорить о том, что:**\n",
        "* Выбирая тип заведения, лучше остановиться на кафе или ресторане. Да, их много, но они популярны.\n",
        "* Распространение несетвых заведений общепита выше, чем сетевых, так что скорее всего сетевые заведения менее выгодны и за счет этого они чаще закрываются в том или ином месте.\n",
        "* Заведение лучше открывать не в центре города, а в относительно спальных районах, если точнее, то: район Чертаново, Свиблово, Аэропорт, Деловой центр, Тропарёво-Никулино. В этих районах высокая концентрация заведений, за счет чего там выше проходимсть и при правильно построенной концепции и маркетинге - можно привлечь большое количество посетителей. \n",
        "\n",
        "Ссылка на презентацию: https://disk.yandex.ru/i/Yd4jD6_hjdWOPA\n"
      ]
    }
  ]
}
